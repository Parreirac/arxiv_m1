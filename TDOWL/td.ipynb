{
 "cells": [
  {
   "cell_type": "markdown",
   "source": [
    "# Objectifs de ce Notebook\n",
    "En application du TD3, je vais explorer ce que l’on pourrait faire avec les ontologies côté arXive, sur le modèle de ce que propose HAL. (Il y a donc in fine l’idée de proposer pour arXive une ontologie sommaire pour le domaine cs.AI. Du coup, je ne créé pas ici d’ontologie dans protégé, je le ferai plus tard pour correspondre au projet fil rouge (PFR) sur arXive.)\n",
    "Dans le cadre du PFR, on pourrait vérifier/compléter nos données avec des requêtes dans des endpoints HAL (par exemple rechercher un doc archive dans HAL, ou des auteurs) ou d’autres.\n",
    "Je vais créer une ontologie simple, directement avec owlready2, puis je vais la peupler avec SPARQLWrapper.\n",
    "Dans un 3e temps je vais tenter d’explorer l’emploi du raisonneur, voire d’autres éléments."
   ],
   "metadata": {
    "collapsed": false
   }
  },
  {
   "cell_type": "markdown",
   "source": [
    "## I. Création de l’ontologie dans PYTHON\n",
    "\n",
    "### I. Création"
   ],
   "metadata": {
    "collapsed": false
   }
  },
  {
   "cell_type": "code",
   "execution_count": 1,
   "outputs": [
    {
     "name": "stderr",
     "output_type": "stream",
     "text": [
      "* Owlready2 * WARNING: DataProperty http://xmlns.com/foaf/0.1/nick belongs to more than one entity types: [owl.ObjectProperty, owl.DatatypeProperty]; I'm trying to fix it...\n",
      "* Owlready2 * WARNING: DataProperty http://xmlns.com/foaf/0.1/aimChatID belongs to more than one entity types: [owl.ObjectProperty, owl.InverseFunctionalProperty, owl.DatatypeProperty, foaf.nick]; I'm trying to fix it...\n",
      "* Owlready2 * WARNING: DataProperty http://xmlns.com/foaf/0.1/icqChatID belongs to more than one entity types: [owl.ObjectProperty, owl.InverseFunctionalProperty, owl.DatatypeProperty, foaf.nick]; I'm trying to fix it...\n",
      "* Owlready2 * WARNING: DataProperty http://xmlns.com/foaf/0.1/jabberID belongs to more than one entity types: [owl.ObjectProperty, owl.InverseFunctionalProperty, owl.DatatypeProperty]; I'm trying to fix it...\n",
      "* Owlready2 * WARNING: DataProperty http://xmlns.com/foaf/0.1/mbox_sha1sum belongs to more than one entity types: [owl.ObjectProperty, owl.InverseFunctionalProperty, owl.DatatypeProperty]; I'm trying to fix it...\n",
      "* Owlready2 * WARNING: DataProperty http://xmlns.com/foaf/0.1/msnChatID belongs to more than one entity types: [owl.ObjectProperty, owl.InverseFunctionalProperty, owl.DatatypeProperty, foaf.nick]; I'm trying to fix it...\n",
      "* Owlready2 * WARNING: DataProperty http://xmlns.com/foaf/0.1/skypeID belongs to more than one entity types: [owl.ObjectProperty, owl.DatatypeProperty, foaf.nick]; I'm trying to fix it...\n",
      "* Owlready2 * WARNING: DataProperty http://xmlns.com/foaf/0.1/yahooChatID belongs to more than one entity types: [owl.ObjectProperty, owl.InverseFunctionalProperty, owl.DatatypeProperty, foaf.nick]; I'm trying to fix it...\n"
     ]
    }
   ],
   "source": [
    "from owlready2 import *\n",
    "from SPARQLWrapper import *\n",
    "import logging  # Pour le debug !\n",
    "#from rdflib.namespace._FOAF import FOAF  # génère un warning\n",
    "\n",
    "\n",
    "import sys\n",
    "\n",
    "\n",
    "# Je vais modifier l'ontologie du TD, je la renomme. Elle sera basée sur FOAF puisque HAL l'utilise.\n",
    "onto = get_ontology('https://cp.org/prepaFilRouge.owl#')\n",
    "foaf = get_ontology('foaf.owl').load()\n",
    "onto.imported_ontologies.append(foaf)"
   ],
   "metadata": {
    "collapsed": false
   }
  },
  {
   "cell_type": "code",
   "execution_count": 2,
   "outputs": [],
   "source": [
    "with onto:\n",
    "\n",
    "    class Personne(foaf.Person): pass\n",
    "    Personne.comment = [\"Définition de la classe Personne qui spécialise foaf.Person\"]\n",
    "\n",
    "    class halPerson(Personne >> foaf.Person): pass\n",
    "    halPerson.comment = [\" link to foaf.Person from HAL, not necessary HalID !\"]\n",
    "\n",
    "    class halIdPerson(Personne >> foaf.Person, FunctionalProperty): pass\n",
    "    halIdPerson.comment = [\" link to halId\"]\n",
    "\n",
    "    class fullName(Personne >> str,FunctionalProperty): pass\n",
    "    fullName.comment = [\"Remplace name, déjà pris par owlready2\"]\n",
    "\n",
    "\n",
    "    class Publication(foaf.Document): pass\n",
    "    Publication.comment = [\"Définition de la classe Publication qui spéciffie foaf.Document\"]\n",
    "    Publication.comment.append(\"in fine, comme dans HAL on devrait pouvoir décrire le type d'un document dans arXive : préprint, affiche, these, livre, rapport\")\n",
    "\n",
    "    class halDocument(Publication >> foaf.Document, FunctionalProperty): pass  # TODO test pb en fonction de la version du doc ?\n",
    "    halDocument.comment = [\"lien vers le depot HAL\"]\n",
    "\n",
    "    class arXiveDocument(Publication >> foaf.Document,FunctionalProperty ) : pass\n",
    "    arXiveDocument.comment = [\"lien vers le depot arXive\"]\n",
    "\n",
    "    class ecrit(Personne >> Publication): pass\n",
    "\n",
    "    class ecritPar(Publication >> Personne ):\n",
    "        inverse = ecrit\n",
    "\n",
    "    class maPublication(ObjectProperty):\n",
    "        domaine = [foaf.Person |foaf.Document] # ce type de ligne, avec un ou n'est pas sauvegardé dans le fichier owl.\n",
    "        range = [Publication]\n",
    "    maPublication.comment = [\"lien vers Publication, pour le raisonneur\"]\n",
    "\n",
    "    class maPersonne(ObjectProperty):\n",
    "        domaine = [foaf.Person |foaf.Document]\n",
    "        range = [Personne]\n",
    "    maPersonne.comment = [\"lien vers Personne, pour le raisonneur\"]\n",
    "\n",
    "    class monFoafEcritPar(ObjectProperty):\n",
    "        domaine = [foaf.Document]\n",
    "        range = [foaf.Person]\n",
    "        inverse = foaf.publications\n",
    "    monFoafEcritPar.comment =[\"fonction inverse de foaf.publications\"]\n",
    "\n",
    "\n",
    "    class Affiliation(foaf.Organization): pass\n",
    "\n",
    "    class label(Affiliation >> str,FunctionalProperty): pass # DataProperty):\n",
    "        #domaine = [Affiliation]\n",
    "        #range = [str] # , FunctionalProperty): pass\n",
    "    label.comment = [\" Le prefLabel d'une organization\"]\n",
    "\n",
    "    class url(Affiliation >> str,FunctionalProperty): pass\n",
    "        #domaine = [Affiliation]\n",
    "        #range = str\n",
    "    url.comment = [\"L'url de l'organisazion, presque foaf.homepage mais sans imposer un foaf.Document \"]\n",
    "\n",
    "    class status(Affiliation>>str, FunctionalProperty):pass #DataProperty\n",
    "    status.comment = [\"Indique l'état actuel de l'organization, typiquement valid ou old\"]\n",
    "\n",
    "    class affiliationType (Affiliation >>str, FunctionalProperty ):pass\n",
    "    affiliationType.comment = [\"Caractérise l'organisation : institution, comme une école, Laboratory ou Researchteam au sein d'un labo\"]\n",
    "    affiliationType.comment.append(\"Pour le moment je ne gère pas la relation de composition des organizations\")\n",
    "\n",
    "\n",
    "    class member(foaf.member):\n",
    "        domaine = [Affiliation]\n",
    "        range = [foaf.Person]\n",
    "    member.comment = [\"duplication de foaf.member pour disposer des liens dans protégé\"]\n",
    "\n",
    "    AllDisjoint([Personne, Publication,Affiliation])"
   ],
   "metadata": {
    "collapsed": false
   }
  },
  {
   "cell_type": "markdown",
   "source": [
    "### I.2 Visualisation de l'ontologie dans python\n",
    "\n"
   ],
   "metadata": {
    "collapsed": false
   }
  },
  {
   "cell_type": "code",
   "execution_count": 3,
   "outputs": [
    {
     "name": "stdout",
     "output_type": "stream",
     "text": [
      "foaf.Agent\n",
      "foaf.OnlineAccount\n",
      "foaf.Document\n",
      "foaf.Person\n",
      "foaf.Image\n",
      "foaf.Group\n",
      "foaf.Organization\n"
     ]
    }
   ],
   "source": [
    "# On peut explorer l'ontologie en python :\n",
    "for i in foaf.classes():  #All classes\n",
    "    print (i)\n",
    "#for i in foaf.individuals():\n",
    "#    print (i)\n",
    "#properties(): #All properties\n",
    "#object_properties(): #All object properties\n",
    "#annotation_properties(): #All annotation properties\n",
    "#disjoints(): #All pairwise disjoints (including pairwise distinct individuals and disjoint/distinct pairs)\n",
    "#disjoint_classes()\n",
    "#disjoint_properties() All pairwise disjoint properties (including disjoint pairs of properties)\n",
    "#different_individuals() All pairwise distinct individuals (including distinct pairs of individuals)\n",
    "#rules() All SWRL rules\n",
    "#variables() All SWRL variables\n",
    "#general_axioms() All general axioms"
   ],
   "metadata": {
    "collapsed": false
   }
  },
  {
   "cell_type": "markdown",
   "source": [
    "### I.3 Vérification  de l'ontologie dans python\n",
    "Test rapide du modèle avec un raisonneur.\n",
    "J'ai un message d'erreur d'owlready2, je vais donc sauver l'ontologie et la tester depuis protégé."
   ],
   "metadata": {
    "collapsed": false
   }
  },
  {
   "cell_type": "code",
   "execution_count": 4,
   "outputs": [],
   "source": [
    "onto.save(\"prepaPFR_1.owl\")"
   ],
   "metadata": {
    "collapsed": false
   }
  },
  {
   "cell_type": "markdown",
   "source": [
    "Aucune erreur n'est détectée sur ce fichier."
   ],
   "metadata": {
    "collapsed": false
   }
  },
  {
   "cell_type": "markdown",
   "source": [
    "## II. Peuplement de l'ontologie\n",
    "\n",
    "Je recherche tous les auteurs de HAL qui se nomment YOLAINE BOURDA. (En faisant abstraction des majuscules.)\n",
    "\n",
    "## II.1 import d’auteurs Hal, première manière IRI déréférencable\n",
    "\n",
    "Je ne vais rien dupliquer et conserver les IRI qui sont souvent déréférencable dans HAL."
   ],
   "metadata": {
    "collapsed": false
   }
  },
  {
   "cell_type": "code",
   "execution_count": 5,
   "outputs": [],
   "source": [
    "#from owlready2.sparql.endpoint import *\n",
    "sparql = SPARQLWrapper(\"http://sparql.archives-ouvertes.fr/sparql\")\n",
    "sparql.setTimeout(60)\n",
    "query = \"\"\"prefix foaf: <http://xmlns.com/foaf/0.1/>\n",
    "select distinct ?s\n",
    "where {\n",
    " ?s a foaf:Person; foaf:familyName ?nomFamille.\n",
    " #OPTIONAL {?s <http://www.openarchives.org/ore/terms/isAggregatedBy> ?o}\n",
    " ?s foaf:firstName ?prenom.\n",
    " #?s foaf:name ?name.\n",
    "\n",
    " FILTER (UCASE( ?prenom)=\"YOLAINE\").\n",
    " FILTER (UCASE( ?nomFamille)=\"BOURDA\").\n",
    "}\n",
    "LIMIT 100\n",
    "\"\"\""
   ],
   "metadata": {
    "collapsed": false
   }
  },
  {
   "cell_type": "code",
   "execution_count": 6,
   "outputs": [],
   "source": [
    "def extractUriValues (jsonSrc):  # Fonction pour extraire les URI du résultat d'une requête\n",
    "    tabl = jsonSrc[\"results\"][\"bindings\"]\n",
    "    newResult = []\n",
    "    for t in tabl:\n",
    "        for k,v in t.items():\n",
    "            if ('type' in v):\n",
    "                if v['type']=='uri':\n",
    "                    newResult.append(v['value'])\n",
    "    return newResult"
   ],
   "metadata": {
    "collapsed": false
   }
  },
  {
   "cell_type": "code",
   "execution_count": 7,
   "outputs": [
    {
     "name": "stdout",
     "output_type": "stream",
     "text": [
      "['https://data.archives-ouvertes.fr/author/46799', 'https://data.archives-ouvertes.fr/author/270747', 'https://data.archives-ouvertes.fr/author/yolaine-bourda', 'https://data.archives-ouvertes.fr/author/1420714', 'https://data.archives-ouvertes.fr/author/4635', 'https://data.archives-ouvertes.fr/author/1295368']\n"
     ]
    }
   ],
   "source": [
    "sparql.setQuery(query)\n",
    "sparql.setReturnFormat(JSON)\n",
    "results = sparql.query().convert()\n",
    "tabFOAF = extractUriValues(results)\n",
    "print(tabFOAF)"
   ],
   "metadata": {
    "collapsed": false
   }
  },
  {
   "cell_type": "code",
   "execution_count": 8,
   "outputs": [],
   "source": [
    "# Test manuel sur un cas\n",
    "#px = foaf.Person()\n",
    "#px.set_iri('https://data.archives-ouvertes.fr/author/46799')\n",
    "#t= Personne(name=None,namespace=onto,halPerson = [px])\n"
   ],
   "metadata": {
    "collapsed": false
   }
  },
  {
   "cell_type": "code",
   "execution_count": 9,
   "outputs": [],
   "source": [
    "with onto:\n",
    "    for i in tabFOAF:\n",
    "        p = foaf.Person(namespace=onto)\n",
    "        p.set_iri(i)\n",
    "        # p.isDefinedBy = [\"http://sparql.archives-ouvertes.fr/\"]\n",
    "        pers = Personne(halPerson = [p])\n",
    "        p.maPersonne = [pers]"
   ],
   "metadata": {
    "collapsed": false
   }
  },
  {
   "cell_type": "markdown",
   "source": [
    "Je vérifie que ces individus sont bien dans l'ontologie"
   ],
   "metadata": {
    "collapsed": false
   }
  },
  {
   "cell_type": "code",
   "execution_count": 10,
   "outputs": [
    {
     "name": "stdout",
     "output_type": "stream",
     "text": [
      "author.46799 [foaf.Person]\n",
      ".maPersonne == prepaFilRouge.personne1\n",
      "prepaFilRouge.personne1 [prepaFilRouge.Personne]\n",
      ".halPerson == author.46799\n",
      "author.270747 [foaf.Person]\n",
      ".maPersonne == prepaFilRouge.personne2\n",
      "prepaFilRouge.personne2 [prepaFilRouge.Personne]\n",
      ".halPerson == author.270747\n",
      "author.yolaine-bourda [foaf.Person]\n",
      ".maPersonne == prepaFilRouge.personne3\n",
      "prepaFilRouge.personne3 [prepaFilRouge.Personne]\n",
      ".halPerson == author.yolaine-bourda\n",
      "author.1420714 [foaf.Person]\n",
      ".maPersonne == prepaFilRouge.personne4\n",
      "prepaFilRouge.personne4 [prepaFilRouge.Personne]\n",
      ".halPerson == author.1420714\n",
      "author.4635 [foaf.Person]\n",
      ".maPersonne == prepaFilRouge.personne5\n",
      "prepaFilRouge.personne5 [prepaFilRouge.Personne]\n",
      ".halPerson == author.4635\n",
      "author.1295368 [foaf.Person]\n",
      ".maPersonne == prepaFilRouge.personne6\n",
      "prepaFilRouge.personne6 [prepaFilRouge.Personne]\n",
      ".halPerson == author.1295368\n"
     ]
    }
   ],
   "source": [
    "for i in onto.individuals():\n",
    "    print (i,i.is_a)\n",
    "    for prop in i.get_properties():\n",
    "        for value in prop[i]:\n",
    "            print(\".%s == %s\" % (prop.python_name, value))"
   ],
   "metadata": {
    "collapsed": false
   }
  },
  {
   "cell_type": "code",
   "execution_count": 11,
   "outputs": [],
   "source": [
    "for i in onto.individuals():\n",
    "    destroy_entity(i)"
   ],
   "metadata": {
    "collapsed": false
   }
  },
  {
   "cell_type": "markdown",
   "source": [
    "### II.2 import d'auteurs Hal, deuxième manière : duplication des données\n",
    "Avec la requête, je vais préciser les éléments que je souhaite utiliser pour peupler l'ontologie"
   ],
   "metadata": {
    "collapsed": false
   }
  },
  {
   "cell_type": "code",
   "execution_count": 12,
   "outputs": [],
   "source": [
    "query=\"\"\"prefix foaf: <http://xmlns.com/foaf/0.1/>\n",
    "select distinct ?s ?name ?idHal\n",
    "where {\n",
    " ?s a foaf:Person; foaf:familyName ?nomFamille.\n",
    " OPTIONAL {?s <http://www.openarchives.org/ore/terms/isAggregatedBy> ?idHal}\n",
    " ?s foaf:firstName ?prenom.\n",
    " ?s foaf:name ?name.\n",
    "\n",
    " FILTER (UCASE( ?prenom)=\"YOLAINE\").\n",
    " FILTER (UCASE( ?nomFamille)=\"BOURDA\").\n",
    "}\n",
    "LIMIT 100\n",
    "\"\"\""
   ],
   "metadata": {
    "collapsed": false
   }
  },
  {
   "cell_type": "code",
   "execution_count": 13,
   "outputs": [],
   "source": [
    "sparql.setTimeout(60)\n",
    "sparql.setQuery(query)\n",
    "sparql.setReturnFormat(CSV)\n",
    "results = sparql.query().convert()"
   ],
   "metadata": {
    "collapsed": false
   }
  },
  {
   "cell_type": "code",
   "execution_count": 14,
   "outputs": [
    {
     "name": "stdout",
     "output_type": "stream",
     "text": [
      "b'\"s\",\"name\",\"idHal\"\\n\"https://data.archives-ouvertes.fr/author/46799\",\"Yolaine Bourda\",\"https://data.archives-ouvertes.fr/author/yolaine-bourda\"\\n\"https://data.archives-ouvertes.fr/author/270747\",\"Yolaine Bourda\",\"https://data.archives-ouvertes.fr/author/yolaine-bourda\"\\n\"https://data.archives-ouvertes.fr/author/yolaine-bourda\",\"Yolaine Bourda\",\\n\"https://data.archives-ouvertes.fr/author/1420714\",\"Yolaine Bourda\",\\n\"https://data.archives-ouvertes.fr/author/4635\",\"Yolaine Bourda\",\"https://data.archives-ouvertes.fr/author/yolaine-bourda\"\\n\"https://data.archives-ouvertes.fr/author/1295368\",\"Yolaine Bourda\",\"https://data.archives-ouvertes.fr/author/yolaine-bourda\"\\n'\n"
     ]
    }
   ],
   "source": [
    "print (results)"
   ],
   "metadata": {
    "collapsed": false
   }
  },
  {
   "cell_type": "markdown",
   "source": [
    "Je peux maintenant peupler l'ontologie, mais je dois procéder en deux temps car lorsque je créé la première foaf.Person, l'idHal (une foaf.Person également) n'existe pas encore.\n"
   ],
   "metadata": {
    "collapsed": false
   }
  },
  {
   "cell_type": "code",
   "execution_count": 15,
   "outputs": [
    {
     "name": "stdout",
     "output_type": "stream",
     "text": [
      "\"https://data.archives-ouvertes.fr/author/46799\" \"Yolaine Bourda\" \"https://data.archives-ouvertes.fr/author/yolaine-bourda\"\n",
      "\"https://data.archives-ouvertes.fr/author/270747\" \"Yolaine Bourda\" \"https://data.archives-ouvertes.fr/author/yolaine-bourda\"\n",
      "\"https://data.archives-ouvertes.fr/author/yolaine-bourda\" \"Yolaine Bourda\" \n",
      "\"https://data.archives-ouvertes.fr/author/1420714\" \"Yolaine Bourda\" \n",
      "\"https://data.archives-ouvertes.fr/author/4635\" \"Yolaine Bourda\" \"https://data.archives-ouvertes.fr/author/yolaine-bourda\"\n",
      "\"https://data.archives-ouvertes.fr/author/1295368\" \"Yolaine Bourda\" \"https://data.archives-ouvertes.fr/author/yolaine-bourda\"\n"
     ]
    }
   ],
   "source": [
    "tmpResult = results.decode().split('\\n')[1:-1]# je n'utilise pas la ligne de titre ni la dernière (vide)\n",
    "for l in tmpResult:\n",
    "    #print(l)\n",
    "    s,name,idHal=l.split(',')\n",
    "    print(s,name,idHal)\n",
    "    s = s.strip('\"')\n",
    "    name = name.strip('\"')\n",
    "    #print(s,name,idHal)\n",
    "    p = foaf.Person(namespace=onto)\n",
    "    p.set_iri(s)\n",
    "    #p.isDefinedBy = [\"http://sparql.archives-ouvertes.fr/\"]\n",
    "    pers = Personne(name=None,namespace=onto,halPerson = [p])\n",
    "    pers.fullName = name\n",
    "    p.maPersonne = [pers]"
   ],
   "metadata": {
    "collapsed": false
   }
  },
  {
   "cell_type": "code",
   "execution_count": 16,
   "outputs": [],
   "source": [
    "trueIdHal = \"https://data.archives-ouvertes.fr/author/yolaine-bourda\""
   ],
   "metadata": {
    "collapsed": false
   }
  },
  {
   "cell_type": "code",
   "execution_count": 17,
   "outputs": [
    {
     "name": "stdout",
     "output_type": "stream",
     "text": [
      "author.yolaine-bourda [foaf.Person]\n"
     ]
    }
   ],
   "source": [
    "# Toutes les foaf.Person sont créées je peux stocker l'idHal (qui ici sera toujours le même).\n",
    "trueIdHalPerson = onto.search_one(type = foaf.Person, iri = trueIdHal)\n",
    "print(trueIdHalPerson,trueIdHalPerson.is_a)"
   ],
   "metadata": {
    "collapsed": false
   }
  },
  {
   "cell_type": "code",
   "execution_count": 18,
   "outputs": [],
   "source": [
    "def myStrip(var:str):\n",
    "    if var is None:\n",
    "        return None\n",
    "    var = var.strip('\"')\n",
    "    if len(var)== 0:\n",
    "        return None\n",
    "    return var\n",
    "\n",
    "for l in tmpResult:\n",
    "    #print(l)\n",
    "    s,name,idHal=l.split(',')\n",
    "    #print(s,name,idHal)\n",
    "    s = myStrip(s)\n",
    "    name = myStrip(name)\n",
    "    idHal = myStrip(idHal)\n",
    "    #print(s,name,idHal)\n",
    "    if idHal is not None:\n",
    "        #print(s, idHal)\n",
    "        auteur = onto.search_one(type = foaf.Person, iri = s)\n",
    "        pers = onto.search_one(type = onto.Personne,halPerson = [auteur])\n",
    "        pers.halIdPerson = trueIdHalPerson\n"
   ],
   "metadata": {
    "collapsed": false
   }
  },
  {
   "cell_type": "code",
   "execution_count": 19,
   "outputs": [],
   "source": [
    "onto.save(\"prepaPFR_2.owl\")  # Pour vérification dans Protégé"
   ],
   "metadata": {
    "collapsed": false
   }
  },
  {
   "cell_type": "markdown",
   "source": [
    "### II.3 import des structures HAL\n",
    "Je vais importer dans l'ontologie les structures de mes personnes."
   ],
   "metadata": {
    "collapsed": false
   }
  },
  {
   "cell_type": "code",
   "execution_count": 20,
   "outputs": [],
   "source": [
    "query=\"\"\"PREFIX hal:<http://data.archives-ouvertes.fr/schema/>\n",
    "PREFIX skos:<http://www.w3.org/2004/02/skos/core#>\n",
    "PREFIX vcard:<http://www.w3.org/2006/vcard/ns#>\n",
    "PREFIX classif:<http://www.w3.org/ns/org#>\n",
    "\n",
    "select distinct ?structure ?label ?url ?status ?type\n",
    "where\n",
    "{\n",
    "{{?agregat hal:person <https://data.archives-ouvertes.fr/author/46799>. } UNION\n",
    "{?agregat hal:person <https://data.archives-ouvertes.fr/author/270747>. } UNION\n",
    "{?agregat hal:person <https://data.archives-ouvertes.fr/author/yolaine-bourda>. } UNION\n",
    "{?agregat hal:person <https://data.archives-ouvertes.fr/author/1420714>. } UNION\n",
    "{?agregat hal:person <https://data.archives-ouvertes.fr/author/4635>. } UNION\n",
    "{?agregat hal:person <https://data.archives-ouvertes.fr/author/1295368>. }}\n",
    "?agregat hal:structure ?structure\n",
    "optional {?structure skos:prefLabel ?label}\n",
    "optional {?structure vcard:url ?url}\n",
    "optional {?structure hal:status ?status}\n",
    "optional {?structure classif:classification  ?type}\n",
    "}\n",
    "\"\"\""
   ],
   "metadata": {
    "collapsed": false
   }
  },
  {
   "cell_type": "code",
   "execution_count": 21,
   "outputs": [],
   "source": [
    "sparql.setTimeout(60)\n",
    "sparql.setQuery(query)\n",
    "sparql.setReturnFormat(CSV)\n",
    "results2 = sparql.query().convert()"
   ],
   "metadata": {
    "collapsed": false
   }
  },
  {
   "cell_type": "code",
   "execution_count": 22,
   "outputs": [],
   "source": [
    "#print (results2)\n",
    "#TODO lien entre structures et membres !"
   ],
   "metadata": {
    "collapsed": false
   }
  },
  {
   "cell_type": "code",
   "execution_count": 23,
   "outputs": [],
   "source": [
    "tmpResult = results2.decode().split('\\n')[1:-1]\n",
    "with onto:\n",
    "    for l in tmpResult:\n",
    "        #print(l)\n",
    "        structure,label,url,status,sType =l.split(',')\n",
    "        structure = myStrip(structure)\n",
    "        label = myStrip(label)\n",
    "        url = myStrip(url)\n",
    "        status = myStrip(status)\n",
    "        sType = myStrip(sType)\n",
    "\n",
    "        #print('s:',structure,' l:', label,' u:',url,' s:',status,' t:',sType)\n",
    "        struc = Affiliation(namespace=onto)\n",
    "        struc.set_iri(structure)\n",
    "        struc.member = [trueIdHalPerson] # je donne un membre un peu arbitrairement ...\n",
    "        if label is not None:\n",
    "            struc.label = label\n",
    "        if url is not None:\n",
    "            struc.url = url\n",
    "        if status is not None:\n",
    "            struc.status = status\n",
    "        if sType is not None:\n",
    "            struc.affiliationType = sType\n"
   ],
   "metadata": {
    "collapsed": false
   }
  },
  {
   "cell_type": "code",
   "execution_count": 24,
   "outputs": [],
   "source": [
    "onto.save(\"prepaPFR_3.owl\")"
   ],
   "metadata": {
    "collapsed": false
   }
  },
  {
   "cell_type": "markdown",
   "source": [
    "### II.4 import des documents depuis HAL\n",
    "On va créer les publications. Je filtre les articles qui ont plus de 30 auteurs car je pense qu'il s'agit de données erronées."
   ],
   "metadata": {
    "collapsed": false
   }
  },
  {
   "cell_type": "code",
   "execution_count": 25,
   "outputs": [],
   "source": [
    "query=\"\"\"PREFIX dcterms:<http://purl.org/dc/terms/>\n",
    "PREFIX doc:<https://data.archives-ouvertes.fr/document/>\n",
    "PREFIX ore:<http://www.openarchives.org/ore/terms/>\n",
    "PREFIX hal:<http://data.archives-ouvertes.fr/schema/>\n",
    "PREFIX foaf:<http://xmlns.com/foaf/0.1/>\n",
    "\n",
    "select  distinct ?document  ?NumCreators\n",
    "where\n",
    "{\n",
    "?document dcterms:hasVersion ?version.\n",
    "?version dcterms:creator ?creator.\n",
    "\n",
    "{{?creator hal:person <https://data.archives-ouvertes.fr/author/46799>. } UNION\n",
    "{?creator hal:person <https://data.archives-ouvertes.fr/author/270747>. } UNION\n",
    "{?creator hal:person <https://data.archives-ouvertes.fr/author/yolaine-bourda>. } UNION\n",
    "{?creator hal:person <https://data.archives-ouvertes.fr/author/1420714>. } UNION\n",
    "{?creator hal:person <https://data.archives-ouvertes.fr/author/4635>. } UNION\n",
    "{?creator hal:person <https://data.archives-ouvertes.fr/author/1295368>. }}\n",
    "\n",
    "{\n",
    "select ?version count(distinct ?o) as ?NumCreators\n",
    "where {\n",
    "?version dcterms:creator ?o.\n",
    "}}\n",
    "}\n",
    "group by ?document ?NumCreators\n",
    "HAVING ( ?NumCreators < 30)\n",
    "\"\"\""
   ],
   "metadata": {
    "collapsed": false
   }
  },
  {
   "cell_type": "code",
   "execution_count": 26,
   "outputs": [],
   "source": [
    "sparql.setQuery(query)\n",
    "sparql.setReturnFormat(JSON)\n",
    "results = sparql.query().convert()\n",
    "tabPublications = extractUriValues(results)\n",
    "#print(tabPublications)"
   ],
   "metadata": {
    "collapsed": false
   }
  },
  {
   "cell_type": "code",
   "execution_count": 27,
   "outputs": [],
   "source": [
    "with onto:\n",
    "    for i in tabPublications:\n",
    "        #print (i)\n",
    "        d = foaf.Document(namespace=onto)\n",
    "        d.set_iri(i)\n",
    "        # p.isDefinedBy = [\"http://sparql.archives-ouvertes.fr/\"]\n",
    "        p = Publication(name=None,namespace=onto,halDocument = d)\n",
    "        d.maPublication = [p]"
   ],
   "metadata": {
    "collapsed": false
   }
  },
  {
   "cell_type": "code",
   "execution_count": 28,
   "outputs": [],
   "source": [
    "onto.save(\"prepaPFR_4.owl\")"
   ],
   "metadata": {
    "collapsed": false
   }
  },
  {
   "cell_type": "code",
   "execution_count": 29,
   "outputs": [],
   "source": [
    "def queryAuthor(doc) :\\\n",
    "    return \"\"\"PREFIX dcterms:<http://purl.org/dc/terms/>\n",
    "    PREFIX doc:<https://data.archives-ouvertes.fr/document/>\n",
    "    PREFIX hal:<http://data.archives-ouvertes.fr/schema/>\n",
    "\n",
    "    #select ?version ?title ?pdf GROUP_CONCAT(?name,',') AS ?authors\n",
    "    select distinct ?person\n",
    "    where\n",
    "    {<\"\"\"+doc+\"\"\"> dcterms:hasVersion ?version.\n",
    "    ?version dcterms:creator ?creator.  #; ore:aggregates ?pdf.\n",
    "    ?creator hal:person ?person.\n",
    "    }\"\"\""
   ],
   "metadata": {
    "collapsed": false
   }
  },
  {
   "cell_type": "code",
   "execution_count": 30,
   "outputs": [],
   "source": [
    "with onto:\n",
    "    for i in tabPublications:\n",
    "        #print(i)\n",
    "        query = queryAuthor(i)\n",
    "        #print(query)\n",
    "        sparql.setQuery(query)\n",
    "        sparql.setReturnFormat(JSON)\n",
    "        results = sparql.query().convert()\n",
    "        tabAuteurs = extractUriValues(results)\n",
    "        foafDoc = onto.search_one(type = foaf.Document, iri = i)\n",
    "        #print('fD:',foafDoc)\n",
    "        for autIri in tabAuteurs:\n",
    "            foafAuteur = onto.search_one(type = foaf.Person, iri = autIri)\n",
    "\n",
    "            if foafAuteur is None:\n",
    "                #print(\"création d'un auteur\")\n",
    "                foafAuteur = foaf.Person()\n",
    "                foafAuteur.set_iri(autIri)\n",
    "\n",
    "            #print ('fA:',foafAuteur.iri)\n",
    "            foafAuteur.publications.append(foafDoc)\n",
    "            foafDoc.monFoafEcritPar.append(foafAuteur) # Pour le raisoner"
   ],
   "metadata": {
    "collapsed": false
   }
  },
  {
   "cell_type": "code",
   "execution_count": 31,
   "outputs": [],
   "source": [
    "onto.save(\"prepaPFR_5.owl\")"
   ],
   "metadata": {
    "collapsed": false
   }
  },
  {
   "cell_type": "markdown",
   "source": [
    "### III Utilisation du raisonneur\n",
    "\n",
    "owlready2.JAVA_EXE=r'C:\\Program Files\\Java\\jre1.8.0_351\\bin\\jave.exe'\n",
    "provoque chez moi l'erreur FileNotFoundError. Il s'avère complexe de trouver de quel fichier il s'agit....\n",
    "\n",
    "owlready2.JAVA_EXE=r'C:\\Program Files (x86)\\Java\\jre1.8.0_261\\bin\\java.exe'\n",
    "provoque chez moi l'erreur OwlReadyJavaError: Java error message is:\n",
    "Error occurred during initialization of VM\n",
    "Could not reserve enough space for 2048000KB object heap\n",
    "\n",
    "Cette erreur peut être contournée en effectuant une modification dans le code owlready2.\n",
    "Il s'agit dans reasoning.py de remplacer JAVA_MEMORY = 2000 par JAVA_MEMORY = 2000 (1500 ne passe pas).\n",
    "Mais cela n'est pas très propre comme manière de faire.\n",
    "\n",
    "En téléchargeant Java SE development kit 19.0.1 (JDK) je n'ai plus de problème !\n"
   ],
   "metadata": {
    "collapsed": false
   }
  },
  {
   "cell_type": "code",
   "execution_count": 32,
   "outputs": [],
   "source": [
    "# Change the following PATH if needed\n",
    "owlready2.JAVA_EXE=r'c:\\Program Files\\Java\\jdk-19\\bin\\java.exe'\n",
    "#owlready2.JAVA_EXE='/usr/bin/java'\n"
   ],
   "metadata": {
    "collapsed": false
   }
  },
  {
   "cell_type": "markdown",
   "source": [
    "Je peux tester une partie de l'ontologie :"
   ],
   "metadata": {
    "collapsed": false
   }
  },
  {
   "cell_type": "code",
   "execution_count": 33,
   "outputs": [
    {
     "name": "stderr",
     "output_type": "stream",
     "text": [
      "* Owlready2 * Running HermiT...\n",
      "    c:\\Program Files\\Java\\jdk-19\\bin\\java.exe -Xmx2000M -cp C:\\Users\\tof\\AppData\\Local\\Programs\\Python\\Python310\\lib\\site-packages\\owlready2\\hermit;C:\\Users\\tof\\AppData\\Local\\Programs\\Python\\Python310\\lib\\site-packages\\owlready2\\hermit\\HermiT.jar org.semanticweb.HermiT.cli.CommandLine -c -O -D -I file:///C:/Users/tof/AppData/Local/Temp/tmpyp1m8dw6\n",
      "* Owlready2 * HermiT took 0.5138928890228271 seconds\n",
      "* Owlready * Reparenting foaf.isPrimaryTopicOf: {owl.ObjectProperty, owl.InverseFunctionalProperty, foaf.page} => {foaf.page, owl.InverseFunctionalProperty}\n",
      "* Owlready * Reparenting foaf.tipjar: {owl.ObjectProperty, foaf.page} => {foaf.page}\n",
      "* Owlready * Reparenting foaf.weblog: {owl.ObjectProperty, owl.InverseFunctionalProperty, foaf.page} => {foaf.page, owl.InverseFunctionalProperty}\n",
      "* Owlready * Reparenting foaf.img: {owl.ObjectProperty, foaf.depiction} => {foaf.depiction}\n",
      "* Owlready * Reparenting foaf.homepage: {owl.ObjectProperty, owl.InverseFunctionalProperty, foaf.page, foaf.isPrimaryTopicOf} => {foaf.isPrimaryTopicOf}\n",
      "* Owlready * Reparenting foaf.openid: {owl.ObjectProperty, owl.InverseFunctionalProperty, foaf.isPrimaryTopicOf} => {foaf.isPrimaryTopicOf}\n",
      "* Owlready * Reparenting foaf.icqChatID: {foaf.nick, owl.DatatypeProperty} => {foaf.nick}\n",
      "* Owlready * Reparenting foaf.aimChatID: {foaf.nick, owl.DatatypeProperty} => {foaf.nick}\n",
      "* Owlready * Reparenting foaf.yahooChatID: {foaf.nick, owl.DatatypeProperty} => {foaf.nick}\n",
      "* Owlready * Reparenting foaf.skypeID: {foaf.nick, owl.DatatypeProperty} => {foaf.nick}\n",
      "* Owlready * Reparenting foaf.msnChatID: {foaf.nick, owl.DatatypeProperty} => {foaf.nick}\n",
      "* Owlready * (NB: only changes on entities loaded in Python are shown, other changes are done but not listed)\n"
     ]
    }
   ],
   "source": [
    "sync_reasoner([foaf])"
   ],
   "metadata": {
    "collapsed": false
   }
  },
  {
   "cell_type": "markdown",
   "source": [
    "Effectivement il y a quelques soucis mineurs : foaf.img est propriété dérivée de foaf.depiction. C'est donc forcement un ObjectProperty. (Pour être précis, img est une relation entre une foaf.person et une foaf.image qui \"which are particularly representative\". Je ne retrouve pas img dans protégé.)\n",
    "La propriété nickname est à la fois une propriété et une data property.\n"
   ],
   "metadata": {
    "collapsed": false
   }
  },
  {
   "cell_type": "code",
   "execution_count": 34,
   "outputs": [
    {
     "name": "stderr",
     "output_type": "stream",
     "text": [
      "* Owlready2 * Running HermiT...\n",
      "    c:\\Program Files\\Java\\jdk-19\\bin\\java.exe -Xmx2000M -cp C:\\Users\\tof\\AppData\\Local\\Programs\\Python\\Python310\\lib\\site-packages\\owlready2\\hermit;C:\\Users\\tof\\AppData\\Local\\Programs\\Python\\Python310\\lib\\site-packages\\owlready2\\hermit\\HermiT.jar org.semanticweb.HermiT.cli.CommandLine -c -O -D -I file:///C:/Users/tof/AppData/Local/Temp/tmpgb25wsqu\n",
      "* Owlready2 * HermiT took 0.5385663509368896 seconds\n",
      "* Owlready * (NB: only changes on entities loaded in Python are shown, other changes are done but not listed)\n"
     ]
    }
   ],
   "source": [
    "sync_reasoner([foaf])"
   ],
   "metadata": {
    "collapsed": false
   }
  },
  {
   "cell_type": "markdown",
   "source": [
    "Après un deuxième appel au raisonneur les anomalies n'apparaissent plus. C'est bien la preuve que les inférences sont prises en compte."
   ],
   "metadata": {
    "collapsed": false
   }
  },
  {
   "cell_type": "code",
   "execution_count": 35,
   "outputs": [
    {
     "name": "stderr",
     "output_type": "stream",
     "text": [
      "* Owlready2 * Running Pellet...\n",
      "    c:\\Program Files\\Java\\jdk-19\\bin\\java.exe -Xmx2000M -cp C:\\Users\\tof\\AppData\\Local\\Programs\\Python\\Python310\\lib\\site-packages\\owlready2\\pellet\\antlr-3.2.jar;C:\\Users\\tof\\AppData\\Local\\Programs\\Python\\Python310\\lib\\site-packages\\owlready2\\pellet\\antlr-runtime-3.2.jar;C:\\Users\\tof\\AppData\\Local\\Programs\\Python\\Python310\\lib\\site-packages\\owlready2\\pellet\\aterm-java-1.6.jar;C:\\Users\\tof\\AppData\\Local\\Programs\\Python\\Python310\\lib\\site-packages\\owlready2\\pellet\\commons-codec-1.6.jar;C:\\Users\\tof\\AppData\\Local\\Programs\\Python\\Python310\\lib\\site-packages\\owlready2\\pellet\\httpclient-4.2.3.jar;C:\\Users\\tof\\AppData\\Local\\Programs\\Python\\Python310\\lib\\site-packages\\owlready2\\pellet\\httpcore-4.2.2.jar;C:\\Users\\tof\\AppData\\Local\\Programs\\Python\\Python310\\lib\\site-packages\\owlready2\\pellet\\jcl-over-slf4j-1.6.4.jar;C:\\Users\\tof\\AppData\\Local\\Programs\\Python\\Python310\\lib\\site-packages\\owlready2\\pellet\\jena-arq-2.10.0.jar;C:\\Users\\tof\\AppData\\Local\\Programs\\Python\\Python310\\lib\\site-packages\\owlready2\\pellet\\jena-core-2.10.0.jar;C:\\Users\\tof\\AppData\\Local\\Programs\\Python\\Python310\\lib\\site-packages\\owlready2\\pellet\\jena-iri-0.9.5.jar;C:\\Users\\tof\\AppData\\Local\\Programs\\Python\\Python310\\lib\\site-packages\\owlready2\\pellet\\jena-tdb-0.10.0.jar;C:\\Users\\tof\\AppData\\Local\\Programs\\Python\\Python310\\lib\\site-packages\\owlready2\\pellet\\jgrapht-jdk1.5.jar;C:\\Users\\tof\\AppData\\Local\\Programs\\Python\\Python310\\lib\\site-packages\\owlready2\\pellet\\log4j-1.2.16.jar;C:\\Users\\tof\\AppData\\Local\\Programs\\Python\\Python310\\lib\\site-packages\\owlready2\\pellet\\owlapi-distribution-3.4.3-bin.jar;C:\\Users\\tof\\AppData\\Local\\Programs\\Python\\Python310\\lib\\site-packages\\owlready2\\pellet\\pellet-2.3.1.jar;C:\\Users\\tof\\AppData\\Local\\Programs\\Python\\Python310\\lib\\site-packages\\owlready2\\pellet\\slf4j-api-1.6.4.jar;C:\\Users\\tof\\AppData\\Local\\Programs\\Python\\Python310\\lib\\site-packages\\owlready2\\pellet\\slf4j-log4j12-1.6.4.jar;C:\\Users\\tof\\AppData\\Local\\Programs\\Python\\Python310\\lib\\site-packages\\owlready2\\pellet\\xercesImpl-2.10.0.jar;C:\\Users\\tof\\AppData\\Local\\Programs\\Python\\Python310\\lib\\site-packages\\owlready2\\pellet\\xml-apis-1.4.01.jar pellet.Pellet realize --loader Jena --input-format N-Triples --infer-prop-values --infer-data-prop-values --ignore-imports C:\\Users\\tof\\AppData\\Local\\Temp\\tmp_axwb0ub\n"
     ]
    },
    {
     "name": "stdout",
     "output_type": "stream",
     "text": [
      "* Owlready * Adding relation structure.2544 member author.yolaine-bourda\n",
      "* Owlready * Adding relation structure.1050008 member author.yolaine-bourda\n",
      "* Owlready * Adding relation structure.1050003 member author.yolaine-bourda\n",
      "* Owlready * Adding relation structure.303397 member author.yolaine-bourda\n",
      "* Owlready * Adding relation structure.400540 member author.yolaine-bourda\n",
      "* Owlready * Adding relation structure.454174 member author.yolaine-bourda\n",
      "* Owlready * Adding relation structure.411575 member author.yolaine-bourda\n",
      "* Owlready * Adding relation structure.123689 member author.yolaine-bourda\n",
      "* Owlready * Adding relation structure.21400 member author.yolaine-bourda\n",
      "* Owlready * Adding relation structure.303397 label Ecole Supérieure d\\'Electricité - SUPELEC (FRANCE)\n",
      "Ok, the ontology is consistent.\n"
     ]
    },
    {
     "name": "stderr",
     "output_type": "stream",
     "text": [
      "* Owlready2 * Pellet took 0.9321086406707764 seconds\n",
      "* Owlready2 * Warning: Cannot find new parent '9'\n",
      "* Owlready2 * Warning: Cannot find new parent '9'\n",
      "* Owlready2 * Warning: Cannot find new parent '9'\n",
      "* Owlready * Reparenting prepaFilRouge.Affiliation: {foaf.Organization} => set()\n",
      "* Owlready * Reparenting structure.303397: {prepaFilRouge.Affiliation} => {prepaFilRouge.Affiliation, foaf.Group}\n",
      "* Owlready * Reparenting structure.123689: {prepaFilRouge.Affiliation} => {prepaFilRouge.Affiliation, foaf.Group}\n",
      "* Owlready * Reparenting structure.454174: {prepaFilRouge.Affiliation} => {prepaFilRouge.Affiliation, foaf.Group}\n",
      "* Owlready * Reparenting structure.2544: {prepaFilRouge.Affiliation} => {prepaFilRouge.Affiliation, foaf.Group}\n",
      "* Owlready * Reparenting structure.400540: {prepaFilRouge.Affiliation} => {prepaFilRouge.Affiliation, foaf.Group}\n",
      "* Owlready * Reparenting structure.1050003: {prepaFilRouge.Affiliation} => {prepaFilRouge.Affiliation, foaf.Group}\n",
      "* Owlready * Reparenting structure.411575: {prepaFilRouge.Affiliation} => {prepaFilRouge.Affiliation, foaf.Group}\n",
      "* Owlready * Reparenting structure.21400: {prepaFilRouge.Affiliation} => {prepaFilRouge.Affiliation, foaf.Group}\n",
      "* Owlready * Reparenting structure.1050008: {prepaFilRouge.Affiliation} => {prepaFilRouge.Affiliation, foaf.Group}\n",
      "* Owlready * Reparenting prepaFilRouge.Personne: {foaf.Person} => set()\n",
      "* Owlready * Reparenting prepaFilRouge.Publication: {foaf.Document} => set()\n",
      "* Owlready * (NB: only changes on entities loaded in Python are shown, other changes are done but not listed)\n"
     ]
    }
   ],
   "source": [
    "with onto:\n",
    "    try:\n",
    "        #sync_reasoner()  # par HermiT\n",
    "        #sync_reasoner(infer_property_values=True, debug=True, keep_tmp_file=True)\n",
    "        #sync_reasoner_pellet()\n",
    "        sync_reasoner_pellet(infer_property_values=True, infer_data_property_values=True, debug=True, keep_tmp_file=True)\n",
    "        print(\"Ok, the ontology is consistent.\")\n",
    "    except OwlReadyInconsistentOntologyError:\n",
    "        print(\"The ontology is inconsistent!\")"
   ],
   "metadata": {
    "collapsed": false
   }
  },
  {
   "cell_type": "code",
   "execution_count": 36,
   "outputs": [
    {
     "name": "stderr",
     "output_type": "stream",
     "text": [
      "* Owlready2 * Running HermiT...\n",
      "    c:\\Program Files\\Java\\jdk-19\\bin\\java.exe -Xmx2000M -cp C:\\Users\\tof\\AppData\\Local\\Programs\\Python\\Python310\\lib\\site-packages\\owlready2\\hermit;C:\\Users\\tof\\AppData\\Local\\Programs\\Python\\Python310\\lib\\site-packages\\owlready2\\hermit\\HermiT.jar org.semanticweb.HermiT.cli.CommandLine -c -O -D -I file:///C:/Users/tof/AppData/Local/Temp/tmpwmds7gss\n"
     ]
    },
    {
     "name": "stdout",
     "output_type": "stream",
     "text": [
      "Ok, the ontology is consistent.\n"
     ]
    },
    {
     "name": "stderr",
     "output_type": "stream",
     "text": [
      "* Owlready2 * HermiT took 0.48749256134033203 seconds\n",
      "* Owlready * (NB: only changes on entities loaded in Python are shown, other changes are done but not listed)\n"
     ]
    }
   ],
   "source": [
    "with onto:\n",
    "    try:\n",
    "        sync_reasoner()  # par HermiT\n",
    "        #sync_reasoner(infer_property_values=True, debug=True, keep_tmp_file=True)\n",
    "        #sync_reasoner_pellet()\n",
    "        #sync_reasoner_pellet(infer_property_values=True, infer_data_property_values=True, debug=True, keep_tmp_file=True)\n",
    "        print(\"Ok, the ontology is consistent.\")\n",
    "    except OwlReadyInconsistentOntologyError:\n",
    "        print(\"The ontology is inconsistent!\")"
   ],
   "metadata": {
    "collapsed": false
   }
  },
  {
   "cell_type": "markdown",
   "source": [
    "HermiT ne trouve rien de plus."
   ],
   "metadata": {
    "collapsed": false
   }
  },
  {
   "cell_type": "code",
   "execution_count": 37,
   "outputs": [],
   "source": [
    "onto.save(\"prepaPFR_6.owl\")"
   ],
   "metadata": {
    "collapsed": false
   }
  },
  {
   "cell_type": "code",
   "execution_count": 37,
   "outputs": [],
   "source": [],
   "metadata": {
    "collapsed": false
   }
  },
  {
   "cell_type": "code",
   "execution_count": 38,
   "outputs": [],
   "source": [
    "with onto:\n",
    "    # je n'arrive pas à donner à une ObjectProperty deux caractéristiques\n",
    "    # je passe par une subproperties\n",
    "    class baseIrreflexiveProperty (ObjectProperty, IrreflexiveProperty):pass\n",
    "\n",
    "    class coEcrit(baseIrreflexiveProperty, SymmetricProperty):# todo préciser la def ?\n",
    "        domain = [Personne]\n",
    "        range = [Personne]\n",
    "        #is_a = [     foaf.publications.some(foaf.Document) ]   # ecritPar(Publication >> Personne )\n",
    "\n",
    "    class collegue(baseIrreflexiveProperty,SymmetricProperty):# todo a completer simpliste car on ne gère pas le temps\n",
    "        domain = [Personne]\n",
    "        range = [Personne]\n",
    "\n",
    "# dans Protégé on voit que collegue est inféré comme etant son propre inverse.\n",
    "# logique pour une relation symétrique."
   ],
   "metadata": {
    "collapsed": false
   }
  },
  {
   "cell_type": "code",
   "execution_count": 39,
   "metadata": {},
   "outputs": [
    {
     "name": "stdout",
     "output_type": "stream",
     "text": [
      "[]\n"
     ]
    }
   ],
   "source": [
    "# Avons-nous des classes inconsistantes ?\n",
    "print(list(onto.world.inconsistent_classes()))"
   ]
  },
  {
   "cell_type": "code",
   "execution_count": 40,
   "metadata": {},
   "outputs": [],
   "source": [
    "onto.destroy()"
   ]
  }
 ],
 "metadata": {
  "kernelspec": {
   "display_name": "Python 3 (ipykernel)",
   "language": "python",
   "name": "python3"
  },
  "language_info": {
   "codemirror_mode": {
    "name": "ipython",
    "version": 3
   },
   "file_extension": ".py",
   "mimetype": "text/x-python",
   "name": "python",
   "nbconvert_exporter": "python",
   "pygments_lexer": "ipython3",
   "version": "3.8.12"
  }
 },
 "nbformat": 4,
 "nbformat_minor": 4
}
