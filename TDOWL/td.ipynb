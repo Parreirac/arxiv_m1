{
 "cells": [
  {
   "cell_type": "markdown",
   "source": [
    "# Objectifs de ce Notebook\n",
    "En application du TD3, je vais explorer ce que l’on pourrait faire avec les ontologies côté arXive, sur le modèle de ce que propose HAL. (Il y a donc in fine l’idée de proposer pour arXive une ontologie sommaire pour le domaine cs.AI. Du coup, je ne créé pas ici d’ontologie dans protégé, je le ferai plus tard pour correspondre au projet fil rouge (PFR) sur arXive.)\n",
    "Dans le cadre du PFR, on pourrait vérifier/compléter nos données avec des requêtes dans des endpoints HAL (par exemple rechercher un doc archive dans HAL, ou des auteurs) ou d’autres.\n",
    "Je vais créer une ontologie simple, directement avec owlready2, puis je vais la peupler avec SPARQLWrapper.\n",
    "Dans un 3e temps je vais tenter d’explorer l’emploi du raisonneur, voire d’autres éléments."
   ],
   "metadata": {
    "collapsed": false
   }
  },
  {
   "cell_type": "markdown",
   "source": [
    "## I Création de l’ontologie dans PYTHON"
   ],
   "metadata": {
    "collapsed": false
   }
  },
  {
   "cell_type": "code",
   "execution_count": 1,
   "outputs": [
    {
     "name": "stderr",
     "output_type": "stream",
     "text": [
      "* Owlready2 * WARNING: DataProperty http://xmlns.com/foaf/0.1/nick belongs to more than one entity types: [owl.ObjectProperty, owl.DatatypeProperty]; I'm trying to fix it...\n",
      "* Owlready2 * WARNING: DataProperty http://xmlns.com/foaf/0.1/aimChatID belongs to more than one entity types: [owl.ObjectProperty, owl.InverseFunctionalProperty, owl.DatatypeProperty, foaf.nick]; I'm trying to fix it...\n",
      "* Owlready2 * WARNING: DataProperty http://xmlns.com/foaf/0.1/icqChatID belongs to more than one entity types: [owl.ObjectProperty, owl.InverseFunctionalProperty, owl.DatatypeProperty, foaf.nick]; I'm trying to fix it...\n",
      "* Owlready2 * WARNING: DataProperty http://xmlns.com/foaf/0.1/jabberID belongs to more than one entity types: [owl.ObjectProperty, owl.InverseFunctionalProperty, owl.DatatypeProperty]; I'm trying to fix it...\n",
      "* Owlready2 * WARNING: DataProperty http://xmlns.com/foaf/0.1/mbox_sha1sum belongs to more than one entity types: [owl.ObjectProperty, owl.InverseFunctionalProperty, owl.DatatypeProperty]; I'm trying to fix it...\n",
      "* Owlready2 * WARNING: DataProperty http://xmlns.com/foaf/0.1/msnChatID belongs to more than one entity types: [owl.ObjectProperty, owl.InverseFunctionalProperty, owl.DatatypeProperty, foaf.nick]; I'm trying to fix it...\n",
      "* Owlready2 * WARNING: DataProperty http://xmlns.com/foaf/0.1/skypeID belongs to more than one entity types: [owl.ObjectProperty, owl.DatatypeProperty, foaf.nick]; I'm trying to fix it...\n",
      "* Owlready2 * WARNING: DataProperty http://xmlns.com/foaf/0.1/yahooChatID belongs to more than one entity types: [owl.ObjectProperty, owl.InverseFunctionalProperty, owl.DatatypeProperty, foaf.nick]; I'm trying to fix it...\n"
     ]
    }
   ],
   "source": [
    "from owlready2 import *\n",
    "from SPARQLWrapper import *\n",
    "import logging  # Pour le debug !\n",
    "#from rdflib.namespace._FOAF import FOAF  # génère un warning\n",
    "\n",
    "\n",
    "import sys\n",
    "\n",
    "# Change the following PATH if needed\n",
    "owlready2.JAVA_EXE=r'c:\\Program Files\\Java\\jdk-19\\bin\\java.exe'\n",
    "#owlready2.JAVA_EXE='/usr/bin/java'\n",
    "\n",
    "# Je vais modifier l'ontologie du TD, je la renomme. Elle sera basée sur FOAF puisque HAL l'utilise.\n",
    "onto = get_ontology('https://cp.org/prepaFilRouge.owl#')\n",
    "foaf = get_ontology('foaf.owl').load()\n",
    "onto.imported_ontologies.append(foaf)"
   ],
   "metadata": {
    "collapsed": false
   }
  },
  {
   "cell_type": "code",
   "execution_count": 2,
   "outputs": [
    {
     "name": "stdout",
     "output_type": "stream",
     "text": [
      "{foaf.Agent, owl.Thing, prepaFilRouge.Affiliation, foaf.Group, foaf.Organization}\n"
     ]
    }
   ],
   "source": [
    "with onto:\n",
    "\n",
    "    class Personne(foaf.Person): pass\n",
    "    Personne.comment = [\"Définition de la classe Personne qui spécialise foaf.Person\"]\n",
    "\n",
    "    class halPerson(Personne >> foaf.Person): pass\n",
    "    halPerson.comment = [\" link to foaf.Person from HAL, not necessary HalID !\"]\n",
    "\n",
    "    class halIdPerson(Personne >> foaf.Person, FunctionalProperty): pass\n",
    "    halIdPerson.comment = [\" link to halId\"]\n",
    "\n",
    "    class fullName(Personne >> str,FunctionalProperty): pass\n",
    "    fullName.comment = [\"Remplace name, déjà pris par owlready2\"]\n",
    "\n",
    "\n",
    "    class Publication(foaf.Document): pass\n",
    "    Publication.comment = [\"Définition de la classe Publication qui spéciffie foaf.Document\"]\n",
    "    Publication.comment.append(\"in fine, comme dans HAL on devrait pouvoir décrire le type d'un document dans arXive : préprint, affiche, these, livre, rapport\")\n",
    "\n",
    "    class halDocument(Publication >> foaf.Document, FunctionalProperty): pass  # TODO test pb en fonction de la version du doc ?\n",
    "    halDocument.comment = [\"lien vers le depot HAL\"]\n",
    "\n",
    "    class arXiveDocument(Publication >> foaf.Document,FunctionalProperty ) : pass\n",
    "    arXiveDocument.comment = [\"lien vers le depot arXive\"]\n",
    "\n",
    "    class ecrit(Personne >> Publication): pass\n",
    "\n",
    "    class ecritPar(Publication >> Personne ):\n",
    "        inverse = ecrit\n",
    "\n",
    "\n",
    "    class Affiliation(foaf.Organization): pass\n",
    "\n",
    "    print(Affiliation.ancestors())\n",
    "\n",
    "    class label(Affiliation >> str,FunctionalProperty): pass # DataProperty):\n",
    "        #domaine = [Affiliation]\n",
    "        #range = [str] # , FunctionalProperty): pass\n",
    "    label.comment = [\" Le prefLabel d'une organization\"]\n",
    "\n",
    "    class url(Affiliation >> str,FunctionalProperty): pass\n",
    "        #domaine = [Affiliation]\n",
    "        #range = str\n",
    "    url.comment = [\"L'url de l'organisazion, presque foaf.homepage mais sans imposer un foaf.Document \"]\n",
    "\n",
    "    class status(Affiliation>>str, FunctionalProperty):pass #DataProperty\n",
    "    status.comment = [\"Indique l'état actuel de l'organization, typiquement valid ou old\"]\n",
    "\n",
    "    class affiliationType (Affiliation >>str, FunctionalProperty ):pass\n",
    "    affiliationType.comment = [\"Caractérise l'organisation : institution, comme une école, Laboratory ou Researchteam au sein d'un labo\"]\n",
    "    affiliationType.comment.append(\"Pour le moment je ne gére pas la relation de composition des organizations\")\n",
    "\n",
    "\n",
    "    class member(foaf.member):\n",
    "        domaine = [Affiliation]\n",
    "        range = [foaf.Person]\n",
    "    member.comment = [\"duplication de foaf.member pour disposer des liens dans protégé\"]\n",
    "\n",
    "    AllDisjoint([Personne, Publication,Affiliation])"
   ],
   "metadata": {
    "collapsed": false
   }
  },
  {
   "cell_type": "markdown",
   "source": [
    "Test rapide du modèle avec un raisonneur. (Initialement, le reasoner ne fonctionnait pas sur ma machine. Ccontournement : sauver l'ontologie et passer le raisonneur depuis protégé.)"
   ],
   "metadata": {
    "collapsed": false
   }
  },
  {
   "cell_type": "code",
   "execution_count": 3,
   "outputs": [
    {
     "name": "stderr",
     "output_type": "stream",
     "text": [
      "* Owlready2 * Running HermiT...\n",
      "    c:\\Program Files\\Java\\jdk-19\\bin\\java.exe -Xmx2000M -cp C:\\Users\\tof\\AppData\\Local\\Programs\\Python\\Python310\\lib\\site-packages\\owlready2\\hermit;C:\\Users\\tof\\AppData\\Local\\Programs\\Python\\Python310\\lib\\site-packages\\owlready2\\hermit\\HermiT.jar org.semanticweb.HermiT.cli.CommandLine -c -O -D -I file:///C:/Users/tof/AppData/Local/Temp/tmp3m7e0nvi -Y\n"
     ]
    },
    {
     "name": "stdout",
     "output_type": "stream",
     "text": [
      "Ok, the ontology is consistent.\n"
     ]
    },
    {
     "name": "stderr",
     "output_type": "stream",
     "text": [
      "* Owlready2 * HermiT took 0.6285173892974854 seconds\n",
      "* Owlready2 * Warning: Cannot find new parent '9'\n",
      "* Owlready2 * Warning: Cannot find new parent '9'\n",
      "* Owlready2 * Warning: Cannot find new parent '9'\n",
      "* Owlready * Reparenting prepaFilRouge.Publication: {foaf.Document} => set()\n",
      "* Owlready * Reparenting prepaFilRouge.Personne: {foaf.Person} => set()\n",
      "* Owlready * Reparenting prepaFilRouge.Affiliation: {foaf.Organization} => set()\n",
      "* Owlready * Reparenting foaf.isPrimaryTopicOf: {foaf.page, owl.ObjectProperty, owl.InverseFunctionalProperty} => {foaf.page, owl.InverseFunctionalProperty}\n",
      "* Owlready * Reparenting foaf.tipjar: {foaf.page, owl.ObjectProperty} => {foaf.page}\n",
      "* Owlready * Reparenting foaf.weblog: {foaf.page, owl.ObjectProperty, owl.InverseFunctionalProperty} => {foaf.page, owl.InverseFunctionalProperty}\n",
      "* Owlready * Reparenting foaf.img: {foaf.depiction, owl.ObjectProperty} => {foaf.depiction}\n",
      "* Owlready * Reparenting foaf.msnChatID: {foaf.nick, owl.DatatypeProperty} => {foaf.nick}\n",
      "* Owlready * Reparenting foaf.icqChatID: {foaf.nick, owl.DatatypeProperty} => {foaf.nick}\n",
      "* Owlready * Reparenting foaf.yahooChatID: {foaf.nick, owl.DatatypeProperty} => {foaf.nick}\n",
      "* Owlready * Reparenting foaf.skypeID: {foaf.nick, owl.DatatypeProperty} => {foaf.nick}\n",
      "* Owlready * Reparenting foaf.aimChatID: {foaf.nick, owl.DatatypeProperty} => {foaf.nick}\n",
      "* Owlready * Reparenting foaf.homepage: {foaf.isPrimaryTopicOf, owl.ObjectProperty, owl.InverseFunctionalProperty, foaf.page} => {foaf.isPrimaryTopicOf}\n",
      "* Owlready * Reparenting foaf.openid: {foaf.isPrimaryTopicOf, owl.ObjectProperty, owl.InverseFunctionalProperty} => {foaf.isPrimaryTopicOf}\n",
      "* Owlready * (NB: only changes on entities loaded in Python are shown, other changes are done but not listed)\n"
     ]
    }
   ],
   "source": [
    "with onto:\n",
    "    try:\n",
    "        #sync_reasoner()  # par HermiT\n",
    "        sync_reasoner(infer_property_values=True, debug=True, keep_tmp_file=True)\n",
    "        #sync_reasoner_pellet()\n",
    "        #sync_reasoner_pellet(infer_property_values=True, infer_data_property_values=True, debug=True, keep_tmp_file=True)\n",
    "        print(\"Ok, the ontology is consistent.\")\n",
    "    except OwlReadyInconsistentOntologyError:\n",
    "        print(\"The ontology is inconsistent!\")"
   ],
   "metadata": {
    "collapsed": false
   }
  },
  {
   "cell_type": "code",
   "execution_count": 4,
   "outputs": [],
   "source": [
    "onto.save(\"prepaPFR_1.owl\")"
   ],
   "metadata": {
    "collapsed": false
   }
  },
  {
   "cell_type": "markdown",
   "source": [
    "## II. Peuplement de l'ontologie\n",
    "\n",
    "Je recherche tous les auteurs de HAL qui se nomment YOLAINE BOURDA. (En faisant abstraction des majuscules.)\n",
    "\n",
    "## II.1 import d’auteurs Hal, première manière IRI déréférencable\n",
    "\n",
    "Je ne vais rien dupliquer et conserver les IRI qui sont souvent déréférencable dans HAL."
   ],
   "metadata": {
    "collapsed": false
   }
  },
  {
   "cell_type": "code",
   "execution_count": 5,
   "outputs": [],
   "source": [
    "#from owlready2.sparql.endpoint import *\n",
    "sparql = SPARQLWrapper(\"http://sparql.archives-ouvertes.fr/sparql\")\n",
    "sparql.setTimeout(60)\n",
    "query = \"\"\"prefix foaf: <http://xmlns.com/foaf/0.1/>\n",
    "select distinct ?s\n",
    "where {\n",
    " ?s a foaf:Person; foaf:familyName ?nomFamille.\n",
    " #OPTIONAL {?s <http://www.openarchives.org/ore/terms/isAggregatedBy> ?o}\n",
    " ?s foaf:firstName ?prenom.\n",
    " #?s foaf:name ?name.\n",
    "\n",
    " FILTER (UCASE( ?prenom)=\"YOLAINE\").\n",
    " FILTER (UCASE( ?nomFamille)=\"BOURDA\").\n",
    "}\n",
    "LIMIT 100\n",
    "\"\"\""
   ],
   "metadata": {
    "collapsed": false
   }
  },
  {
   "cell_type": "code",
   "execution_count": 6,
   "outputs": [],
   "source": [
    "def extractUriValues (jsonSrc):  # Fonction pour extraire les URI du résultat d'une requête\n",
    "    tabl = jsonSrc[\"results\"][\"bindings\"]\n",
    "    newResult = []\n",
    "    for t in tabl:\n",
    "        for k,v in t.items():\n",
    "            if ('type' in v):\n",
    "                if v['type']=='uri':\n",
    "                    newResult.append(v['value'])\n",
    "    return newResult"
   ],
   "metadata": {
    "collapsed": false
   }
  },
  {
   "cell_type": "code",
   "execution_count": 7,
   "outputs": [
    {
     "name": "stdout",
     "output_type": "stream",
     "text": [
      "['https://data.archives-ouvertes.fr/author/46799', 'https://data.archives-ouvertes.fr/author/270747', 'https://data.archives-ouvertes.fr/author/yolaine-bourda', 'https://data.archives-ouvertes.fr/author/1420714', 'https://data.archives-ouvertes.fr/author/4635', 'https://data.archives-ouvertes.fr/author/1295368']\n"
     ]
    }
   ],
   "source": [
    "sparql.setQuery(query)\n",
    "sparql.setReturnFormat(JSON)\n",
    "results = sparql.query().convert()\n",
    "tabFOAF = extractUriValues(results)\n",
    "print(tabFOAF)"
   ],
   "metadata": {
    "collapsed": false
   }
  },
  {
   "cell_type": "code",
   "execution_count": 8,
   "outputs": [],
   "source": [
    "# Test manuel sur un cas\n",
    "#px = foaf.Person()\n",
    "#px.set_iri('https://data.archives-ouvertes.fr/author/46799')\n",
    "#t= Personne(name=None,namespace=onto,halPerson = [px])\n"
   ],
   "metadata": {
    "collapsed": false
   }
  },
  {
   "cell_type": "code",
   "execution_count": 9,
   "outputs": [],
   "source": [
    "with onto:\n",
    "    for i in tabFOAF:\n",
    "        p = foaf.Person(namespace=onto)\n",
    "        p.set_iri(i)\n",
    "        # p.isDefinedBy = [\"http://sparql.archives-ouvertes.fr/\"]\n",
    "        pers = Personne(halPerson = [p])\n",
    "        p.maPersonne = [pers]"
   ],
   "metadata": {
    "collapsed": false
   }
  },
  {
   "cell_type": "markdown",
   "source": [
    "Je vérifie que ces individus sont bien dans l'ontologie"
   ],
   "metadata": {
    "collapsed": false
   }
  },
  {
   "cell_type": "code",
   "execution_count": 27,
   "outputs": [
    {
     "name": "stdout",
     "output_type": "stream",
     "text": [
      "author.46799 [foaf.Person]\n",
      "prepaFilRouge.personne7 [prepaFilRouge.Personne]\n",
      ".halIdPerson == author.yolaine-bourda\n",
      ".fullName == Yolaine Bourda\n",
      ".halPerson == author.46799\n",
      "author.270747 [foaf.Person]\n",
      "prepaFilRouge.personne8 [prepaFilRouge.Personne]\n",
      ".halIdPerson == author.yolaine-bourda\n",
      ".fullName == Yolaine Bourda\n",
      ".halPerson == author.270747\n",
      "author.yolaine-bourda [foaf.Person]\n",
      "prepaFilRouge.personne9 [prepaFilRouge.Personne]\n",
      ".fullName == Yolaine Bourda\n",
      ".halPerson == author.yolaine-bourda\n",
      "author.1420714 [foaf.Person]\n",
      "prepaFilRouge.personne10 [prepaFilRouge.Personne]\n",
      ".fullName == Yolaine Bourda\n",
      ".halPerson == author.1420714\n",
      "author.4635 [foaf.Person]\n",
      "prepaFilRouge.personne11 [prepaFilRouge.Personne]\n",
      ".halIdPerson == author.yolaine-bourda\n",
      ".fullName == Yolaine Bourda\n",
      ".halPerson == author.4635\n",
      "author.1295368 [foaf.Person]\n",
      "prepaFilRouge.personne12 [prepaFilRouge.Personne]\n",
      ".halIdPerson == author.yolaine-bourda\n",
      ".fullName == Yolaine Bourda\n",
      ".halPerson == author.1295368\n"
     ]
    }
   ],
   "source": [
    "for i in onto.individuals():\n",
    "    print (i,i.is_a)\n",
    "    for prop in i.get_properties():\n",
    "        for value in prop[i]:\n",
    "            print(\".%s == %s\" % (prop.python_name, value))"
   ],
   "metadata": {
    "collapsed": false
   }
  },
  {
   "cell_type": "code",
   "execution_count": 11,
   "outputs": [],
   "source": [
    "for i in onto.individuals():\n",
    "    destroy_entity(i)"
   ],
   "metadata": {
    "collapsed": false
   }
  },
  {
   "cell_type": "markdown",
   "source": [
    "### II.2 import d'auteurs Hal, deuxième manière : duplication des données\n",
    "Avec la requête, je vais préciser les éléments que je souhaite utiliser pour peupler l'ontologie"
   ],
   "metadata": {
    "collapsed": false
   }
  },
  {
   "cell_type": "code",
   "execution_count": 12,
   "outputs": [],
   "source": [
    "query=\"\"\"prefix foaf: <http://xmlns.com/foaf/0.1/>\n",
    "select distinct ?s ?name ?idHal\n",
    "where {\n",
    " ?s a foaf:Person; foaf:familyName ?nomFamille.\n",
    " OPTIONAL {?s <http://www.openarchives.org/ore/terms/isAggregatedBy> ?idHal}\n",
    " ?s foaf:firstName ?prenom.\n",
    " ?s foaf:name ?name.\n",
    "\n",
    " FILTER (UCASE( ?prenom)=\"YOLAINE\").\n",
    " FILTER (UCASE( ?nomFamille)=\"BOURDA\").\n",
    "}\n",
    "LIMIT 100\n",
    "\"\"\""
   ],
   "metadata": {
    "collapsed": false
   }
  },
  {
   "cell_type": "code",
   "execution_count": 13,
   "outputs": [],
   "source": [
    "sparql.setTimeout(60)\n",
    "sparql.setQuery(query)\n",
    "sparql.setReturnFormat(CSV)\n",
    "results = sparql.query().convert()"
   ],
   "metadata": {
    "collapsed": false
   }
  },
  {
   "cell_type": "code",
   "execution_count": 14,
   "outputs": [
    {
     "name": "stdout",
     "output_type": "stream",
     "text": [
      "b'\"s\",\"name\",\"idHal\"\\n\"https://data.archives-ouvertes.fr/author/46799\",\"Yolaine Bourda\",\"https://data.archives-ouvertes.fr/author/yolaine-bourda\"\\n\"https://data.archives-ouvertes.fr/author/270747\",\"Yolaine Bourda\",\"https://data.archives-ouvertes.fr/author/yolaine-bourda\"\\n\"https://data.archives-ouvertes.fr/author/yolaine-bourda\",\"Yolaine Bourda\",\\n\"https://data.archives-ouvertes.fr/author/1420714\",\"Yolaine Bourda\",\\n\"https://data.archives-ouvertes.fr/author/4635\",\"Yolaine Bourda\",\"https://data.archives-ouvertes.fr/author/yolaine-bourda\"\\n\"https://data.archives-ouvertes.fr/author/1295368\",\"Yolaine Bourda\",\"https://data.archives-ouvertes.fr/author/yolaine-bourda\"\\n'\n"
     ]
    }
   ],
   "source": [
    "print (results)"
   ],
   "metadata": {
    "collapsed": false
   }
  },
  {
   "cell_type": "markdown",
   "source": [
    "Je peux maintenant peupler l'ontologie, mais je dois procéder en deux temps car lorsque je créé la première foaf.Person, l'idHal (une foaf.Person également) n'existe pas encore.\n"
   ],
   "metadata": {
    "collapsed": false
   }
  },
  {
   "cell_type": "code",
   "execution_count": 15,
   "outputs": [
    {
     "name": "stdout",
     "output_type": "stream",
     "text": [
      "\"https://data.archives-ouvertes.fr/author/46799\" \"Yolaine Bourda\" \"https://data.archives-ouvertes.fr/author/yolaine-bourda\"\n",
      "\"https://data.archives-ouvertes.fr/author/270747\" \"Yolaine Bourda\" \"https://data.archives-ouvertes.fr/author/yolaine-bourda\"\n",
      "\"https://data.archives-ouvertes.fr/author/yolaine-bourda\" \"Yolaine Bourda\" \n",
      "\"https://data.archives-ouvertes.fr/author/1420714\" \"Yolaine Bourda\" \n",
      "\"https://data.archives-ouvertes.fr/author/4635\" \"Yolaine Bourda\" \"https://data.archives-ouvertes.fr/author/yolaine-bourda\"\n",
      "\"https://data.archives-ouvertes.fr/author/1295368\" \"Yolaine Bourda\" \"https://data.archives-ouvertes.fr/author/yolaine-bourda\"\n"
     ]
    }
   ],
   "source": [
    "tmpResult = results.decode().split('\\n')[1:-1]# je n'utilise pas la ligne de titre ni la dernière (vide)\n",
    "for l in tmpResult:\n",
    "    #print(l)\n",
    "    s,name,idHal=l.split(',')\n",
    "    print(s,name,idHal)\n",
    "    s = s.strip('\"')\n",
    "    name = name.strip('\"')\n",
    "    #print(s,name,idHal)\n",
    "    p = foaf.Person(namespace=onto)\n",
    "    p.set_iri(s)\n",
    "    #p.isDefinedBy = [\"http://sparql.archives-ouvertes.fr/\"]\n",
    "    pers = Personne(name=None,namespace=onto,halPerson = [p])\n",
    "    pers.fullName = name\n",
    "    p.maPersonne = [pers]"
   ],
   "metadata": {
    "collapsed": false
   }
  },
  {
   "cell_type": "code",
   "execution_count": 16,
   "outputs": [],
   "source": [
    "trueIdHal = \"https://data.archives-ouvertes.fr/author/yolaine-bourda\""
   ],
   "metadata": {
    "collapsed": false
   }
  },
  {
   "cell_type": "code",
   "execution_count": 17,
   "outputs": [
    {
     "name": "stdout",
     "output_type": "stream",
     "text": [
      "author.yolaine-bourda [foaf.Person]\n"
     ]
    }
   ],
   "source": [
    "# Toutes les foaf.Person sont créées je peux stocker l'idHal (qui ici sera toujours le même).\n",
    "trueIdHalPerson = onto.search_one(type = foaf.Person, iri = trueIdHal)\n",
    "print(trueIdHalPerson,trueIdHalPerson.is_a)"
   ],
   "metadata": {
    "collapsed": false
   }
  },
  {
   "cell_type": "code",
   "execution_count": 18,
   "outputs": [],
   "source": [
    "def myStrip(var:str):\n",
    "    if var is None:\n",
    "        return None\n",
    "    var = var.strip('\"')\n",
    "    if len(var)== 0:\n",
    "        return None\n",
    "    return var\n",
    "\n",
    "for l in tmpResult:\n",
    "    #print(l)\n",
    "    s,name,idHal=l.split(',')\n",
    "    #print(s,name,idHal)\n",
    "    s = myStrip(s)\n",
    "    name = myStrip(name)\n",
    "    idHal = myStrip(idHal)\n",
    "    #print(s,name,idHal)\n",
    "    if idHal is not None:\n",
    "        #print(s, idHal)\n",
    "        auteur = onto.search_one(type = foaf.Person, iri = s)\n",
    "        pers = onto.search_one(type = onto.Personne,halPerson = [auteur])\n",
    "        pers.halIdPerson = trueIdHalPerson\n"
   ],
   "metadata": {
    "collapsed": false
   }
  },
  {
   "cell_type": "code",
   "execution_count": 19,
   "outputs": [],
   "source": [
    "onto.save(\"prepaPFR_2.owl\")  # Pour vérification dans Protégé"
   ],
   "metadata": {
    "collapsed": false
   }
  },
  {
   "cell_type": "markdown",
   "source": [
    "### II.3 import des structures HAL\n",
    "Je vais importer dans l'ontologie les structures de mes personnes."
   ],
   "metadata": {
    "collapsed": false
   }
  },
  {
   "cell_type": "code",
   "execution_count": 20,
   "outputs": [],
   "source": [
    "query=\"\"\"PREFIX hal:<http://data.archives-ouvertes.fr/schema/>\n",
    "PREFIX skos:<http://www.w3.org/2004/02/skos/core#>\n",
    "PREFIX vcard:<http://www.w3.org/2006/vcard/ns#>\n",
    "PREFIX classif:<http://www.w3.org/ns/org#>\n",
    "\n",
    "select distinct ?structure ?label ?url ?status ?type\n",
    "where\n",
    "{\n",
    "{{?agregat hal:person <https://data.archives-ouvertes.fr/author/46799>. } UNION\n",
    "{?agregat hal:person <https://data.archives-ouvertes.fr/author/270747>. } UNION\n",
    "{?agregat hal:person <https://data.archives-ouvertes.fr/author/yolaine-bourda>. } UNION\n",
    "{?agregat hal:person <https://data.archives-ouvertes.fr/author/1420714>. } UNION\n",
    "{?agregat hal:person <https://data.archives-ouvertes.fr/author/4635>. } UNION\n",
    "{?agregat hal:person <https://data.archives-ouvertes.fr/author/1295368>. }}\n",
    "?agregat hal:structure ?structure\n",
    "optional {?structure skos:prefLabel ?label}\n",
    "optional {?structure vcard:url ?url}\n",
    "optional {?structure hal:status ?status}\n",
    "optional {?structure classif:classification  ?type}\n",
    "}\n",
    "\"\"\""
   ],
   "metadata": {
    "collapsed": false
   }
  },
  {
   "cell_type": "code",
   "execution_count": 21,
   "outputs": [],
   "source": [
    "sparql.setTimeout(60)\n",
    "sparql.setQuery(query)\n",
    "sparql.setReturnFormat(CSV)\n",
    "results2 = sparql.query().convert()"
   ],
   "metadata": {
    "collapsed": false
   }
  },
  {
   "cell_type": "code",
   "execution_count": 31,
   "outputs": [],
   "source": [
    "#print (results2)"
   ],
   "metadata": {
    "collapsed": false
   }
  },
  {
   "cell_type": "code",
   "execution_count": 32,
   "outputs": [
    {
     "name": "stdout",
     "output_type": "stream",
     "text": [
      "s: https://data.archives-ouvertes.fr/structure/411575  l: CentraleSupélec  u: http://www.centralesupelec.fr  s: https://data.archives-ouvertes.fr/vocabulary/StatusValid  t: https://data.archives-ouvertes.fr/vocabulary/StructureTypeInstitution\n",
      "s: https://data.archives-ouvertes.fr/structure/2544  l: Laboratoire de Recherche en Informatique  u: http://www.lri.fr/  s: https://data.archives-ouvertes.fr/vocabulary/StatusOld  t: https://data.archives-ouvertes.fr/vocabulary/StructureTypeLaboratory\n",
      "s: https://data.archives-ouvertes.fr/structure/21400  l: SUPELEC-Campus Gif  u: http://www.supelec.fr/gif/  s: https://data.archives-ouvertes.fr/vocabulary/StatusOld  t: https://data.archives-ouvertes.fr/vocabulary/StructureTypeLaboratory\n",
      "s: https://data.archives-ouvertes.fr/structure/303397  l: Ecole Supérieure d'Electricité - SUPELEC (FRANCE)  u: None  s: https://data.archives-ouvertes.fr/vocabulary/StatusValid  t: https://data.archives-ouvertes.fr/vocabulary/StructureTypeInstitution\n",
      "s: https://data.archives-ouvertes.fr/structure/123689  l: Supélec Sciences des Systèmes  u: http://www.supelec.fr/342_p_14975/e3s-equipe.html  s: https://data.archives-ouvertes.fr/vocabulary/StatusOld  t: https://data.archives-ouvertes.fr/vocabulary/StructureTypeLaboratory\n",
      "s: https://data.archives-ouvertes.fr/structure/400540  l: Données et Connaissances Massives et Hétérogènes (LRI)  u: None  s: https://data.archives-ouvertes.fr/vocabulary/StatusOld  t: https://data.archives-ouvertes.fr/vocabulary/StructureTypeResearchteam\n",
      "s: https://data.archives-ouvertes.fr/structure/1050003  l: Laboratoire de Recherche en Informatique  u: http://www.lri.fr/  s: https://data.archives-ouvertes.fr/vocabulary/StatusOld  t: https://data.archives-ouvertes.fr/vocabulary/StructureTypeLaboratory\n",
      "s: https://data.archives-ouvertes.fr/structure/454174  l: Modélisation hétérogène (LRI)  u: None  s: https://data.archives-ouvertes.fr/vocabulary/StatusOld  t: https://data.archives-ouvertes.fr/vocabulary/StructureTypeResearchteam\n",
      "s: https://data.archives-ouvertes.fr/structure/1050008  l: Données et Connaissances Massives et Hétérogènes (LRI)  u: None  s: https://data.archives-ouvertes.fr/vocabulary/StatusOld  t: https://data.archives-ouvertes.fr/vocabulary/StructureTypeResearchteam\n"
     ]
    }
   ],
   "source": [
    "tmpResult = results2.decode().split('\\n')[1:-1]\n",
    "with onto:\n",
    "    for l in tmpResult:\n",
    "        #print(l)\n",
    "        structure,label,url,status,sType =l.split(',')\n",
    "        structure = myStrip(structure)\n",
    "        label = myStrip(label)\n",
    "        url = myStrip(url)\n",
    "        status = myStrip(status)\n",
    "        sType = myStrip(sType)\n",
    "\n",
    "        print('s:',structure,' l:', label,' u:',url,' s:',status,' t:',sType)\n",
    "        struc = Affiliation(namespace=onto)\n",
    "        struc.set_iri(structure)\n",
    "        if label is not None:\n",
    "            struc.label = label\n",
    "        if url is not None:\n",
    "            struc.url = url\n",
    "        if status is not None:\n",
    "            struc.status = status\n",
    "        if sType is not None:\n",
    "            struc.affiliationType = sType\n"
   ],
   "metadata": {
    "collapsed": false
   }
  },
  {
   "cell_type": "code",
   "execution_count": 33,
   "outputs": [],
   "source": [
    "onto.save(\"prepaPFR_3.owl\")"
   ],
   "metadata": {
    "collapsed": false
   }
  },
  {
   "cell_type": "markdown",
   "source": [
    "### II.4 import des documents depuis HAL\n",
    "On va créer les publications"
   ],
   "metadata": {
    "collapsed": false
   }
  },
  {
   "cell_type": "code",
   "execution_count": 34,
   "outputs": [],
   "source": [
    "query=\"\"\"PREFIX dcterms:<http://purl.org/dc/terms/>\n",
    "PREFIX doc:<https://data.archives-ouvertes.fr/document/>\n",
    "PREFIX ore:<http://www.openarchives.org/ore/terms/>\n",
    "PREFIX hal:<http://data.archives-ouvertes.fr/schema/>\n",
    "PREFIX foaf:<http://xmlns.com/foaf/0.1/>\n",
    "\n",
    "select  distinct ?document  ?NumCreators\n",
    "where\n",
    "{\n",
    "?document dcterms:hasVersion ?version.\n",
    "#?version dcterms:title ?title; dcterms:creator ?creator.\n",
    "?version dcterms:creator ?creator.\n",
    "\n",
    "{\n",
    "{?creator hal:person <https://data.archives-ouvertes.fr/author/46799>. } UNION\n",
    "{?creator hal:person <https://data.archives-ouvertes.fr/author/270747>. } UNION\n",
    "{?creator hal:person <https://data.archives-ouvertes.fr/author/yolaine-bourda>. } UNION\n",
    "{?creator hal:person <https://data.archives-ouvertes.fr/author/1420714>. } UNION\n",
    "{?creator hal:person <https://data.archives-ouvertes.fr/author/4635>. } UNION\n",
    "{?creator hal:person <https://data.archives-ouvertes.fr/author/1295368>. }\n",
    "}\n",
    "\n",
    "{\n",
    "select ?version count(distinct ?o) as ?NumCreators\n",
    "where {\n",
    "?version dcterms:creator ?o.\n",
    "}\n",
    "}\n",
    "}\n",
    "group by ?document ?NumCreators\n",
    "HAVING ( ?NumCreators < 30)\n",
    "\"\"\"\n"
   ],
   "metadata": {
    "collapsed": false
   }
  },
  {
   "cell_type": "code",
   "execution_count": 26,
   "outputs": [
    {
     "ename": "NameError",
     "evalue": "name 'setPublications' is not defined",
     "output_type": "error",
     "traceback": [
      "\u001B[1;31m---------------------------------------------------------------------------\u001B[0m",
      "\u001B[1;31mNameError\u001B[0m                                 Traceback (most recent call last)",
      "Cell \u001B[1;32mIn[26], line 2\u001B[0m\n\u001B[0;32m      1\u001B[0m \u001B[38;5;28;01mwith\u001B[39;00m onto:\n\u001B[1;32m----> 2\u001B[0m     \u001B[38;5;28;01mfor\u001B[39;00m i \u001B[38;5;129;01min\u001B[39;00m \u001B[43msetPublications\u001B[49m:\n\u001B[0;32m      3\u001B[0m         \u001B[38;5;66;03m#print(i)\u001B[39;00m\n\u001B[0;32m      4\u001B[0m         query \u001B[38;5;241m=\u001B[39m queryAuthor(i)\n\u001B[0;32m      5\u001B[0m         \u001B[38;5;66;03m#print(query)\u001B[39;00m\n",
      "\u001B[1;31mNameError\u001B[0m: name 'setPublications' is not defined"
     ]
    }
   ],
   "source": [
    "with onto:\n",
    "    for i in setPublications:\n",
    "        #print(i)\n",
    "        query = queryAuthor(i)\n",
    "        #print(query)\n",
    "        sparql.setQuery(query)\n",
    "        sparql.setReturnFormat(JSON)\n",
    "        results = sparql.query().convert()\n",
    "        tabAuteurs = extractUriValues(results)\n",
    "        foafDoc = onto.search_one(type = foaf.Document, iri = i)\n",
    "        #print('fD:',foafDoc)\n",
    "        for autIri in tabAuteurs:\n",
    "            foafAuteur = onto.search_one(type = foaf.Person, iri = autIri)\n",
    "\n",
    "            if foafAuteur is None:\n",
    "                #print(\"création d'un auteur\")\n",
    "                foafAuteur = foaf.Person()\n",
    "                foafAuteur.set_iri(autIri)\n",
    "\n",
    "            #print ('fA:',foafAuteur.iri)\n",
    "\n",
    "            #print(foafAuteur.publications)\n",
    "            foafAuteur.publications.append(foafDoc)\n",
    "\n",
    "            pub = foafDoc.maPublication\n",
    "\n",
    "            if pub is not None:\n",
    "                foafAuteur.maPublication.append(pub)\n"
   ],
   "metadata": {
    "collapsed": false
   }
  },
  {
   "cell_type": "code",
   "execution_count": null,
   "outputs": [],
   "source": [
    "onto.save(\"prepaPFR_5.owl\")"
   ],
   "metadata": {
    "collapsed": false
   }
  },
  {
   "cell_type": "code",
   "execution_count": null,
   "outputs": [],
   "source": [],
   "metadata": {
    "collapsed": false
   }
  },
  {
   "cell_type": "markdown",
   "source": [
    "Pour tester le raisonneur, quelques propriétés :"
   ],
   "metadata": {
    "collapsed": false
   }
  },
  {
   "cell_type": "code",
   "execution_count": null,
   "outputs": [],
   "source": [
    "with onto:\n",
    "    # je n'arrive pas à donner à une ObjectProperty deux caractéristiques\n",
    "    # je passe par une subproperties\n",
    "    class baseIrreflexiveProperty (ObjectProperty, IrreflexiveProperty):pass\n",
    "\n",
    "    class coEcrit(baseIrreflexiveProperty, SymmetricProperty):# todo préciser la def ?\n",
    "        domain = [Personne]\n",
    "        range = [Personne]\n",
    "        #is_a = [     foaf.publications.some(foaf.Document) ]   # ecritPar(Publication >> Personne )\n",
    "\n",
    "    class collegue(baseIrreflexiveProperty,SymmetricProperty):# todo a completer simpliste car on ne gère pas le temps\n",
    "        domain = [Personne]\n",
    "        range = [Personne]\n",
    "\n",
    "# dans Protégé on voit que collegue est inféré comme etant son propre inverse.\n",
    "# logique pour une relation symétrique."
   ],
   "metadata": {
    "collapsed": false
   }
  },
  {
   "cell_type": "code",
   "execution_count": null,
   "outputs": [],
   "source": [
    "print(foaf.Person.ancestors())"
   ],
   "metadata": {
    "collapsed": false
   }
  },
  {
   "cell_type": "code",
   "execution_count": null,
   "outputs": [],
   "source": [
    "unNamedPerson = Personne()\n",
    "print(unNamedPerson.iri)\n",
    "print(Personne.ancestors()) # toutes les superclasses\n",
    "# print(Personne.is_a)"
   ],
   "metadata": {
    "collapsed": false
   }
  },
  {
   "cell_type": "markdown",
   "source": [
    "On ne retrouve pas la personne qui existe pourtant. Ceci vient du fait que owlready2 tronque l'iri que j'ai donné.\n",
    "La fonction qui aligne les iri sur le modèle d'owlready2 :"
   ],
   "metadata": {
    "collapsed": false
   }
  },
  {
   "cell_type": "code",
   "execution_count": null,
   "outputs": [],
   "source": [
    "tab = results[\"results\"][\"bindings\"]\n",
    "print(tab[0])\n"
   ],
   "metadata": {
    "collapsed": false
   }
  },
  {
   "cell_type": "code",
   "execution_count": null,
   "outputs": [],
   "source": [
    "def myCorrector( iri:str):\n",
    "    i1 = iri.rfind('/')\n",
    "    i2 = -1\n",
    "    if i1 != -1:\n",
    "        i2 = iri.rfind('/',0,i1)\n",
    "    newIri = iri\n",
    "    if i2 != -1:\n",
    "        return iri[i2+1:]\n",
    "    return iri"
   ],
   "metadata": {
    "collapsed": false
   }
  },
  {
   "cell_type": "code",
   "execution_count": null,
   "outputs": [],
   "source": [
    "import json\n",
    "\n",
    "\n",
    "results_dict = json.loads(results[\"results\"])\n",
    "\n",
    "print(type(results[\"results\"]))\n",
    "print(type(results_dict))"
   ],
   "metadata": {
    "collapsed": false
   }
  },
  {
   "cell_type": "code",
   "execution_count": null,
   "metadata": {},
   "outputs": [],
   "source": [
    "for i in onto.individuals() : #classes() object_properties() data_properties() ...\n",
    "    print(i)    "
   ]
  },
  {
   "cell_type": "code",
   "execution_count": null,
   "metadata": {},
   "outputs": [],
   "source": [
    "onto.save(\"papiers.owl\")"
   ]
  },
  {
   "cell_type": "code",
   "execution_count": null,
   "metadata": {},
   "outputs": [],
   "source": [
    "with onto:\n",
    "    sync_reasoner_pellet(infer_property_values=True, infer_data_property_values=True, debug=True, keep_tmp_file=True)"
   ]
  },
  {
   "cell_type": "code",
   "execution_count": null,
   "metadata": {},
   "outputs": [],
   "source": [
    "# Avons-nous des classes inconsistantes ?\n",
    "print(list(onto.world.inconsistent_classes()))"
   ]
  },
  {
   "cell_type": "code",
   "execution_count": null,
   "metadata": {},
   "outputs": [],
   "source": [
    "onto.destroy()"
   ]
  }
 ],
 "metadata": {
  "kernelspec": {
   "display_name": "Python 3 (ipykernel)",
   "language": "python",
   "name": "python3"
  },
  "language_info": {
   "codemirror_mode": {
    "name": "ipython",
    "version": 3
   },
   "file_extension": ".py",
   "mimetype": "text/x-python",
   "name": "python",
   "nbconvert_exporter": "python",
   "pygments_lexer": "ipython3",
   "version": "3.8.12"
  }
 },
 "nbformat": 4,
 "nbformat_minor": 4
}
