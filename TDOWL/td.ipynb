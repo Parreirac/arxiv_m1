{
 "cells": [
  {
   "cell_type": "markdown",
   "source": [
    "# Objectifs de ce Notebook\n",
    "En application du TD3, je vais explorer ce que l’on pourrait faire avec les ontologies côté arXive, sur le modèle de ce que propose HAL. (Il y a donc in fine l’idée de proposer pour arXive une ontologie sommaire pour le domaine cs.AI. Du coup, je ne créé pas ici d’ontologie dans protégé, je le ferai plus tard pour correspondre au projet fil rouge (PFR) sur arXive.)\n",
    "Dans le cadre du PFR, on pourrait vérifier/compléter nos données avec des requêtes dans des endpoints HAL (par exemple rechercher un doc archive dans HAL, ou des auteurs) ou d’autres.\n",
    "Je vais créer une ontologie simple, directement avec owlready2, puis je vais la peupler avec SPARQLWrapper.\n",
    "Dans un 3e temps, je vais tenter d’explorer l’emploi du raisonneur, voire d’autres éléments."
   ],
   "metadata": {
    "collapsed": false
   }
  },
  {
   "cell_type": "markdown",
   "source": [
    "## I. Création de l’ontologie dans PYTHON\n",
    "\n",
    "### I. Création"
   ],
   "metadata": {
    "collapsed": false
   }
  },
  {
   "cell_type": "code",
   "execution_count": 1,
   "outputs": [
    {
     "name": "stderr",
     "output_type": "stream",
     "text": [
      "* Owlready2 * WARNING: DataProperty http://xmlns.com/foaf/0.1/nick belongs to more than one entity types: [owl.ObjectProperty, owl.DatatypeProperty]; I'm trying to fix it...\n",
      "* Owlready2 * WARNING: DataProperty http://xmlns.com/foaf/0.1/aimChatID belongs to more than one entity types: [owl.ObjectProperty, owl.InverseFunctionalProperty, owl.DatatypeProperty, foaf.nick]; I'm trying to fix it...\n",
      "* Owlready2 * WARNING: DataProperty http://xmlns.com/foaf/0.1/icqChatID belongs to more than one entity types: [owl.ObjectProperty, owl.InverseFunctionalProperty, owl.DatatypeProperty, foaf.nick]; I'm trying to fix it...\n",
      "* Owlready2 * WARNING: DataProperty http://xmlns.com/foaf/0.1/jabberID belongs to more than one entity types: [owl.ObjectProperty, owl.InverseFunctionalProperty, owl.DatatypeProperty]; I'm trying to fix it...\n",
      "* Owlready2 * WARNING: DataProperty http://xmlns.com/foaf/0.1/mbox_sha1sum belongs to more than one entity types: [owl.ObjectProperty, owl.InverseFunctionalProperty, owl.DatatypeProperty]; I'm trying to fix it...\n",
      "* Owlready2 * WARNING: DataProperty http://xmlns.com/foaf/0.1/msnChatID belongs to more than one entity types: [owl.ObjectProperty, owl.InverseFunctionalProperty, owl.DatatypeProperty, foaf.nick]; I'm trying to fix it...\n",
      "* Owlready2 * WARNING: DataProperty http://xmlns.com/foaf/0.1/skypeID belongs to more than one entity types: [owl.ObjectProperty, owl.DatatypeProperty, foaf.nick]; I'm trying to fix it...\n",
      "* Owlready2 * WARNING: DataProperty http://xmlns.com/foaf/0.1/yahooChatID belongs to more than one entity types: [owl.ObjectProperty, owl.InverseFunctionalProperty, owl.DatatypeProperty, foaf.nick]; I'm trying to fix it...\n"
     ]
    }
   ],
   "source": [
    "from owlready2 import *\n",
    "from SPARQLWrapper import *\n",
    "#from rdflib.namespace._FOAF import FOAF  # génère un warning\n",
    "\n",
    "#il n'y a pas le logger standard (import logging, maintenant dans python) mais la doc propose :\n",
    "#set_log_level(9)\n",
    "set_log_level(0) #  pour désactiver\n",
    "\n",
    "# Je vais modifier l'ontologie du TD, je la renomme. Elle sera basée sur FOAF puisque HAL l'utilise.\n",
    "onto = get_ontology('https://cp.org/prepaFilRouge.owl#')\n",
    "foaf = get_ontology('foaf.owl').load()\n",
    "onto.imported_ontologies.append(foaf)"
   ],
   "metadata": {
    "collapsed": false
   }
  },
  {
   "cell_type": "code",
   "execution_count": 2,
   "outputs": [
    {
     "ename": "AttributeError",
     "evalue": "'NoneType' object has no attribute 'storid'",
     "output_type": "error",
     "traceback": [
      "\u001B[1;31m---------------------------------------------------------------------------\u001B[0m",
      "\u001B[1;31mAttributeError\u001B[0m                            Traceback (most recent call last)",
      "Cell \u001B[1;32mIn[2], line 79\u001B[0m\n\u001B[1;32m---> 79\u001B[0m \u001B[38;5;28;01mclass\u001B[39;00m \u001B[38;5;21;01murl\u001B[39;00m(Affiliation \u001B[38;5;241m>>\u001B[39m rdfs\u001B[38;5;241m.\u001B[39mliteral,FunctionalProperty): \u001B[38;5;28;01mpass\u001B[39;00m\n",
      "File \u001B[1;32m~\\AppData\\Local\\Programs\\Python\\Python310\\lib\\site-packages\\owlready2\\prop.py:475\u001B[0m, in \u001B[0;36mReasoningPropertyClass.__init__\u001B[1;34m(Prop, name, bases, obj_dict)\u001B[0m\n\u001B[0;32m    474\u001B[0m \u001B[38;5;28;01mdef\u001B[39;00m \u001B[38;5;21m__init__\u001B[39m(Prop, name, bases, obj_dict):\n\u001B[1;32m--> 475\u001B[0m   \u001B[38;5;28;43msuper\u001B[39;49m\u001B[43m(\u001B[49m\u001B[43m)\u001B[49m\u001B[38;5;241;43m.\u001B[39;49m\u001B[38;5;21;43m__init__\u001B[39;49m\u001B[43m(\u001B[49m\u001B[43mname\u001B[49m\u001B[43m,\u001B[49m\u001B[43m \u001B[49m\u001B[43mbases\u001B[49m\u001B[43m,\u001B[49m\u001B[43m \u001B[49m\u001B[43mobj_dict\u001B[49m\u001B[43m)\u001B[49m\n\u001B[0;32m    477\u001B[0m   \u001B[38;5;28;01mif\u001B[39;00m (\u001B[38;5;129;01mnot\u001B[39;00m Prop\u001B[38;5;241m.\u001B[39mnamespace\u001B[38;5;241m.\u001B[39mworld \u001B[38;5;129;01mis\u001B[39;00m owl_world):\n\u001B[0;32m    478\u001B[0m     Prop\u001B[38;5;241m.\u001B[39mnamespace\u001B[38;5;241m.\u001B[39mworld\u001B[38;5;241m.\u001B[39m_reasoning_props[Prop\u001B[38;5;241m.\u001B[39m_python_name] \u001B[38;5;241m=\u001B[39m Prop\n",
      "File \u001B[1;32m~\\AppData\\Local\\Programs\\Python\\Python310\\lib\\site-packages\\owlready2\\prop.py:96\u001B[0m, in \u001B[0;36mPropertyClass.__init__\u001B[1;34m(Prop, name, bases, obj_dict)\u001B[0m\n\u001B[0;32m     93\u001B[0m   Prop\u001B[38;5;241m.\u001B[39mdomain\u001B[38;5;241m.\u001B[39mextend(domain)\n\u001B[0;32m     95\u001B[0m \u001B[38;5;28;01mif\u001B[39;00m \u001B[38;5;129;01mnot\u001B[39;00m \u001B[38;5;28mrange\u001B[39m \u001B[38;5;129;01mis\u001B[39;00m \u001B[38;5;28;01mFalse\u001B[39;00m:\n\u001B[1;32m---> 96\u001B[0m   \u001B[43mProp\u001B[49m\u001B[38;5;241;43m.\u001B[39;49m\u001B[43mrange\u001B[49m\u001B[38;5;241;43m.\u001B[39;49m\u001B[43mextend\u001B[49m\u001B[43m(\u001B[49m\u001B[38;5;28;43mrange\u001B[39;49m\u001B[43m)\u001B[49m\n\u001B[0;32m     98\u001B[0m \u001B[38;5;28;01mif\u001B[39;00m \u001B[38;5;129;01mnot\u001B[39;00m inverse_property \u001B[38;5;129;01mis\u001B[39;00m \u001B[38;5;28;01mFalse\u001B[39;00m:\n\u001B[0;32m     99\u001B[0m   Prop\u001B[38;5;241m.\u001B[39minverse_property \u001B[38;5;241m=\u001B[39m inverse_property\n",
      "File \u001B[1;32m~\\AppData\\Local\\Programs\\Python\\Python310\\lib\\site-packages\\owlready2\\util.py:79\u001B[0m, in \u001B[0;36mCallbackList.extend\u001B[1;34m(self, l)\u001B[0m\n\u001B[1;32m---> 79\u001B[0m \u001B[38;5;28;01mdef\u001B[39;00m \u001B[38;5;21mextend\u001B[39m(\u001B[38;5;28mself\u001B[39m, l):        old \u001B[38;5;241m=\u001B[39m \u001B[38;5;28mlist\u001B[39m(\u001B[38;5;28mself\u001B[39m); \u001B[38;5;28msuper\u001B[39m()\u001B[38;5;241m.\u001B[39mextend(l)         ; \u001B[38;5;28;43mself\u001B[39;49m\u001B[38;5;241;43m.\u001B[39;49m\u001B[43m_callback\u001B[49m\u001B[43m(\u001B[49m\u001B[38;5;28;43mself\u001B[39;49m\u001B[38;5;241;43m.\u001B[39;49m\u001B[43m_obj\u001B[49m\u001B[43m,\u001B[49m\u001B[43m \u001B[49m\u001B[43mold\u001B[49m\u001B[43m)\u001B[49m\n",
      "File \u001B[1;32m~\\AppData\\Local\\Programs\\Python\\Python310\\lib\\site-packages\\owlready2\\prop.py:188\u001B[0m, in \u001B[0;36mPropertyClass._range_changed\u001B[1;34m(Prop, old)\u001B[0m\n\u001B[0;32m    186\u001B[0m \u001B[38;5;28;01mfor\u001B[39;00m x \u001B[38;5;129;01min\u001B[39;00m new \u001B[38;5;241m-\u001B[39m old:\n\u001B[0;32m    187\u001B[0m   \u001B[38;5;28;01mif\u001B[39;00m \u001B[38;5;28misinstance\u001B[39m(x, Construct): x \u001B[38;5;241m=\u001B[39m x\u001B[38;5;241m.\u001B[39m_set_ontology_copy_if_needed(Prop\u001B[38;5;241m.\u001B[39mnamespace\u001B[38;5;241m.\u001B[39montology, Prop\u001B[38;5;241m.\u001B[39mrange)\n\u001B[1;32m--> 188\u001B[0m   x2 \u001B[38;5;241m=\u001B[39m _universal_datatype_2_abbrev\u001B[38;5;241m.\u001B[39mget(x) \u001B[38;5;129;01mor\u001B[39;00m \u001B[43mx\u001B[49m\u001B[38;5;241;43m.\u001B[39;49m\u001B[43mstorid\u001B[49m\n\u001B[0;32m    189\u001B[0m   Prop\u001B[38;5;241m.\u001B[39mnamespace\u001B[38;5;241m.\u001B[39montology\u001B[38;5;241m.\u001B[39m_add_obj_triple_spo(Prop\u001B[38;5;241m.\u001B[39mstorid, rdf_range, x2)\n\u001B[0;32m    191\u001B[0m \u001B[38;5;28;01mif\u001B[39;00m \u001B[38;5;124m\"\u001B[39m\u001B[38;5;124m_range_iri\u001B[39m\u001B[38;5;124m\"\u001B[39m \u001B[38;5;129;01min\u001B[39;00m Prop\u001B[38;5;241m.\u001B[39m\u001B[38;5;18m__dict__\u001B[39m: \u001B[38;5;28;01mdel\u001B[39;00m Prop\u001B[38;5;241m.\u001B[39m_range_iri\n",
      "\u001B[1;31mAttributeError\u001B[0m: 'NoneType' object has no attribute 'storid'"
     ]
    }
   ],
   "source": [
    "with onto:\n",
    "\n",
    "    class Test(Thing):pass\n",
    "\n",
    "    class monFoafEcritPar(ObjectProperty):\n",
    "        #domaine = [foaf.Document]\n",
    "        #range = [foaf.Person]\n",
    "        inverse = foaf.publications\n",
    "    monFoafEcritPar.comment =[\"fonction inverse de foaf.publications\"]\n",
    "\n",
    "    class Personne(foaf.Person): pass\n",
    "    Personne.comment = [\"Définition de la classe Personne qui spécialise foaf.Person\"]\n",
    "\n",
    "    class halPerson(Personne >> foaf.Person): pass\n",
    "    halPerson.comment = [\" link to foaf.Person from HAL, not necessary HalID !\"]\n",
    "\n",
    "    class halIdPerson(Personne >> foaf.Person, FunctionalProperty): pass\n",
    "    halIdPerson.comment = [\" link to halId\"]\n",
    "\n",
    "    class fullName(Personne >> str,FunctionalProperty): pass\n",
    "    fullName.comment = [\"Remplace name, déjà pris par owlready2\"]\n",
    "\n",
    "\n",
    "    class Publication(foaf.Document): pass\n",
    "    Publication.comment = [\"Définition de la classe Publication qui spéciffie foaf.Document\"]\n",
    "    Publication.comment.append(\"in fine, comme dans HAL on devrait pouvoir décrire le type d'un document dans arXive : préprint, affiche, these, livre, rapport\")\n",
    "\n",
    "    class halDocument(Publication >> foaf.Document, FunctionalProperty): pass  # TODO test pb en fonction de la version du doc ?\n",
    "    halDocument.comment = [\"lien vers le depot HAL\"]\n",
    "\n",
    "    class arXiveDocument(Publication >> foaf.Document,FunctionalProperty ) : pass\n",
    "    arXiveDocument.comment = [\"lien vers le depot arXive\"]\n",
    "\n",
    "    class ecrit(foaf.publications):\n",
    "        domaine = [Personne]\n",
    "        range = [Publication]\n",
    "    ecrit.comment = [\"spécialisation de foaf.publications\"]\n",
    "\n",
    "    class ecritPar(monFoafEcritPar):\n",
    "        domaine = [Publication]\n",
    "        range = [Personne]\n",
    "        #inverse = ecrit # pas nécessaire vu les régles données au dessus\n",
    "    #TODO un comment\n",
    "\n",
    "    class maPersonne(ObjectProperty):\n",
    "        #domaine = [foaf.Person |foaf.Document]  # ce type de ligne, avec un ou n'est pas sauvegardé dans le fichier owl.\n",
    "        range = [Personne]\n",
    "    maPersonne.comment = [\"lien vers Personne, pour le raisonneur\"]\n",
    "\n",
    "    class maPersonneFromPerson(maPersonne,FunctionalProperty):\n",
    "        domaine = [foaf.Person]\n",
    "    maPersonneFromPerson.comment = [\"spécialisation de maPersonne pour les Person\"]\n",
    "\n",
    "    class maPersonneFromDocument(maPersonne):\n",
    "        domaine = [foaf.Document]\n",
    "    maPersonneFromDocument.comment = [\"spécialisation de maPersonne pour les Document\"]\n",
    "\n",
    "    class maPublication(ObjectProperty):\n",
    "        #domaine = [foaf.Person |foaf.Document] # ce type de ligne, avec un ou n'est pas sauvegardé dans le fichier owl.\n",
    "        range = [Publication]\n",
    "    maPublication.comment = [\"lien vers Publication, pour le raisonneur\"]\n",
    "\n",
    "    class maPublicationFromPerson(maPublication):\n",
    "        domaine = [foaf.Person]\n",
    "    maPublicationFromPerson.comment = [\"spécialisation de maPublication pour les Person\"]\n",
    "\n",
    "    class maPublicationFromDocument(maPublication,FunctionalProperty):\n",
    "        domaine = [foaf.Document]\n",
    "    maPublicationFromDocument.comment = [\"spécialisation de maPublication pour les Document\"]\n",
    "\n",
    "\n",
    "    class Affiliation(foaf.Organization): pass\n",
    "\n",
    "    class label(Affiliation >> str,FunctionalProperty): pass # DataProperty):\n",
    "        #domaine = [Affiliation]\n",
    "        #range = [str] # , FunctionalProperty): pass\n",
    "    label.comment = [\" Le prefLabel d'une organization\"]\n",
    "\n",
    "    class url(Affiliation >> str,FunctionalProperty): pass   # avant >> str\n",
    "        #domaine = [Affiliation]\n",
    "        #range = str\n",
    "    url.comment = [\"L'url de l'organisazion, presque foaf.homepage mais sans imposer un foaf.Document \"]\n",
    "\n",
    "    class status(Affiliation>>str, FunctionalProperty):pass #DataProperty\n",
    "    status.comment = [\"Indique l'état actuel de l'organization, typiquement valid ou old\"]\n",
    "\n",
    "    class affiliationType (Affiliation >>str, FunctionalProperty ):pass\n",
    "    affiliationType.comment = [\"Caractérise l'organisation : institution, comme une école, Laboratory ou Researchteam au sein d'un labo\"]\n",
    "    affiliationType.comment.append(\"Pour le moment je ne gère pas la relation de composition des organizations\")\n",
    "\n",
    "\n",
    "    #class member(foaf.member):\n",
    "    #    domaine = [Affiliation]\n",
    "    #    range = [foaf.Person]\n",
    "    #member.comment = [\"duplication de foaf.member pour disposer des liens dans protégé\"]\n",
    "\n",
    "    AllDisjoint([Personne, Publication,Affiliation])"
   ],
   "metadata": {
    "collapsed": false
   }
  },
  {
   "cell_type": "markdown",
   "source": [
    "### I.2 Visualisation de l'ontologie dans python\n",
    "\n"
   ],
   "metadata": {
    "collapsed": false
   }
  },
  {
   "cell_type": "code",
   "execution_count": null,
   "outputs": [],
   "source": [
    "# On peut explorer l'ontologie en python :\n",
    "for i in foaf.classes():  #All classes\n",
    "    print (i)\n",
    "#for i in foaf.individuals():\n",
    "#    print (i)\n",
    "#properties(): #All properties\n",
    "#object_properties(): #All object properties\n",
    "#annotation_properties(): #All annotation properties\n",
    "#disjoints(): #All pairwise disjoints (including pairwise distinct individuals and disjoint/distinct pairs)\n",
    "#disjoint_classes()\n",
    "#disjoint_properties() All pairwise disjoint properties (including disjoint pairs of properties)\n",
    "#different_individuals() All pairwise distinct individuals (including distinct pairs of individuals)\n",
    "#rules() All SWRL rules\n",
    "#variables() All SWRL variables\n",
    "#general_axioms() All general axioms"
   ],
   "metadata": {
    "collapsed": false
   }
  },
  {
   "cell_type": "markdown",
   "source": [
    "On peut également visualier plus spécifiquement une propriété"
   ],
   "metadata": {
    "collapsed": false
   }
  },
  {
   "cell_type": "code",
   "execution_count": null,
   "outputs": [],
   "source": [
    "print (foaf.publications.domain,foaf.publications.range)"
   ],
   "metadata": {
    "collapsed": false
   }
  },
  {
   "cell_type": "markdown",
   "source": [
    "### I.3 Vérification  de l'ontologie dans python\n",
    "Test rapide du modèle avec un raisonneur.\n",
    "J'ai un message d'erreur d'owlready2, je vais donc sauver l'ontologie et la tester depuis protégé."
   ],
   "metadata": {
    "collapsed": false
   }
  },
  {
   "cell_type": "code",
   "execution_count": null,
   "outputs": [],
   "source": [
    "onto.save(\"prepaPFR_1.owl\")"
   ],
   "metadata": {
    "collapsed": false
   }
  },
  {
   "cell_type": "markdown",
   "source": [
    "Aucune erreur n'est détectée sur ce fichier."
   ],
   "metadata": {
    "collapsed": false
   }
  },
  {
   "cell_type": "code",
   "execution_count": null,
   "outputs": [],
   "source": [
    "onto.save(\"prepaPFR_1b.owl\")"
   ],
   "metadata": {
    "collapsed": false
   }
  },
  {
   "cell_type": "markdown",
   "source": [
    "## II. Peuplement de l'ontologie\n",
    "\n",
    "Je recherche tous les auteurs de HAL qui se nomment YOLAINE BOURDA. (En faisant abstraction des majuscules.)\n",
    "\n",
    "## II.1 import d’auteurs Hal, première manière IRI déréférencable\n",
    "\n",
    "Je ne vais rien dupliquer et conserver les IRI qui sont souvent déréférencable dans HAL."
   ],
   "metadata": {
    "collapsed": false
   }
  },
  {
   "cell_type": "code",
   "execution_count": null,
   "outputs": [],
   "source": [
    "#from owlready2.sparql.endpoint import *\n",
    "sparql = SPARQLWrapper(\"http://sparql.archives-ouvertes.fr/sparql\")\n",
    "sparql.setTimeout(60)\n",
    "query = \"\"\"prefix foaf: <http://xmlns.com/foaf/0.1/>\n",
    "select distinct ?s\n",
    "where {\n",
    " ?s a foaf:Person; foaf:familyName ?nomFamille.\n",
    " #OPTIONAL {?s <http://www.openarchives.org/ore/terms/isAggregatedBy> ?o}\n",
    " ?s foaf:firstName ?prenom.\n",
    " #?s foaf:name ?name.\n",
    "\n",
    " FILTER (UCASE( ?prenom)=\"YOLAINE\").\n",
    " FILTER (UCASE( ?nomFamille)=\"BOURDA\").\n",
    "}\n",
    "LIMIT 100\n",
    "\"\"\""
   ],
   "metadata": {
    "collapsed": false
   }
  },
  {
   "cell_type": "code",
   "execution_count": null,
   "outputs": [],
   "source": [
    "def extractUriValues (jsonSrc):  # Fonction pour extraire les URI du résultat d'une requête\n",
    "    tabl = jsonSrc[\"results\"][\"bindings\"]\n",
    "    newResult = []\n",
    "    for t in tabl:\n",
    "        for k,v in t.items():\n",
    "            if 'type' in v:\n",
    "                if v['type']=='uri':\n",
    "                    newResult.append(v['value'])\n",
    "    return newResult"
   ],
   "metadata": {
    "collapsed": false
   }
  },
  {
   "cell_type": "code",
   "execution_count": null,
   "outputs": [],
   "source": [
    "sparql.setQuery(query)\n",
    "sparql.setReturnFormat(JSON)\n",
    "results = sparql.query().convert()\n",
    "tabFOAF = extractUriValues(results)\n",
    "print(tabFOAF)"
   ],
   "metadata": {
    "collapsed": false
   }
  },
  {
   "cell_type": "code",
   "execution_count": null,
   "outputs": [],
   "source": [
    "# Test manuel sur un cas\n",
    "#px = foaf.Person()\n",
    "#px.set_iri('https://data.archives-ouvertes.fr/author/46799')\n",
    "#t= Personne(name=None,namespace=onto,halPerson = [px])\n"
   ],
   "metadata": {
    "collapsed": false
   }
  },
  {
   "cell_type": "markdown",
   "source": [
    "Je vérifie que ces individus sont bien dans l'ontologie"
   ],
   "metadata": {
    "collapsed": false
   }
  },
  {
   "cell_type": "code",
   "execution_count": null,
   "outputs": [],
   "source": [
    "with onto:\n",
    "    for i in tabFOAF:\n",
    "        p = foaf.Person(namespace=onto)\n",
    "        p.set_iri(i)\n",
    "        # p.isDefinedBy = [\"http://sparql.archives-ouvertes.fr/\"]\n",
    "        pers = Personne(halPerson = [p])\n",
    "        p.maPersonneFromPerson = pers # [pers]"
   ],
   "metadata": {
    "collapsed": false
   }
  },
  {
   "cell_type": "code",
   "execution_count": null,
   "outputs": [],
   "source": [
    "for i in onto.individuals():\n",
    "    print (i,i.is_a)\n",
    "    for prop in i.get_properties():\n",
    "        for value in prop[i]:\n",
    "            print(\".%s == %s\" % (prop.python_name, value))"
   ],
   "metadata": {
    "collapsed": false
   }
  },
  {
   "cell_type": "code",
   "execution_count": null,
   "outputs": [],
   "source": [
    "for i in onto.individuals():\n",
    "    destroy_entity(i)"
   ],
   "metadata": {
    "collapsed": false
   }
  },
  {
   "cell_type": "markdown",
   "source": [
    "### II.2 import d'auteurs Hal, deuxième manière : duplication des données\n",
    "Avec la requête, je vais préciser les éléments que je souhaite utiliser pour peupler l'ontologie"
   ],
   "metadata": {
    "collapsed": false
   }
  },
  {
   "cell_type": "code",
   "execution_count": null,
   "outputs": [],
   "source": [
    "query=\"\"\"prefix foaf: <http://xmlns.com/foaf/0.1/>\n",
    "select distinct ?s ?name ?idHal\n",
    "where {\n",
    " ?s a foaf:Person; foaf:familyName ?nomFamille.\n",
    " OPTIONAL {?s <http://www.openarchives.org/ore/terms/isAggregatedBy> ?idHal}\n",
    " ?s foaf:firstName ?prenom.\n",
    " ?s foaf:name ?name.\n",
    "\n",
    " FILTER (UCASE( ?prenom)=\"YOLAINE\").\n",
    " FILTER (UCASE( ?nomFamille)=\"BOURDA\").\n",
    "}\n",
    "LIMIT 100\n",
    "\"\"\""
   ],
   "metadata": {
    "collapsed": false
   }
  },
  {
   "cell_type": "code",
   "execution_count": null,
   "outputs": [],
   "source": [
    "sparql.setTimeout(60)\n",
    "sparql.setQuery(query)\n",
    "sparql.setReturnFormat(CSV)\n",
    "results = sparql.query().convert()"
   ],
   "metadata": {
    "collapsed": false
   }
  },
  {
   "cell_type": "code",
   "execution_count": null,
   "outputs": [],
   "source": [
    "print (results)"
   ],
   "metadata": {
    "collapsed": false
   }
  },
  {
   "cell_type": "markdown",
   "source": [
    "Je peux maintenant peupler l'ontologie, mais je dois procéder en deux temps car lorsque je créé la première foaf.Person, l'idHal (une foaf.Person également) n'existe pas encore.\n"
   ],
   "metadata": {
    "collapsed": false
   }
  },
  {
   "cell_type": "code",
   "execution_count": null,
   "outputs": [],
   "source": [
    "tmpResult = results.decode().split('\\n')[1:-1]# je n'utilise pas la ligne de titre ni la dernière (vide)\n",
    "for l in tmpResult:\n",
    "    #print(l)\n",
    "    s,name,idHal=l.split(',')\n",
    "    print(s,name,idHal)\n",
    "    s = s.strip('\"')\n",
    "    name = name.strip('\"')\n",
    "    #print(s,name,idHal)\n",
    "    p = foaf.Person(namespace=onto)\n",
    "    p.set_iri(s)\n",
    "    #p.isDefinedBy = [\"http://sparql.archives-ouvertes.fr/\"]\n",
    "    pers = Personne(name=None,namespace=onto,halPerson = [p])\n",
    "    pers.fullName = name\n",
    "    p.maPersonneFromPerson = pers # [pers]"
   ],
   "metadata": {
    "collapsed": false
   }
  },
  {
   "cell_type": "code",
   "execution_count": null,
   "outputs": [],
   "source": [
    "trueIdHal = \"https://data.archives-ouvertes.fr/author/yolaine-bourda\""
   ],
   "metadata": {
    "collapsed": false
   }
  },
  {
   "cell_type": "code",
   "execution_count": null,
   "outputs": [],
   "source": [
    "# Toutes les foaf.Person sont créées je peux stocker l'idHal (qui ici sera toujours le même).\n",
    "trueIdHalPerson = onto.search_one(type = foaf.Person, iri = trueIdHal)\n",
    "print(trueIdHalPerson,trueIdHalPerson.is_a)"
   ],
   "metadata": {
    "collapsed": false
   }
  },
  {
   "cell_type": "code",
   "execution_count": null,
   "outputs": [],
   "source": [
    "def myStrip(var:str):\n",
    "    if var is None:\n",
    "        return None\n",
    "    var = var.strip('\"')\n",
    "    if len(var)== 0:\n",
    "        return None\n",
    "    return var\n",
    "\n",
    "for l in tmpResult:\n",
    "    #print(l)\n",
    "    s,name,idHal=l.split(',')\n",
    "    #print(s,name,idHal)\n",
    "    s = myStrip(s)\n",
    "    name = myStrip(name)\n",
    "    idHal = myStrip(idHal)\n",
    "    #print(s,name,idHal)\n",
    "    if idHal is not None:\n",
    "        #print(s, idHal)\n",
    "        auteur = onto.search_one(type = foaf.Person, iri = s)\n",
    "        pers = onto.search_one(type = onto.Personne,halPerson = [auteur])\n",
    "        pers.halIdPerson = trueIdHalPerson\n"
   ],
   "metadata": {
    "collapsed": false
   }
  },
  {
   "cell_type": "code",
   "execution_count": null,
   "outputs": [],
   "source": [
    "onto.save(\"prepaPFR_2.owl\")  # Pour vérification dans Protégé"
   ],
   "metadata": {
    "collapsed": false
   }
  },
  {
   "cell_type": "markdown",
   "source": [
    "### II.3 import des structures HAL\n",
    "Je vais importer dans l'ontologie les structures de mes personnes."
   ],
   "metadata": {
    "collapsed": false
   }
  },
  {
   "cell_type": "code",
   "execution_count": null,
   "outputs": [],
   "source": [
    "query=\"\"\"PREFIX hal:<http://data.archives-ouvertes.fr/schema/>\n",
    "PREFIX skos:<http://www.w3.org/2004/02/skos/core#>\n",
    "PREFIX vcard:<http://www.w3.org/2006/vcard/ns#>\n",
    "PREFIX classif:<http://www.w3.org/ns/org#>\n",
    "\n",
    "select distinct ?structure ?label ?url ?status ?type\n",
    "where\n",
    "{\n",
    "{{?agregat hal:person <https://data.archives-ouvertes.fr/author/46799>. } UNION\n",
    "{?agregat hal:person <https://data.archives-ouvertes.fr/author/270747>. } UNION\n",
    "{?agregat hal:person <https://data.archives-ouvertes.fr/author/yolaine-bourda>. } UNION\n",
    "{?agregat hal:person <https://data.archives-ouvertes.fr/author/1420714>. } UNION\n",
    "{?agregat hal:person <https://data.archives-ouvertes.fr/author/4635>. } UNION\n",
    "{?agregat hal:person <https://data.archives-ouvertes.fr/author/1295368>. }}\n",
    "?agregat hal:structure ?structure\n",
    "optional {?structure skos:prefLabel ?label}\n",
    "optional {?structure vcard:url ?url}\n",
    "optional {?structure hal:status ?status}\n",
    "optional {?structure classif:classification  ?type}\n",
    "}\n",
    "\"\"\""
   ],
   "metadata": {
    "collapsed": false
   }
  },
  {
   "cell_type": "code",
   "execution_count": null,
   "outputs": [],
   "source": [
    "sparql.setTimeout(60)\n",
    "sparql.setQuery(query)\n",
    "sparql.setReturnFormat(CSV)\n",
    "results2 = sparql.query().convert()\n",
    "#print (results2)"
   ],
   "metadata": {
    "collapsed": false
   }
  },
  {
   "cell_type": "markdown",
   "source": [
    "Pour bien faire, je devrais préciser les liens de subordination entre les structures, mais aussi associer les membres.\n",
    "Pour faire simple, je vais simplement rattacher author/yolaine-bourda."
   ],
   "metadata": {
    "collapsed": false
   }
  },
  {
   "cell_type": "code",
   "execution_count": null,
   "outputs": [],
   "source": [
    "tmpResult = results2.decode().split('\\n')[1:-1]\n",
    "with onto:\n",
    "    for l in tmpResult:\n",
    "        #print(l)\n",
    "        structure,label,url,status,sType =l.split(',')\n",
    "        structure = myStrip(structure)\n",
    "        label = myStrip(label)\n",
    "        url = myStrip(url)\n",
    "        status = myStrip(status)\n",
    "        sType = myStrip(sType)\n",
    "\n",
    "        #print('s:',structure,' l:', label,' u:',url,' s:',status,' t:',sType)\n",
    "        struc = Affiliation(namespace=onto)\n",
    "        struc.set_iri(structure)\n",
    "        struc.member = [trueIdHalPerson] # je donne un membre un peu arbitrairement ...\n",
    "        if label is not None:\n",
    "            struc.label = label\n",
    "        if url is not None:\n",
    "            struc.url = url\n",
    "        if status is not None:\n",
    "            struc.status = status\n",
    "        if sType is not None:\n",
    "            struc.affiliationType = sType\n"
   ],
   "metadata": {
    "collapsed": false
   }
  },
  {
   "cell_type": "code",
   "execution_count": null,
   "outputs": [],
   "source": [
    "onto.save(\"prepaPFR_3.owl\")"
   ],
   "metadata": {
    "collapsed": false
   }
  },
  {
   "cell_type": "markdown",
   "source": [
    "### II.4 import des documents depuis HAL\n",
    "On va créer les publications. Je filtre les articles qui ont plus de 30 auteurs car je pense qu'il s'agit de données erronées."
   ],
   "metadata": {
    "collapsed": false
   }
  },
  {
   "cell_type": "code",
   "execution_count": null,
   "outputs": [],
   "source": [
    "query=\"\"\"PREFIX dcterms:<http://purl.org/dc/terms/>\n",
    "PREFIX doc:<https://data.archives-ouvertes.fr/document/>\n",
    "PREFIX ore:<http://www.openarchives.org/ore/terms/>\n",
    "PREFIX hal:<http://data.archives-ouvertes.fr/schema/>\n",
    "PREFIX foaf:<http://xmlns.com/foaf/0.1/>\n",
    "\n",
    "select  distinct ?document  ?NumCreators\n",
    "where\n",
    "{\n",
    "?document dcterms:hasVersion ?version.\n",
    "?version dcterms:creator ?creator.\n",
    "\n",
    "{{?creator hal:person <https://data.archives-ouvertes.fr/author/46799>. } UNION\n",
    "{?creator hal:person <https://data.archives-ouvertes.fr/author/270747>. } UNION\n",
    "{?creator hal:person <https://data.archives-ouvertes.fr/author/yolaine-bourda>. } UNION\n",
    "{?creator hal:person <https://data.archives-ouvertes.fr/author/1420714>. } UNION\n",
    "{?creator hal:person <https://data.archives-ouvertes.fr/author/4635>. } UNION\n",
    "{?creator hal:person <https://data.archives-ouvertes.fr/author/1295368>. }}\n",
    "\n",
    "{\n",
    "select ?version count(distinct ?o) as ?NumCreators\n",
    "where {\n",
    "?version dcterms:creator ?o.\n",
    "}}\n",
    "}\n",
    "group by ?document ?NumCreators\n",
    "HAVING ( ?NumCreators < 30)\n",
    "\"\"\""
   ],
   "metadata": {
    "collapsed": false
   }
  },
  {
   "cell_type": "code",
   "execution_count": null,
   "outputs": [],
   "source": [
    "sparql.setQuery(query)\n",
    "sparql.setReturnFormat(JSON)\n",
    "results = sparql.query().convert()\n",
    "tabPublications = extractUriValues(results)\n",
    "#print(tabPublications)"
   ],
   "metadata": {
    "collapsed": false
   }
  },
  {
   "cell_type": "code",
   "execution_count": null,
   "outputs": [],
   "source": [
    "with onto:\n",
    "    for i in tabPublications:\n",
    "        #print (i)\n",
    "        d = foaf.Document(namespace=onto)\n",
    "        d.set_iri(i)\n",
    "        # p.isDefinedBy = [\"http://sparql.archives-ouvertes.fr/\"]\n",
    "        p = Publication(name=None,namespace=onto,halDocument = d)\n",
    "        d.maPublicationFromDocument = p"
   ],
   "metadata": {
    "collapsed": false
   }
  },
  {
   "cell_type": "code",
   "execution_count": null,
   "outputs": [],
   "source": [
    "onto.save(\"prepaPFR_4.owl\")"
   ],
   "metadata": {
    "collapsed": false
   }
  },
  {
   "cell_type": "code",
   "execution_count": null,
   "outputs": [],
   "source": [
    "def queryAuthor(doc) :\\\n",
    "    return \"\"\"PREFIX dcterms:<http://purl.org/dc/terms/>\n",
    "    PREFIX doc:<https://data.archives-ouvertes.fr/document/>\n",
    "    PREFIX hal:<http://data.archives-ouvertes.fr/schema/>\n",
    "\n",
    "    #select ?version ?title ?pdf GROUP_CONCAT(?name,',') AS ?authors\n",
    "    select distinct ?person\n",
    "    where\n",
    "    {<\"\"\"+doc+\"\"\"> dcterms:hasVersion ?version.\n",
    "    ?version dcterms:creator ?creator.  #; ore:aggregates ?pdf.\n",
    "    ?creator hal:person ?person.\n",
    "    }\"\"\""
   ],
   "metadata": {
    "collapsed": false
   }
  },
  {
   "cell_type": "code",
   "execution_count": null,
   "outputs": [],
   "source": [
    "with onto:\n",
    "    for i in tabPublications:\n",
    "            #print(i)\n",
    "            query_ = queryAuthor(i)\n",
    "            #print(query)\n",
    "            sparql.setQuery(query_)\n",
    "            sparql.setReturnFormat(JSON)\n",
    "            results_ = sparql.query().convert()\n",
    "            tabAuteurs = extractUriValues(results_)\n",
    "            foafDoc = onto.search_one(type = foaf.Document, iri = i)\n",
    "            #print('fD:',foafDoc)\n",
    "            #lPubli = foafDoc.maPublication\n",
    "            # sur une publication, on n'a qu'un seul maPublication\n",
    "            publi = foafDoc.maPublicationFromDocument\n",
    "            print(\"traitement de :\",publi,len(tabAuteurs))\n",
    "            for autIri in tabAuteurs:\n",
    "                foafAuteur = onto.search_one(type = foaf.Person, iri = autIri)\n",
    "\n",
    "                if foafAuteur is None: # c'est un coauteur de YB qui n'a pas encore été rencontré\n",
    "                    #print(\\\"création d'un auteur\\\")\n",
    "                    foafAuteur = foaf.Person()\n",
    "                    foafAuteur.set_iri(autIri)\n",
    "\n",
    "                ontoPersonne = foafAuteur.maPersonneFromPerson\n",
    "                if ontoPersonne is not None:\n",
    "                    print(ontoPersonne, \"ecrit\", publi)\n",
    "                    ontoPersonne.ecrit.append(publi)\n",
    "\n",
    "                foafAuteur.maPublicationFromPerson.append(publi)\n",
    "                #print ('fA:',foafAuteur.iri)\\n\",\n",
    "                foafAuteur.publications.append(foafDoc)\n",
    "                foafDoc.monFoafEcritPar.append(foafAuteur)"
   ],
   "metadata": {
    "collapsed": false
   }
  },
  {
   "cell_type": "code",
   "execution_count": null,
   "outputs": [],
   "source": [
    "onto.save(\"prepaPFR_5.owl\")"
   ],
   "metadata": {
    "collapsed": false
   }
  },
  {
   "cell_type": "markdown",
   "source": [
    "### III Utilisation du raisonneur\n",
    "### III.1 Parametrage\n",
    "owlready2.JAVA_EXE=r'C:\\Program Files\\Java\\jre1.8.0_351\\bin\\jave.exe'\n",
    "provoque chez moi l'erreur FileNotFoundError. Il s'avère complexe de trouver de quel fichier il s'agit....\n",
    "\n",
    "owlready2.JAVA_EXE=r'C:\\Program Files (x86)\\Java\\jre1.8.0_261\\bin\\java.exe'\n",
    "provoque chez moi l'erreur OwlReadyJavaError: Java error message is:\n",
    "Error occurred during initialization of VM\n",
    "Could not reserve enough space for 2048000KB object heap\n",
    "\n",
    "Cette erreur peut être contournée en effectuant une modification dans le code owlready2.\n",
    "Il s'agit dans reasoning.py de remplacer JAVA_MEMORY = 2000 par JAVA_MEMORY = 2000 (1500 ne passe pas).\n",
    "Mais cela n'est pas très propre comme manière de faire.\n",
    "\n",
    "En téléchargeant Java SE development kit 19.0.1 (JDK) je n'ai plus de problème !\n"
   ],
   "metadata": {
    "collapsed": false
   }
  },
  {
   "cell_type": "code",
   "execution_count": null,
   "outputs": [],
   "source": [
    "# Change the following PATH if needed\n",
    "owlready2.JAVA_EXE=r'c:\\Program Files\\Java\\jdk-19\\bin\\java.exe'\n",
    "#owlready2.JAVA_EXE='/usr/bin/java'\n"
   ],
   "metadata": {
    "collapsed": false
   }
  },
  {
   "cell_type": "markdown",
   "source": [
    "### III.2 Test simple\n",
    "Je peux tester une partie de l'ontologie :"
   ],
   "metadata": {
    "collapsed": false
   }
  },
  {
   "cell_type": "code",
   "execution_count": null,
   "outputs": [],
   "source": [
    "sync_reasoner([foaf])"
   ],
   "metadata": {
    "collapsed": false
   }
  },
  {
   "cell_type": "markdown",
   "source": [
    "Effectivement il y a quelques soucis mineurs : foaf.img est propriété dérivée de foaf.depiction. C'est donc forcement un ObjectProperty. (Pour être précis, img est une relation entre une foaf.person et une foaf.image qui \"which are particularly representative\". Je ne retrouve pas img dans protégé.)\n",
    "La propriété nickname est à la fois une propriété et une data property.\n"
   ],
   "metadata": {
    "collapsed": false
   }
  },
  {
   "cell_type": "code",
   "execution_count": null,
   "outputs": [],
   "source": [
    "sync_reasoner([foaf])"
   ],
   "metadata": {
    "collapsed": false
   }
  },
  {
   "cell_type": "markdown",
   "source": [
    "Après un deuxième appel au raisonneur les anomalies n'apparaissent plus. C'est bien la preuve que les inférences sont prises en compte.\n",
    "### III.3 Test de l'ontologie"
   ],
   "metadata": {
    "collapsed": false
   }
  },
  {
   "cell_type": "code",
   "execution_count": null,
   "outputs": [],
   "source": [
    "with onto:\n",
    "    try:\n",
    "        #sync_reasoner()  # par HermiT\n",
    "        #sync_reasoner(infer_property_values=True, debug=True, keep_tmp_file=True)\n",
    "        #sync_reasoner_pellet()\n",
    "        sync_reasoner_pellet(infer_property_values=True, infer_data_property_values=False, debug=True, keep_tmp_file=True)\n",
    "        print(\"Ok, the ontology is consistent.\")\n",
    "    except OwlReadyInconsistentOntologyError:\n",
    "        print(\"The ontology is inconsistent!\")"
   ],
   "metadata": {
    "collapsed": false
   }
  },
  {
   "cell_type": "markdown",
   "source": [
    "En cherchant dans la doc, storid (store id) est une abréviation pour l'iri. On peut obtenir l'iri par :"
   ],
   "metadata": {
    "collapsed": false
   }
  },
  {
   "cell_type": "code",
   "execution_count": null,
   "outputs": [],
   "source": [
    "# en cherchant dans la doc, storid (store id) est une abréviation pour l'iri\n",
    "# on peut obtenir l'iri par :\n",
    "default_world._unabbreviate(9)"
   ],
   "metadata": {
    "collapsed": false
   }
  },
  {
   "cell_type": "code",
   "execution_count": null,
   "outputs": [],
   "source": [
    "with onto:\n",
    "    try:\n",
    "        sync_reasoner()  # par HermiT\n",
    "        #sync_reasoner(infer_property_values=True, debug=True, keep_tmp_file=True)\n",
    "        #sync_reasoner_pellet()\n",
    "        #sync_reasoner_pellet(infer_property_values=True, infer_data_property_values=True, debug=True, keep_tmp_file=True)\n",
    "        print(\"Ok, the ontology is consistent.\")\n",
    "    except OwlReadyInconsistentOntologyError:\n",
    "        print(\"The ontology is inconsistent!\")"
   ],
   "metadata": {
    "collapsed": false
   }
  },
  {
   "cell_type": "markdown",
   "source": [
    "HermiT ne trouve rien de plus."
   ],
   "metadata": {
    "collapsed": false
   }
  },
  {
   "cell_type": "code",
   "execution_count": null,
   "outputs": [],
   "source": [
    "onto.save(\"prepaPFR_6.owl\")"
   ],
   "metadata": {
    "collapsed": false
   }
  },
  {
   "cell_type": "markdown",
   "source": [
    "### III.4 Remarque : j'ai désactivé infer_data_property_values car cela provoque une corruption de mon ontologie.\n",
    "Le fichier produit ne peut plus être ouvert dans protégé.\n",
    "En lisant le fichier, j'ai un DATAPROPVAL: https://data.archives-ouvertes.fr/structure/303397.\n",
    "Son label pose un problème. C'est un string qui contient un '.\n",
    "Je dois encore investiguer ce point."
   ],
   "metadata": {
    "collapsed": false
   }
  },
  {
   "cell_type": "code",
   "execution_count": null,
   "outputs": [],
   "source": [],
   "metadata": {
    "collapsed": false
   }
  },
  {
   "cell_type": "code",
   "execution_count": null,
   "outputs": [],
   "source": [
    "with onto:\n",
    "    # je n'arrive pas à donner à une ObjectProperty deux caractéristiques\n",
    "    # je passe par une subproperties\n",
    "    class baseIrreflexiveProperty (ObjectProperty, IrreflexiveProperty):pass\n",
    "\n",
    "    class coEcrit(baseIrreflexiveProperty, SymmetricProperty):# todo préciser la def ?\n",
    "        domain = [Personne]\n",
    "        range = [Personne]\n",
    "        #is_a = [     foaf.publications.some(foaf.Document) ]   # ecritPar(Publication >> Personne )\n",
    "\n",
    "    class collegue(baseIrreflexiveProperty,SymmetricProperty):# todo a completer simpliste car on ne gère pas le temps\n",
    "        domain = [Personne]\n",
    "        range = [Personne]\n",
    "\n",
    "# dans Protégé on voit que collegue est inféré comme etant son propre inverse.\n",
    "# logique pour une relation symétrique."
   ],
   "metadata": {
    "collapsed": false
   }
  },
  {
   "cell_type": "code",
   "execution_count": null,
   "metadata": {},
   "outputs": [],
   "source": [
    "# Avons-nous des classes inconsistantes ?\n",
    "print(list(onto.world.inconsistent_classes()))"
   ]
  },
  {
   "cell_type": "code",
   "execution_count": null,
   "metadata": {},
   "outputs": [],
   "source": [
    "onto.destroy()"
   ]
  }
 ],
 "metadata": {
  "kernelspec": {
   "display_name": "Python 3 (ipykernel)",
   "language": "python",
   "name": "python3"
  },
  "language_info": {
   "codemirror_mode": {
    "name": "ipython",
    "version": 3
   },
   "file_extension": ".py",
   "mimetype": "text/x-python",
   "name": "python",
   "nbconvert_exporter": "python",
   "pygments_lexer": "ipython3",
   "version": "3.8.12"
  }
 },
 "nbformat": 4,
 "nbformat_minor": 4
}
