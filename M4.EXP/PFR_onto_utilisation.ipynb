{
 "cells": [
  {
   "cell_type": "markdown",
   "source": [
    "# Exploration SPARQL et SWRL\n",
    "\n",
    "Ce notebook permet de tester des requêtes SPARQL et des règles SWRL.\n",
    "A ce stade le notebook est sommaire car la cible est la visualisation avec Neo4j.\n"
   ],
   "metadata": {
    "collapsed": false
   }
  },
  {
   "cell_type": "code",
   "execution_count": 1,
   "outputs": [
    {
     "name": "stderr",
     "output_type": "stream",
     "text": [
      "* Owlready2 * Warning: optimized Cython parser module 'owlready2_optimized' is not available, defaulting to slower Python implementation\n",
      "* Owlready2 * Creating new ontology PFR_2 <PFR_2.owl#>.\n",
      "* Owlready2 * ADD TRIPLE PFR_2.owl http://www.w3.org/1999/02/22-rdf-syntax-ns#type http://www.w3.org/2002/07/owl#Ontology\n",
      "* Owlready2 *     ...loading ontology PFR_2 from PFR_2.owl...\n",
      "* OwlReady2 * Importing 295256 object triples from ontology PFR_2.owl# ...\n",
      "* OwlReady2 * Importing 209244 data triples from ontology PFR_2.owl# ...\n",
      "* Owlready2 *     ...35 properties found: fieldsOfStudy, firstfieldsOfStudy, topic, reference, citationBy, wrote, writtenBy, produced, member, affiliatedTo, topic_interest, id, label, arXivCategory, authorId, aliases, fullName, homepage, arXivId, title, doi, paperId, authors, _citations, _references, abstract, venue, year, language, languageProbability, _topics, preLabel, url, _produced, _writter\n"
     ]
    }
   ],
   "source": [
    "from owlready2 import *\n",
    "set_log_level(9)\n",
    "onto = get_ontology(\"PFR_2.owl\").load()"
   ],
   "metadata": {
    "collapsed": false
   }
  },
  {
   "cell_type": "code",
   "execution_count": 2,
   "outputs": [
    {
     "data": {
      "text/plain": "[[5]]"
     },
     "execution_count": 2,
     "metadata": {},
     "output_type": "execute_result"
    }
   ],
   "source": [
    " # Get the number of OWL Class in GO\n",
    "list(default_world.sparql(\"\"\"\n",
    "           SELECT (COUNT(?x) AS ?nb)\n",
    "           { ?x a owl:Class . }\n",
    "    \"\"\"))"
   ],
   "metadata": {
    "collapsed": false
   }
  },
  {
   "cell_type": "code",
   "execution_count": 3,
   "outputs": [
    {
     "data": {
      "text/plain": "[[PFR_2.Paper],\n [PFR_2.FieldOfStudy],\n [PFR_2.Topic],\n [PFR_2.Affiliation],\n [PFR_2.Author]]"
     },
     "execution_count": 3,
     "metadata": {},
     "output_type": "execute_result"
    }
   ],
   "source": [
    "# Affichage explicite de ces classes :\n",
    "list(default_world.sparql(\"\"\"\n",
    "           SELECT ?x\n",
    "           { ?x a owl:Class . }\n",
    "    \"\"\"))"
   ],
   "metadata": {
    "collapsed": false
   }
  },
  {
   "cell_type": "code",
   "execution_count": 4,
   "outputs": [
    {
     "data": {
      "text/plain": "[[13247]]"
     },
     "execution_count": 4,
     "metadata": {},
     "output_type": "execute_result"
    }
   ],
   "source": [
    "#Requêtes sur le nombre de papiers :\n",
    "list(default_world.sparql(\"\"\"\n",
    "           SELECT (COUNT(?x) AS ?t )  # le AS ?t est obligatoire !\n",
    "           { ?x a PFR_2:Paper . }\n",
    "    \"\"\"))"
   ],
   "metadata": {
    "collapsed": false
   }
  },
  {
   "cell_type": "code",
   "execution_count": 5,
   "outputs": [
    {
     "data": {
      "text/plain": "[[29541]]"
     },
     "execution_count": 5,
     "metadata": {},
     "output_type": "execute_result"
    }
   ],
   "source": [
    "#Requêtes sur le nombre d'auteurs :\n",
    "list(default_world.sparql(\"\"\"\n",
    "           SELECT  (COUNT(?x) AS ?t )\n",
    "           { ?x a PFR_2:Author.}\n",
    "    \"\"\"))"
   ],
   "metadata": {
    "collapsed": false
   }
  },
  {
   "cell_type": "code",
   "execution_count": 6,
   "outputs": [
    {
     "data": {
      "text/plain": "'https://cp.org/ProjetFilRouge.owl#'"
     },
     "execution_count": 6,
     "metadata": {},
     "output_type": "execute_result"
    }
   ],
   "source": [
    "onto.base_iri"
   ],
   "metadata": {
    "collapsed": false
   }
  },
  {
   "cell_type": "code",
   "execution_count": 7,
   "outputs": [],
   "source": [
    "# On peut faire des requêtes plus complexes :"
   ],
   "metadata": {
    "collapsed": false
   }
  },
  {
   "cell_type": "code",
   "execution_count": 8,
   "outputs": [
    {
     "data": {
      "text/plain": "[[PFR_2.author7, 'Mycal Tucker', 'MIT'],\n [PFR_2.author46, 'Stefan Szeider', 'TU Wien'],\n [PFR_2.author86, 'Mehran Shakerinava', 'Mila'],\n [PFR_2.author86, 'Mehran Shakerinava', 'McGill University'],\n [PFR_2.author91, 'Yaofeng Desmond Zhong', 'Siemens Technology'],\n [PFR_2.author146, 'Benjamin Rosman', 'University of the Witwatersrand'],\n [PFR_2.author148, 'Ryma Boumazouza', 'Artois University, CNRS, CRIL'],\n [PFR_2.author219, 'Qingkai Zeng', 'University of Notre Dame'],\n [PFR_2.author229, 'Till Hofmann', 'RWTH Aachen University'],\n [PFR_2.author239, 'Alexey Ignatiev', 'Monash University'],\n [PFR_2.author242, 'Joao Marques-Silva', 'IRIT, CNRS & ANITI'],\n [PFR_2.author247, 'David Manheim', '1Day Sooner'],\n [PFR_2.author294,\n  'Tanmay Sachan',\n  'International Institute of Information Technology, Hyderabad'],\n [PFR_2.author296, 'Anmol Goel', 'IIIT Hyderabad'],\n [PFR_2.author316,\n  'Jakub R. Kaczmarzyk',\n  'Stony Brook University, Cold Spring Harbor Laboratory'],\n [PFR_2.author332, 'Alessandro Gianola', 'Free University of Bozen-Bolzano'],\n [PFR_2.author356, 'Matt Deitke', 'University of Washington, Seattle'],\n [PFR_2.author356, 'Matt Deitke', 'Allen Institute for AI'],\n [PFR_2.author359, 'Luca Weihs', 'Allen Institute for AI'],\n [PFR_2.author361,\n  'Kiana Ehsani',\n  'Allen Institute for Artificial Intelligence'],\n [PFR_2.author362, 'Winson Han', 'Allen Institute for AI'],\n [PFR_2.author365,\n  'Aniruddha Kembhavi',\n  'Allen Institute for Artificial Intelligence'],\n [PFR_2.author367, 'Fengbin Zhu', '6Estates PTE. LTD.'],\n [PFR_2.author367, 'Fengbin Zhu', 'National University of Singapore'],\n [PFR_2.author369, 'Wenqiang Lei', 'National University of Singapore'],\n [PFR_2.author386, 'Sinno Jialin Pan', 'NTU, Singapore'],\n [PFR_2.author395, 'Christian Muise', \"Queen's University\"],\n [PFR_2.author398, 'Antoine Bosselut', 'EPFL'],\n [PFR_2.author399, 'Christopher D. Manning', 'Stanford University'],\n [PFR_2.author404, 'Jiajun Wu', 'Stanford University'],\n [PFR_2.author438,\n  'Wil M.P. van der Aalst',\n  'Eindhoven University of Technology'],\n [PFR_2.author438, 'Wil M.P. van der Aalst', 'Celonis'],\n [PFR_2.author438, 'Wil M.P. van der Aalst', 'RWTH Aachen University'],\n [PFR_2.author438, 'Wil M.P. van der Aalst', 'Fraunhofer FIT'],\n [PFR_2.author447, 'Fenglin Liu', 'University of Oxford'],\n [PFR_2.author463, 'Jiafei Duan', 'Institute for Infocomm Research, A*STAR'],\n [PFR_2.author464,\n  'Samson Yu',\n  'Singapore University of Technology and Design'],\n [PFR_2.author464, 'Samson Yu', 'Agency for Science, Technology and Research'],\n [PFR_2.author475, 'Mikhail Galkin', 'Mila'],\n [PFR_2.author475, 'Mikhail Galkin', 'McGill University'],\n [PFR_2.author497, 'Danijar Hafner', 'University of Toronto'],\n [PFR_2.author497, 'Danijar Hafner', 'Google Brain'],\n [PFR_2.author499, 'Ian S. Fischer', 'Google'],\n [PFR_2.author512, 'Feiyu Xiong', 'Alibaba Group'],\n [PFR_2.author516, 'Youngwook Kim', 'Yonsei University'],\n [PFR_2.author520, 'Subhodip Biswas', 'Zoox'],\n [PFR_2.author520, 'Subhodip Biswas', 'Virginia Tech'],\n [PFR_2.author523, 'Chang-Tien Lu', 'Virginia Tech'],\n [PFR_2.author549, 'Athanasios Vlontzos', 'Imperial College London'],\n [PFR_2.author549, 'Athanasios Vlontzos', 'Spotify'],\n [PFR_2.author600, 'Debo Cheng', 'unisa'],\n [PFR_2.author601, 'Jiuyong Li', 'University of South Australia'],\n [PFR_2.author610, 'Keisuke Fujii', 'Nagoya University'],\n [PFR_2.author662,\n  'Josu Ceberio',\n  'University of the Basque Country (UPV/EHU)'],\n [PFR_2.author675, 'Caiming Xiong', 'Salesforce Research'],\n [PFR_2.author677, 'Saaduddin Mahmud', 'University of Dhaka'],\n [PFR_2.author696,\n  'Anna Wróblewska',\n  'Faculty of Mathematics and Information Science, Warsaw University of Technology, Applica.ai'],\n [PFR_2.author715, 'Ben Glocker', 'Imperial College London'],\n [PFR_2.author717,\n  'Andrew Eells',\n  'Data Semantics Laboratory, Kansas State University'],\n [PFR_2.author726,\n  'Mohamed-Slim Alouini',\n  'Computer, Electrical, and Mathematical Science and Engineering Division'],\n [PFR_2.author726,\n  'Mohamed-Slim Alouini',\n  'King Abdullah University of Science and Technology (KAUST), Thuwal, Saudi Arabia'],\n [PFR_2.author754, 'Yushi Cao', 'Nanyang Technological University'],\n [PFR_2.author788, 'Tom Zahavy', 'google.com'],\n [PFR_2.author795, 'Angelo Salatino', 'The Open University'],\n [PFR_2.author796, 'Francesco Osborne', 'The Open University'],\n [PFR_2.author801, 'Fangzheng Sun', 'Northeastern University'],\n [PFR_2.author849, 'Shafin Rahman', 'North South University, Bangladesh'],\n [PFR_2.author891, 'Albert Qiaochu Jiang', 'University of Cambridge'],\n [PFR_2.author899, 'Bedrich Benes', 'Purdue University'],\n [PFR_2.author906, 'Anirudh Goyal', 'Mila, University of Montreal'],\n [PFR_2.author941,\n  'Ute Schmid',\n  'University of Bamberg -- Cognitive System Group'],\n [PFR_2.author941,\n  'Ute Schmid',\n  'Bavarian Institute of Digital Transformation (bidt)'],\n [PFR_2.author941, 'Ute Schmid', 'fortiss'],\n [PFR_2.author941, 'Ute Schmid', 'Fraunhofer IIS'],\n [PFR_2.author945, 'John P. Lalor', 'University of Notre Dame'],\n [PFR_2.author1002, 'Hongyang Li', 'Peking University'],\n [PFR_2.author1008,\n  'Shrikanth S. Narayanan',\n  'University of Southern California'],\n [PFR_2.author1023, 'Martin C. Cooper', 'University of Toulouse'],\n [PFR_2.author1036,\n  \"Ting-Hao 'Kenneth' Huang\",\n  'Pennsylvania State University'],\n [PFR_2.author1043, 'Maira Gatti de Bayser', 'PUC-Rio'],\n [PFR_2.author1093, 'Konstantin Schekotihin', 'University Klagenfurt'],\n [PFR_2.author1095, 'Rafael Kiesel', 'Vienna University of Technology'],\n [PFR_2.author1098, 'Shakil M. Khan', 'York University'],\n [PFR_2.author1098, 'Shakil M. Khan', 'Ryerson University'],\n [PFR_2.author1098, 'Shakil M. Khan', 'University of Windsor'],\n [PFR_2.author1116, 'Michael Bradley Johanson', 'DeepMind'],\n [PFR_2.author1116, 'Michael Bradley Johanson', 'University of Alberta'],\n [PFR_2.author1154, 'Simon Ståhlberg', 'Linköping University'],\n [PFR_2.author1170, 'Cameron S. Allen', 'Brown University'],\n [PFR_2.author1193,\n  'Sergio Jiménez Celorrio',\n  'Universitat Politècnica de València'],\n [PFR_2.author1221, 'Ioana Baldini', 'IBM Research'],\n [PFR_2.author1234, 'Moshe Y. Vardi', 'Rice University'],\n [PFR_2.author1249, 'Juan Carlos Niebles', 'Stanford University'],\n [PFR_2.author1249, 'Juan Carlos Niebles', 'Salesforce'],\n [PFR_2.author1257, 'Oktie Hassanzadeh', 'IBM'],\n [PFR_2.author1257, 'Oktie Hassanzadeh', 'IBM Research'],\n [PFR_2.author1300, 'Marco Valentino', 'Idiap Research Institute'],\n [PFR_2.author1312, 'Adrian Weller', 'Alan Turing Institute'],\n [PFR_2.author1312, 'Adrian Weller', 'University of Cambridge'],\n [PFR_2.author1355, 'Xiangyang Mou', 'Meta, Rensselaer Polytechnic Institute'],\n [PFR_2.author1358, 'Mo Yu', 'IBM Research'],\n [PFR_2.author1361, 'Filippo Bistaffa', 'IIIA-CSIC, Barcelona, Spain'],\n [PFR_2.author1365, 'Joseph Singleton', 'Cardiff University'],\n [PFR_2.author1377, 'Maurice Funk', 'Leipzig University'],\n [PFR_2.author1430,\n  'Philippe Fournier-Viger',\n  'Harbin Institute of Technology (Shenzhen)'],\n [PFR_2.author1435, 'Sarit Kraus', 'Bar-Ilan University'],\n [PFR_2.author1447,\n  'Pengpeng Shao',\n  'Institute of Automation, Chinese Academy of Sciences'],\n [PFR_2.author1449,\n  'Feihu Che',\n  'Institute of Automation, Chinese Academy of Sciences'],\n [PFR_2.author1458, 'Aron Laszka', 'University of Houston'],\n [PFR_2.author1482, 'Marco Aiello', 'University of Stuttgart'],\n [PFR_2.author1490,\n  'Tomas Lozano-Perez',\n  'Massachusetts Institute of Technology'],\n [PFR_2.author1500, 'Sebastian Farquhar', 'Oxford'],\n [PFR_2.author1502, 'Tom Everitt', 'DeepMind'],\n [PFR_2.author1503,\n  'Giuseppe De Giacomo',\n  'Università degli studi di Roma \"La Sapienza\", Italy'],\n [PFR_2.author1561, 'Rohin Shah', 'UC Berkeley'],\n [PFR_2.author1669, 'Oskar Wysocki', 'University of Manchester'],\n [PFR_2.author1679, 'Gordon Guocheng Qian', 'KAUST'],\n [PFR_2.author1697,\n  'Shuang Zeng',\n  'Institute of Computational Linguistic, Peking University'],\n [PFR_2.author1716,\n  'Matthew West',\n  'University of Illinois at Urbana-Champaign'],\n [PFR_2.author1725, 'Sagar Malhotra', 'University of Trento'],\n [PFR_2.author1725, 'Sagar Malhotra', 'Fondazione Bruno Kessler'],\n [PFR_2.author1736, 'Christoph Salge', 'NYU'],\n [PFR_2.author1736, 'Christoph Salge', 'University of Hertfordshire'],\n [PFR_2.author1744,\n  'Martin Wigbertus Antonius Caminada',\n  'Cardiff University'],\n [PFR_2.author1750, 'Abhishek Das', 'FAIR, Meta AI'],\n [PFR_2.author1755, 'Begum Genc', 'University College Cork'],\n [PFR_2.author1759, 'Wheeler Ruml', 'University of New Hampshire'],\n [PFR_2.author1763,\n  'Jian Zhao',\n  'University of Science and Technology of China'],\n [PFR_2.author1779, 'Jordi Levy', 'IIIA-CSIC'],\n [PFR_2.author1780, 'Taewoon Kim', 'Vrije Universiteit Amsterdam'],\n [PFR_2.author1782,\n  'Mark Antonius Neerincx',\n  'TNO / Delft University of Technology'],\n [PFR_2.author1785,\n  'Samuel Kaski',\n  'Aalto University, The University of Manchester'],\n [PFR_2.author1794,\n  'Julius von Kügelgen',\n  'Max Planck Institute for Intelligent Systems'],\n [PFR_2.author1794, 'Julius von Kügelgen', 'University of Cambridge'],\n [PFR_2.author1798, 'Adam White', 'Deepmind'],\n [PFR_2.author1798, 'Adam White', 'University of Alberta'],\n [PFR_2.author1799, 'David Speck', 'University of Freiburg'],\n [PFR_2.author1843, 'Chiara Ghidini', 'Fondazione Bruno Kessler'],\n [PFR_2.author1854, 'Wenhao Yu', 'Google Inc'],\n [PFR_2.author1861, 'Zachary Kenneth Fisher', 'Google Research'],\n [PFR_2.author1873, 'Zijie Huang', 'University of California, Los Angeles'],\n [PFR_2.author1896, 'Chris Develder', 'imec'],\n [PFR_2.author1896, 'Chris Develder', 'Ghent University'],\n [PFR_2.author1910, 'Pulkit Verma', 'Arizona State University'],\n [PFR_2.author1912, 'Prasang Gupta', 'PwC US'],\n [PFR_2.author1912, 'Prasang Gupta', 'Indian Institute of Technology Kanpur'],\n [PFR_2.author1921,\n  'Brian Mac Namee',\n  'Science Foundation Ireland Centre for Research Training in Machine Learning'],\n [PFR_2.author1921,\n  'Brian Mac Namee',\n  'Science Foundation Ireland Insight Centre for Data Analytics Research'],\n [PFR_2.author1921, 'Brian Mac Namee', 'University College Dublin'],\n [PFR_2.author1995, 'Xiangyu Peng', 'Georgia Tech'],\n [PFR_2.author2004,\n  'Brett W. Israelsen',\n  'Raytheon Technologies Research Center'],\n [PFR_2.author2021, 'Munindar P. Singh', 'North Carolina State University'],\n [PFR_2.author2028,\n  'Morteza Ansarinia',\n  'Max Planck Institute for Human Cognitive and Brain Sciences'],\n [PFR_2.author2028, 'Morteza Ansarinia', 'University of Luxembourg'],\n [PFR_2.author2035, 'Matija Franklin', 'University College London'],\n [PFR_2.author2039, 'Adnan Darwiche', 'UCLA'],\n [PFR_2.author2084, 'Bing Liu', 'Facebook'],\n [PFR_2.author2086, 'Eric Robertson', 'nist.gov'],\n [PFR_2.author2086, 'Eric Robertson', 'partech.com'],\n [PFR_2.author2086, 'Eric Robertson', 'csis.gmu.edu'],\n [PFR_2.author2113, 'Yong Zhu', 'Baidu Inc.'],\n [PFR_2.author2115, 'Wei Li', 'Baidu Inc.'],\n [PFR_2.author2160,\n  'Boris Shminke',\n  'Université Côte d’Azur, CNRS, LJAD, France'],\n [PFR_2.author2176, 'Tonghan Wang', 'Tsinghua University'],\n [PFR_2.author2177, 'Lei Yuan', 'Nanjing University'],\n [PFR_2.author2189,\n  'Ole-Christoffer Granmo',\n  'Centre for Artificial Intelligence Research, University of Agder'],\n [PFR_2.author2216,\n  'Massimiliano Luca',\n  'Fondazione Bruno Kessler, Free University of Bolzano'],\n [PFR_2.author2237, 'Harold Soh', 'National University of Singapore'],\n [PFR_2.author2240, 'Yahia Lebbah', 'University of Oran1 Algeria'],\n [PFR_2.author2282, 'Wen Zhang', 'Zhejiang Univeristy'],\n [PFR_2.author2305, 'Zhenwei Tang', 'University of Toronto'],\n [PFR_2.author2325, 'Giovanni Casini', 'ISTI, CNR'],\n [PFR_2.author2325, 'Giovanni Casini', 'University of Cape Town'],\n [PFR_2.author2438, 'Khurram Javed', 'University of Alberta'],\n [PFR_2.author2443, 'Scott E Friedman', 'SIFT'],\n [PFR_2.author2454, 'Maria Vanina Martinez', 'Universidad de Buenos Aires'],\n [PFR_2.author2454, 'Maria Vanina Martinez', 'CONICET Argentina'],\n [PFR_2.author2476, 'Ragib Ahsan', 'University of Illinois at Chicago'],\n [PFR_2.author2485, 'Pengyu Nie', 'The University of Texas at Austin'],\n [PFR_2.author2514, 'Kuldeep S. Meel', 'National University of Singapore'],\n [PFR_2.author2525,\n  'Christoph Benzmüller',\n  'Otto-Friedrich-Universität Bamberg (& Freie Universität Berlin)'],\n [PFR_2.author2548, 'Sourabh Vivek Balgi', 'Indian Institute of Science'],\n [PFR_2.author2548, 'Sourabh Vivek Balgi', 'Linkoping University'],\n [PFR_2.author2563,\n  'Ralf Krestel',\n  'ZBW - Leibniz Information Centre for Economics'],\n [PFR_2.author2563, 'Ralf Krestel', 'Kiel University'],\n [PFR_2.author2569,\n  'Jingcheng Du',\n  'The University of Texas Health Science Center at Houston'],\n [PFR_2.author2581, 'Rui Li', 'Dalian University of Technology'],\n [PFR_2.author2598, 'Xuanxiang Huang', 'Jinan University'],\n [PFR_2.author2598, 'Xuanxiang Huang', 'ANITI, University of Toulouse'],\n [PFR_2.author2619, 'Chan Hee Song', 'The Ohio State University'],\n [PFR_2.author2622, 'Brian M. Sadler', 'Army Research Laboratory'],\n [PFR_2.author2624, 'Yu Su', 'Microsoft'],\n [PFR_2.author2624, 'Yu Su', 'The Ohio State University'],\n [PFR_2.author2624, 'Yu Su', 'University of California, Santa Barbara'],\n [PFR_2.author2647, 'Tran Cao Son', 'New Mexico State University'],\n [PFR_2.author2648, 'Enrico Pontelli', 'New Mexico State University'],\n [PFR_2.author2650, 'Torsten Schaub', 'University of Potsdam'],\n [PFR_2.author2661,\n  'Zhanqiu Zhang',\n  'University of Science and Technology of China'],\n [PFR_2.author2664,\n  'Feng Wu',\n  'University of Science and Technology of China'],\n [PFR_2.author2669,\n  'Dorien Herremans',\n  'Singapore University of Technology and Design'],\n [PFR_2.author2669,\n  'Dorien Herremans',\n  'University of Antwerp, Queen Mary University of London'],\n [PFR_2.author2687, 'Tugdual Ceillier', 'Earthcube'],\n [PFR_2.author2712, 'Kiran Madhusudhanan', 'University of Hildesheim'],\n [PFR_2.author2726, 'Shuigeng Zhou', 'Fudan University'],\n [PFR_2.author2730, 'Siddharth Patwardhan', 'Apple'],\n [PFR_2.author2761, 'Maria A. Zuluaga', 'EURECOM'],\n [PFR_2.author2805, 'Kudakwashe Dube', 'Massey University'],\n [PFR_2.author2813, 'Yao Zhang', 'Fudan University'],\n [PFR_2.author2819, 'Julian McAuley', 'UC San Diego'],\n [PFR_2.author2830, 'Debajyoti Mukhopadhyay', 'Bennett University'],\n [PFR_2.author2877, 'Gal Chechik', 'Bar-Ilan University'],\n [PFR_2.author2877, 'Gal Chechik', 'NVIDIA'],\n [PFR_2.author2881, 'Tom Krüger', 'Ulm University'],\n [PFR_2.author2893, 'David Pomerenke', 'University of Konstanz'],\n [PFR_2.author2915, 'Long Cheng', 'Clemson University'],\n [PFR_2.author2928, 'Keane Lucas', 'Carnegie Mellon University'],\n [PFR_2.author2928, 'Keane Lucas', 'Cylab'],\n [PFR_2.author3011, 'Ekhine Irurozki', 'Telecom Paris'],\n [PFR_2.author3035, 'Shirui Pan', 'Monash University'],\n [PFR_2.author3042, 'Qipeng Guo', 'Fudan University'],\n [PFR_2.author3043, 'Xipeng Qiu', 'Fudan University'],\n [PFR_2.author3048, 'Aldo Gangemi', 'Paris 13 University'],\n [PFR_2.author3048, 'Aldo Gangemi', 'University of Bologna'],\n [PFR_2.author3048, 'Aldo Gangemi', 'ISTC-CNR'],\n [PFR_2.author3048, 'Aldo Gangemi', 'National Research Council'],\n [PFR_2.author3048, 'Aldo Gangemi', 'Sorbonne Paris Nord University'],\n [PFR_2.author3049,\n  'Harald Sack',\n  'FIZ Karlsruhe - Leibniz Institute for Information Infrastructure'],\n [PFR_2.author3053,\n  'Jiongzhi Zheng',\n  'Huazhong University of Science and Technology'],\n [PFR_2.author3088, 'Hangwei Qian', 'Nanyang Technological University'],\n [PFR_2.author3099, 'Jianxin Li', 'Beihang University'],\n [PFR_2.author3102, 'Jan Trienes', 'University of Duisburg-Essen'],\n [PFR_2.author3118, 'Alessandro Facchini', 'IDSIA, USI-SUPSI'],\n [PFR_2.author3119, 'Alessandro Antonucci', 'IDSIA'],\n [PFR_2.author3121, 'Knut Hinkelmann', 'University of Camerino'],\n [PFR_2.author3121,\n  'Knut Hinkelmann',\n  'FHNW University of Applied Sciences and Arts Northwestern Switzerland'],\n [PFR_2.author3121, 'Knut Hinkelmann', 'OMiLAB'],\n [PFR_2.author3121, 'Knut Hinkelmann', 'University of Pretoria'],\n [PFR_2.author3134, 'Andrea Loreggia', 'University of Brescia'],\n [PFR_2.author3138, 'Kartik Talamadupula', 'IBM Research'],\n [PFR_2.author3149, 'Andrea Schaerf', 'University of Udine'],\n [PFR_2.author3152, 'Yanzhou Li', 'Nanyang Technological University'],\n [PFR_2.author3186,\n  'Jiaming Shen',\n  'Google Research;University of Illinoist at Urbana-Champaign'],\n [PFR_2.author3188,\n  'Susik Yoon',\n  'University of Illinois at Urbana-Champaign'],\n [PFR_2.author3189,\n  'Jiawei Han',\n  'University of Illinois at Urbana-Champaign'],\n [PFR_2.author3193, 'Francesca Toni', 'Imperial College London'],\n [PFR_2.author3316, 'Eunika Mercier-Laurent', 'Unversity of Reims'],\n [PFR_2.author3316, 'Eunika Mercier-Laurent', 'IFIP'],\n [PFR_2.author3352,\n  'Alberto Sardinha',\n  'INESC-ID and Instituto Superior Técnico, Universidade de Lisboa'],\n [PFR_2.author3356, 'Jeffrey Heer', 'University of Washington'],\n [PFR_2.author3362, 'Petrônio C. L. Silva', 'PPGMCS'],\n [PFR_2.author3362, 'Petrônio C. L. Silva', 'MINDS'],\n [PFR_2.author3362, 'Petrônio C. L. Silva', 'IFNMG'],\n [PFR_2.author3362, 'Petrônio C. L. Silva', 'CIDIC'],\n [PFR_2.author3402, 'Evgeny Osipov', 'Luleå University of Technoliogy'],\n [PFR_2.author3410, 'João Leite', 'Universidade Nova de Lisboa'],\n [PFR_2.author3435, 'Yi Wu', 'Tsinghua University'],\n [PFR_2.author3453, 'Leonardo Lamanna', \"Universita' degli Studi di Brescia\"],\n [PFR_2.author3453, 'Leonardo Lamanna', 'Fondazione Bruno Kessler'],\n [PFR_2.author3457, 'Ahmad Hassanat', 'Mutah University'],\n [PFR_2.author3477, 'Jennifer Wortman Vaughan', 'Microsoft Research'],\n [PFR_2.author3484, 'Yulin Zhang', 'The University of Texas at Austin'],\n [PFR_2.author3490, 'Yuan He', 'University of Oxford'],\n [PFR_2.author3492, 'Ian Horrocks', 'University of Oxford'],\n [PFR_2.author3494, 'Minwoo Lee', 'University of North Carolina, Charlotte'],\n [PFR_2.author3543, 'Claudio Pomo', 'Politecnico di Bari'],\n [PFR_2.author3553,\n  'Guy Van den Broeck',\n  'University of California, Los Angeles'],\n [PFR_2.author3569, 'Sriram Ganapathi Subramanian', 'University of Waterloo'],\n [PFR_2.author3587, 'Haoran Sun', 'University of Minnesota'],\n [PFR_2.author3605,\n  'Thomas Augustin',\n  'Department of Statistics, Ludwig-Maximilians University Munich (LMU)'],\n [PFR_2.author3628, 'Borja G. Leon', 'Imperial College London'],\n [PFR_2.author3631,\n  'Rajarshi Roy',\n  'Max Planck Institute for Software Systems'],\n [PFR_2.author3634, 'Jiaxin Shi', 'Tsinghua University, Huawei Technologies'],\n [PFR_2.author3638, 'Lei Hou', 'Tsinghua University'],\n [PFR_2.author3651, 'Marlene D. Berke', 'Yale University'],\n [PFR_2.author3671,\n  'Peng Qi',\n  'Institute of Computing Technology, Chinese Academy of Sciences'],\n [PFR_2.author3684, 'Michael Katz', 'IBM Research'],\n [PFR_2.author3692, 'Ying Wen', 'Shanghai Jiao Tong University'],\n [PFR_2.author3705, 'Sriram Gopalakrishnan', 'Arizona State University'],\n [PFR_2.author3705, 'Sriram Gopalakrishnan', 'Lehigh University'],\n [PFR_2.author3707, 'Roman V Yampolskiy', 'University of Louisville'],\n [PFR_2.author3735, 'Peiyao Li', 'Nankai Univeristy'],\n [PFR_2.author3740,\n  'Quanming Yao',\n  'Assistant Professor, Tsinghua University'],\n [PFR_2.author3744, 'Riccardo Zese', 'University of Ferrara, Italy'],\n [PFR_2.author3746, 'Fabrizio Riguzzi', 'University of Ferrara'],\n [PFR_2.author3759, 'Zhenwen Liang', 'KAUST'],\n [PFR_2.author3760,\n  'Jipeng Zhang',\n  'Hong Kong University of Science and Technology'],\n [PFR_2.author3768, 'Michiel van der Meer', 'Leiden University'],\n [PFR_2.author3815, 'Johannes Fürnkranz', 'JKU Linz'],\n [PFR_2.author3823, 'Alistair Moffat', 'The University of Melbourne'],\n [PFR_2.author3827, 'Saif M. Mohammad', 'National Research Council Canada'],\n [PFR_2.author3856, 'Daniel Yamins', 'Stanford University'],\n [PFR_2.author3868,\n  'Mirco Musolesi',\n  'University College London and University of Bologna'],\n [PFR_2.author3877,\n  'Shrisha Rao',\n  'International Institute of Information Technology - Bangalore'],\n [PFR_2.author3883, 'Long Chen', 'Columbia University'],\n [PFR_2.author3885, 'Oriol Corcoll', 'University of Tartu'],\n [PFR_2.author3944, 'Roman Kern', 'Graz University of Technology'],\n [PFR_2.author3944, 'Roman Kern', 'Know-Center'],\n [PFR_2.author3976, 'Clare R. Voss', 'ARL'],\n [PFR_2.author3982, 'Tianqing Fang', 'HKUST'],\n [PFR_2.author4053,\n  'Gagandeep Singh',\n  'University of Illinois at Urbana-Champaign'],\n [PFR_2.author4078, 'Andrea Bonarini', 'Politecnico di MIlano'],\n [PFR_2.author4104, 'Andrew Kyle Lampinen', 'Stanford'],\n [PFR_2.author4104, 'Andrew Kyle Lampinen', 'DeepMind'],\n [PFR_2.author4133, 'Piji Li', 'CUHK'],\n [PFR_2.author4146, 'Erkut Erdem', 'Hacettepe University'],\n [PFR_2.author4147, 'Aykut Erdem', 'Koç University, Istanbul, Turkey'],\n [PFR_2.author4153, 'Larry Heck', 'Georgia Institute of Technology'],\n [PFR_2.author4158, 'Karthik Valmeekam', 'Arizona State University'],\n [PFR_2.author4160,\n  'Chengpeng Hu',\n  'Southern University of Science and Technology'],\n [PFR_2.author4219, 'Amir-massoud Farahmand', 'Vector Institute'],\n [PFR_2.author4229, 'Stefan Mitsch', 'Carnegie Mellon University'],\n [PFR_2.author4230, 'Willian Tessaro Lunardi', 'University of Luxembourg'],\n [PFR_2.author4282, 'Zhe Xu', 'Arizona State University'],\n [PFR_2.author4308, 'Leendert van der Torre', 'University of Luxembourg'],\n [PFR_2.author4315, 'Jie Zhou', 'Tencent Inc.'],\n [PFR_2.author4326, 'Muhammad Umair Nasir', 'ominor.ai'],\n [PFR_2.author4330, 'Zhen Bi', 'Zhejiang University'],\n [PFR_2.author4335, 'Yezhou Yang', 'Arizona State University'],\n [PFR_2.author4366, 'Navodini Wijethilake', 'University of Moratuwa'],\n [PFR_2.author4381, 'Yashar Moshfeghi', 'University of Strathclyde'],\n [PFR_2.author4384, 'Yibo Hu', 'University of Texas at Dallas'],\n [PFR_2.author4390, 'Elias Boutros Khalil', 'University of Toronto'],\n [PFR_2.author4426, 'Melanie Subbiah', 'Columbia University'],\n [PFR_2.author4448,\n  'Peizhuo Lv',\n  'SKLOIS, Institute of Information Engineering, Chinese Academy of Sciences'],\n [PFR_2.author4457, 'Marco Brambilla', 'Politecnico di Milano'],\n [PFR_2.author4469, 'Chuhan Wu', \"Noah's Ark Lab, Huawei Technologies\"],\n [PFR_2.author4497, 'Kshama Dwarakanath', 'JPMorgan AI Research'],\n [PFR_2.author4519, 'Yann LeCun', 'NYU'],\n [PFR_2.author4519, 'Yann LeCun', 'Facebook'],\n [PFR_2.author4523, 'Cristina Savin', 'NYU'],\n [PFR_2.author4525, 'Eero P. Simoncelli', 'Simons Foundation'],\n [PFR_2.author4525, 'Eero P. Simoncelli', 'New York University'],\n [PFR_2.author4527,\n  'David Sussillo',\n  'Google AI, Google Inc., Mountain View, CA, USA.'],\n [PFR_2.author4527,\n  'David Sussillo',\n  'Stanford Neurosciences Institute, Stanford University, Stanford, CA, USA.'],\n [PFR_2.author4527,\n  'David Sussillo',\n  'Department of Electrical Engineering, Stanford University, Stanford, CA, USA.'],\n [PFR_2.author4533, 'Yaochu Jin', 'Bielefeld University'],\n [PFR_2.author4533, 'Yaochu Jin', 'University of Surrey'],\n [PFR_2.author4565, 'Xiaoyuan Yi', 'Tsinghua University'],\n [PFR_2.author4569, 'Xulong Zhang', 'Ping An Technology (Shenzhen) Co., Ltd.'],\n [PFR_2.author4628, 'Richard Zhao', 'University of Calgary'],\n [PFR_2.author4631, 'Amal Alabdulkarim', 'Georgia Institute of Technology'],\n [PFR_2.author4636, 'Florian Tramèr', 'ETH Zürich'],\n [PFR_2.author4643, 'Zhen Liang', 'National University of Defense Technology'],\n [PFR_2.author4658, 'Wei Yu', 'University of Toronto'],\n [PFR_2.author4677, 'Gian Antonio Susto', 'University of Padova'],\n [PFR_2.author4699, 'Jie Fu', 'Polytechnique Montreal'],\n [PFR_2.author4699, 'Jie Fu', 'Quebec AI Institute (Mila)'],\n [PFR_2.author4722, 'Danilo S. Carvalho', 'University of Manchester'],\n [PFR_2.author4734, 'Rishi Sonthalia', 'University of Michigan'],\n [PFR_2.author4744, 'Leilani H. Gilpin', 'MIT'],\n [PFR_2.author4750, 'Trevor J. M. Bench-Capon', 'University of Liverpool'],\n [PFR_2.author4768, 'Chris Cundy', 'Stanford University'],\n [PFR_2.author4794, 'Quoc Hung Ngo', 'University College Dublin'],\n [PFR_2.author4798, 'Gerardo I. Simari', 'Arizona State University'],\n [PFR_2.author4798, 'Gerardo I. Simari', 'CONICET'],\n [PFR_2.author4798, 'Gerardo I. Simari', 'Universidad Nacional del Sur'],\n [PFR_2.author4813, 'Ce Zhang', 'ETH Zurich'],\n [PFR_2.author4834, 'Louise Dennis', 'University of Manchester'],\n [PFR_2.author4835, 'Michael Fisher', 'University of Manchester'],\n [PFR_2.author4835, 'Michael Fisher', 'University of Liverpool'],\n [PFR_2.author4844, 'Jiacheng Li', 'University of California San Diego'],\n [PFR_2.author4862, 'Md Kamruzzaman Sarker', 'University of Hartford'],\n [PFR_2.author4871, 'Changjiang Li', 'Penn State'],\n [PFR_2.author4894, 'Edwin V. Bonilla', \"CSIRO's Data61\"],\n [PFR_2.author4946, 'Sanya Bathla Taneja', 'University of Pittsburgh'],\n [PFR_2.author4951,\n  'marcin p. joachimiak',\n  'University of California, Berkeley'],\n [PFR_2.author4951,\n  'marcin p. joachimiak',\n  'Lawrence Berkeley National Laboratory'],\n [PFR_2.author4955, 'Chandan Singh', 'UC Berkeley'],\n [PFR_2.author4958, 'Will Bridewell', 'U.S. Naval Research Laboratory'],\n [PFR_2.author4972, 'Gong Cheng', 'Nanjing University'],\n [PFR_2.author4973, 'Egor V. Kostylev', 'University of Oxford'],\n [PFR_2.author4973, 'Egor V. Kostylev', 'University of Oslo'],\n [PFR_2.author5004, 'Jing Wu', 'UIUC'],\n [PFR_2.author5019, 'Peter B. Walker', 'Joint Artificial Intelligence Center'],\n [PFR_2.author5098, 'João Gabriel Moura Campos', 'Universidade de São Paulo'],\n [PFR_2.author5098,\n  'João Gabriel Moura Campos',\n  'Center for Artifical Inteligence (C4AI)'],\n [PFR_2.author5144, 'David Piorkowski', 'IBM Research'],\n [PFR_2.author5163, 'Udit Sharma', 'IBM'],\n [PFR_2.author5172, 'Dirk P. Kroese', 'The University of Queensland'],\n [PFR_2.author5200, 'Hanlei Zhang', 'Tsinghua University'],\n [PFR_2.author5202, 'Xin Eric Wang', 'University of California, Santa Cruz'],\n [PFR_2.author5230, 'Xu Liu', 'National University of Singapore'],\n [PFR_2.author5265, 'Jimmy Ho-man Lee', 'The Chinese University of Hong Kong'],\n [PFR_2.author5283, 'Ho Hin Lee', 'Vanderbilt University, Computer Science'],\n [PFR_2.author5293, 'Hao Jiang', 'Huawei Poisson Lab'],\n [PFR_2.author5313, 'Quang Pham', 'Singapore Management University'],\n [PFR_2.author5339, 'Wenjie Ruan', 'Lancaster University'],\n [PFR_2.author5372, 'Jakub Marecek', 'Czech Technical University'],\n [PFR_2.author5397, 'Christophe Lecoutre', 'University of Artois'],\n [PFR_2.author5397, 'Christophe Lecoutre', 'CRIL CNRS'],\n [PFR_2.author5401, 'Marco Zaffalon', 'IDSIA'],\n [PFR_2.author5403, 'Cong Lu', 'University of Oxford'],\n [PFR_2.author5406, 'Bill Yuchen Lin', 'University of Southern California'],\n [PFR_2.author5443, 'Charl Maree', 'University of Agder'],\n [PFR_2.author5520, 'Carolin (Haas) Lawrence', 'NEC Laboratories Europe'],\n [PFR_2.author5575, 'Hiba Arnaout', 'Max Planck Institute for Informatics'],\n [PFR_2.author5578, 'Yun Cheng Wang', 'University of Southern California'],\n [PFR_2.author5586, 'Chujie Zheng', 'Tsinghua University'],\n [PFR_2.author5588, 'Zheng Zhang', 'Tsinghua University'],\n [PFR_2.author5589, 'Minlie Huang', 'Tsinghua University'],\n [PFR_2.author5603, 'Martin Volker Butz', 'University of Tübingen'],\n [PFR_2.author5626, 'Pedro Sequeira', 'SRI International'],\n [PFR_2.author5655, 'Luke Thorburn', \"King's College London\"],\n [PFR_2.author5668, 'Guangxuan Xu', 'University of California, Los Angeles'],\n [PFR_2.author5687, 'Maria L. Gini', 'University of Minnesota'],\n [PFR_2.author5695, 'Zhaoxuan Tan', \"Xi'an Jiaotong University\"],\n [PFR_2.author5705, 'Magdalena Ivanovska', 'University of Oslo'],\n [PFR_2.author5722, 'Peter A. Flach', 'University of Bristol'],\n [PFR_2.author5722, 'Peter A. Flach', 'Alan Turing Institute'],\n [PFR_2.author5748, 'Zongyue Li', 'tum, lmu'],\n [PFR_2.author5752, 'Zhao Meng', 'ETH Zurich'],\n [PFR_2.author5759,\n  'Mark Alan Matties',\n  'The Johns Hopkins University Applied Physics Laboratory'],\n [PFR_2.author5759, 'Mark Alan Matties', 'JHU APL'],\n [PFR_2.author5775, 'Mukul Singh', 'Microsoft'],\n [PFR_2.author5775, 'Mukul Singh', 'Indian Institute of Technology Delhi'],\n [PFR_2.author5784, 'Rajesh Vasa', 'Deakin University'],\n [PFR_2.author5835, 'Marco Mochi', 'University of Genoa'],\n [PFR_2.author5836, 'Matteo Cardellini', 'Politecnico di Torino'],\n [PFR_2.author5836, 'Matteo Cardellini', 'Università degli Studi di Genova'],\n [PFR_2.author5844,\n  'Emilio Ferrara',\n  'Information Sciences Institute, University of Southern California, Marina del Rey, CA, United States.'],\n [PFR_2.author5881, 'Jiaoyang Li', 'University of Southern California'],\n [PFR_2.author5883,\n  'Hang Ma',\n  'McGill University;University of Southern California;Simon Fraser University'],\n [PFR_2.author5889,\n  'Carlos Badenes-Olmedo',\n  'Universidad Politécnica de Madrid'],\n [PFR_2.author5895,\n  'Yongquan He',\n  'School of Cyber Security, University of Chinese Academy of Sciences, Institute of Information Engineering, Chinese Academy of Sciences'],\n [PFR_2.author5899, 'Ronghao Dang', 'Tongji University'],\n [PFR_2.author5923, 'Guido Tack', 'Monash University'],\n [PFR_2.author5926, 'Heng Ee Tay', 'Monash University Malaysia'],\n [PFR_2.author5943, 'Cosmin Paduraru', 'DeepMind'],\n [PFR_2.author5961,\n  'Massimiliano Lupo Pasini',\n  'Oak Ridge National Laboratory'],\n [PFR_2.author5967, 'M. Amblard', 'Université de Lorraine'],\n [PFR_2.author5967, 'M. Amblard', 'Inria'],\n [PFR_2.author5967, 'M. Amblard', 'CNRS'],\n [PFR_2.author6021, 'I. Ramadass Subramanian', 'CUSAT'],\n [PFR_2.author6034, 'Ronald P. A. Petrick', 'Heriot-Watt University'],\n [PFR_2.author6047,\n  'Nirmalya Thakur',\n  'Department of Electrical Engineering and Computer Science, University of Cincinnati'],\n [PFR_2.author6056,\n  'Haoran Luo',\n  'School of Computer Science, Beijing University of Posts and Telecommunications'],\n [PFR_2.author6151, 'Mikayel Samvelyan', 'University College London'],\n [PFR_2.author6151, 'Mikayel Samvelyan', 'Facebook AI Research'],\n [PFR_2.author6154, 'Shuxin Li', 'Nanyang Technological University'],\n [PFR_2.author6163, 'Md. Faisal Mahbub Chowdhury', 'IBM Research AI'],\n [PFR_2.author6171, 'Zhuangyan Fang', 'Peking University'],\n [PFR_2.author6204, 'Shengyu Zhang', 'Zhejiang University'],\n [PFR_2.author6211, 'Xingdi Yuan', 'Microsoft Research, Montreal'],\n [PFR_2.author6212, 'Marc-Alexandre Côté', 'Microsoft'],\n [PFR_2.author6217,\n  'Muhammad Al-Qurishi',\n  'Elm Research and Innovation Division'],\n [PFR_2.author6217, 'Muhammad Al-Qurishi', 'Elm Company'],\n [PFR_2.author6227, 'Christophe Pallier', 'CEA'],\n [PFR_2.author6227, 'Christophe Pallier', 'CNRS'],\n [PFR_2.author6227, 'Christophe Pallier', 'INSERM'],\n [PFR_2.author6284, 'Sen Yang', 'LinkedIn'],\n [PFR_2.author6374,\n  'Huijuan Xu',\n  'Pennsylvania State University--University Park'],\n [PFR_2.author6377, 'William W. Cohen', 'Google'],\n [PFR_2.author6379, 'Nitish Gupta', 'University of Pennsylvania'],\n [PFR_2.author6402, 'Felipe Meneguzzi', 'PUCRS'],\n [PFR_2.author6449,\n  'Jiaqi Yang',\n  'Institute for Interdisciplinary Information Sciences, Tsinghua University'],\n [PFR_2.author6499, 'Emile van Krieken', 'Vrije Universiteit Amsterdam'],\n [PFR_2.author6502, 'Thomas Serre', 'Brown University'],\n [PFR_2.author6518, 'Andrea Giovanni Nuzzolese', 'ISTC-CNR'],\n [PFR_2.author6527, 'Eamon Duede', 'Dept. of Philosophy'],\n [PFR_2.author6527, 'Eamon Duede', 'University of Chicago'],\n [PFR_2.author6527,\n  'Eamon Duede',\n  'Committee on Conceptual and Historical Studies of Science'],\n [PFR_2.author6527, 'Eamon Duede', 'Knowledge Lab'],\n [PFR_2.author6539, 'Bo Zheng', 'Harbin institute of technology'],\n [PFR_2.author6549, 'Shichao Pei', 'KAUST'],\n [PFR_2.author6555, 'André Platzer', 'Karlsruhe Institute of Technology'],\n [PFR_2.author6555, 'André Platzer', 'Carnegie Mellon University'],\n [PFR_2.author6598, 'Nathan Scales', 'Google'],\n [PFR_2.author6604,\n  'Michael Timothy Bennett',\n  'Australian National University'],\n [PFR_2.author6610,\n  'Corina Catarau-Cotutiu',\n  'Artificial Intelligence Research Center (CitAI)'],\n [PFR_2.author6611,\n  'Esther Mondragón',\n  'Artificial Intelligence Research Centre, CitAI. City, University of London.'],\n [PFR_2.author6634, 'Vaibhav Unhelkar', 'Rice University'],\n [PFR_2.author6727, 'Antonello Meloni', 'University of Cagliari'],\n [PFR_2.author6749, 'Zehao Wang', 'KU Leuven'],\n [PFR_2.author6761, 'Junkyu Lee', 'University of California, Irvine'],\n [PFR_2.author6770, 'Marcelo H ANG Jr', 'National University of Singapore'],\n [PFR_2.author6772, 'R. Gong', 'UCLA'],\n [PFR_2.author6777, 'Dinesh Raghu', 'IBM Research'],\n [PFR_2.author6795, 'Marcel Wever', 'Paderborn University'],\n [PFR_2.author6798,\n  'Luigi Gresele',\n  'Max Planck Institute for Intelligent Systems, Tübingen, Germany'],\n [PFR_2.author6810, 'Dirk Fahland', 'Eindhoven University of Technology'],\n [PFR_2.author6819, 'Sebastian Gehrmann', 'Google Research'],\n [PFR_2.author6822, 'Bo Xiong', 'University of Stuttgart'],\n [PFR_2.author6845, 'Nikola Milosevic', 'University of Manchester'],\n [PFR_2.author6845, 'Nikola Milosevic', 'Bayer A.G.'],\n [PFR_2.author6850, 'Liang Zhang', 'College of Ecology, Lanzhou University'],\n [PFR_2.author6862, 'Fredrik Sandin', 'Luleå University of Technology'],\n [PFR_2.author6880, 'Chi Zhang', 'UCLA'],\n [PFR_2.author6950,\n  'Sahand Sharifzadeh',\n  'Ludwig Maximilian University of Munich'],\n [PFR_2.author6956, 'Francesco Sovrano', 'Università di Bologna'],\n [PFR_2.author6963,\n  'Yang Cao',\n  'University of Science and Technology of China'],\n [PFR_2.author6966, 'Cristina Cornelio', 'IBM Research'],\n [PFR_2.author6982, 'Qian Zhang', 'Horizon Robotics'],\n [PFR_2.author6987, 'Chengzhong Xu', 'University of Macau'],\n [PFR_2.author7009, 'Maxwell Nye', 'MIT'],\n [PFR_2.author7014, 'Marie-Francine Moens', 'KU Leuven'],\n [PFR_2.author7042, 'Christos Dimitrakakis', 'University of Oslo'],\n [PFR_2.author7042,\n  'Christos Dimitrakakis',\n  'Chalmers University of Technology'],\n [PFR_2.author7066, 'Elliot A. Ludvig', 'University of Warwick'],\n [PFR_2.author7067,\n  'Tuan-Phong Nguyen',\n  'Max Planck Institute for Informatics'],\n [PFR_2.author7068,\n  'Simon Razniewski',\n  'Max Planck Institute for Informatics'],\n [PFR_2.author7094, 'Gido M. van de Ven', 'KU Leuven'],\n [PFR_2.author7118, 'Holger Stitz', 'Johannes Kepler University Linz'],\n [PFR_2.author7120, 'David Pisinger', 'Technical University of Denmark'],\n [PFR_2.author7120, 'David Pisinger', 'University of Copenhagen'],\n [PFR_2.author7120, 'David Pisinger', 'DIKU'],\n [PFR_2.author7120, 'David Pisinger', 'DTU Management'],\n [PFR_2.author7137, 'Shiwali Mohan', 'Palo Alto Research Center'],\n [PFR_2.author7142, 'Enrique Areyan Viqueira', 'Brown University'],\n [PFR_2.author7157,\n  'Chao-Chun Liang',\n  'Institute of Information Science, Academia Sinica'],\n [PFR_2.author7175, 'M. de Rijke', 'University of Amsterdam'],\n [PFR_2.author7175,\n  'M. de Rijke',\n  'Innovation Center for Artificial Intelligence'],\n [PFR_2.author7188,\n  'Domenico Cotroneo',\n  'Università degli Studi di Napoli Federico II'],\n [PFR_2.author7188,\n  'Domenico Cotroneo',\n  'Department of Electrical Engineering and Information Technology (DIETI)'],\n [PFR_2.author7190, 'Pietro Liguori', 'University of Naples Federico II'],\n [PFR_2.author7216, 'Hadi Salman', 'MIT'],\n [PFR_2.author7248, 'Thomas Winters', 'KU Leuven'],\n [PFR_2.author7283, 'Christos T. Rodosthenous', 'Open University of Cyprus'],\n [PFR_2.author7290,\n  'Toni Mancini',\n  'Department of Computer Science, Sapienza University of Rome, Italy'],\n [PFR_2.author7300,\n  'Tharindu Cyril Weerasooriya',\n  'Rochester Institute of Technology'],\n [PFR_2.author7332, 'Konstantinos I. Kotis', 'University of the Aegean'],\n [PFR_2.author7374, 'Zheng Wang', 'Nanyang Technological University'],\n [PFR_2.author7382, 'Siddharth Karamcheti', 'Stanford University'],\n [PFR_2.author7393, 'Martin Fabian', 'Chalmers University of Technology'],\n [PFR_2.author7429, 'Jianwen Li', 'East China Normal University'],\n [PFR_2.author7440, 'Xiangru Lian', 'Kuaishou Technology'],\n [PFR_2.author7440, 'Xiangru Lian', 'University of Rochester'],\n [PFR_2.author7443,\n  'Youri Coppens',\n  'Vrije Universiteit Brussel, Université Libre de Bruxelles'],\n [PFR_2.author7464, 'Jamie McCusker', 'Rensselaer Polytechnic Institute'],\n [PFR_2.author7472, 'Peter Baumgartner', 'CSIRO'],\n [PFR_2.author7472, 'Peter Baumgartner', 'Australian National University'],\n [PFR_2.author7499, 'Chris Amato', 'Northeastern University'],\n [PFR_2.author7504, 'Pavan Kapanipathi', 'IBM Research'],\n [PFR_2.author7512, 'Xiang Zhao', 'National University of Defense Technology'],\n [PFR_2.author7514,\n  'Yichi Zhang',\n  'Computer Science and Engineering, University of Michigan'],\n [PFR_2.author7539, 'Verena Rieser', 'Heriot-Watt University'],\n [PFR_2.author7587, 'Tuan-Anh Dang Nguyen', 'Cinnamon AI'],\n [PFR_2.author7632, 'Supriyo Ghosh', 'Carnegie Mellon University'],\n [PFR_2.author7632, 'Supriyo Ghosh', 'Massachusetts Institute of Technology'],\n [PFR_2.author7632, 'Supriyo Ghosh', 'A*STAR'],\n [PFR_2.author7632, 'Supriyo Ghosh', 'Singapore Management University'],\n [PFR_2.author7632, 'Supriyo Ghosh', 'IBM Research'],\n [PFR_2.author7645, 'Binbin Xie', 'Xiamen University'],\n [PFR_2.author7666, 'Hao Peng', 'Allen Institute for AI'],\n [PFR_2.author7669, 'Zheng Wang', 'University of Leeds'],\n [PFR_2.author7670,\n  'Charanraj Thimmisetty',\n  'University of Southern California, Lawrence Livermore National Lab, Palo Alto Networks'],\n [PFR_2.author7734, 'Markus Wulfmeier', 'DeepMInd'],\n [PFR_2.author7746, 'Liyao (Mars) Gao', 'University of Washington'],\n [PFR_2.author7805, 'Dawid Wisniewski', 'Poznan University of Technology'],\n [PFR_2.author7829, 'Petra Wolf', 'University of Bergen'],\n [PFR_2.author7851, 'Gongfan Fang', 'National University of Singapore'],\n [PFR_2.author7854, 'Chen Shen', 'Temple University'],\n [PFR_2.author7892, 'Mateus de Souza Monteiro', 'UFF, Intelie'],\n [PFR_2.author7941, 'David Abel', 'DeepMind'],\n [PFR_2.author7944, 'Bart Verheij', 'University of Groningen'],\n [PFR_2.author7974, 'Alan Francis Lynch', 'University of Alberta'],\n [PFR_2.author7995,\n  'Rishi Hazra',\n  'Doctoral student, AASS Research Centre, Örebro University (WASP graduate school)'],\n [PFR_2.author8023,\n  'Lijun Lyu',\n  'L3S Research Center, Leibniz University Hannover'],\n [PFR_2.author8044, 'Emanuele La Malfa', 'University of Oxford'],\n [PFR_2.author8047, 'Nicola Paoletti', 'Royal Holloway, University of London'],\n [PFR_2.author8073, 'Leon Sixt', 'Freie Universität Berlin'],\n [PFR_2.author8095, 'Yu Li', 'Columbia University'],\n [PFR_2.author8117, 'Stefano Faralli', 'University of Rome Unitelma Sapienza'],\n [PFR_2.author8118, 'Simone Paolo Ponzetto', 'University of Mannheim'],\n [PFR_2.author8138,\n  'Pabitra Mitra',\n  'Indian Institute of Technology Kharagpur'],\n [PFR_2.author8143,\n  'Kemal Korjenić',\n  'Department of automatic control and electronics, Faculty of Electrical Engineering, Sarajevo, Bosnia and Herzegovina'],\n [PFR_2.author8160, 'Piotr Wojciech Mirowski', 'DeepMind'],\n [PFR_2.author8182, 'Derek Greene', 'University College Dublin'],\n [PFR_2.author8189,\n  'Somak Aditya',\n  'Indian Institute of Technology, Kharagpur'],\n [PFR_2.author8191, 'Ronal Singh', 'University of Melbourne'],\n [PFR_2.author8198, 'Jane Elizabeth Alty', 'University of Tasmania'],\n [PFR_2.author8198, 'Jane Elizabeth Alty', 'Hull York Medical School'],\n [PFR_2.author8198, 'Jane Elizabeth Alty', 'University of York'],\n [PFR_2.author8198, 'Jane Elizabeth Alty', 'Tasmanian Health Service'],\n [PFR_2.author8198,\n  'Jane Elizabeth Alty',\n  'Leeds Teaching Hospitals NHS Trust'],\n [PFR_2.author8219, 'Jian Sun', 'alibaba'],\n [PFR_2.author8219, 'Jian Sun', 'China mobile research institute'],\n [PFR_2.author8223,\n  'Penghui Wei',\n  'Institute of Automation, Chinese Academy of Sciences'],\n [PFR_2.author8244, 'Neal Patwari', 'Washington University in Saint Louis'],\n [PFR_2.author8250, 'Helge Spieker', 'University of Oslo'],\n [PFR_2.author8250, 'Helge Spieker', 'Simula Research Laboratory'],\n [PFR_2.author8295, 'Dapeng Zhao', 'Carnegie Mellon University'],\n [PFR_2.author8350,\n  'Arvind W. Kiwelekar',\n  'DR Babasaheb Ambedkar Technological University'],\n [PFR_2.author8359, 'Andrea Madotto', 'Meta Reality Lab'],\n [PFR_2.author8383, 'Jiapeng Wu', 'Layer 6'],\n [PFR_2.author8386, 'Chen Ma', 'City University of Hong Kong'],\n [PFR_2.author8398, 'Rishav Chakravarti', 'Carnegie Mellon University'],\n [PFR_2.author8398, 'Rishav Chakravarti', 'Bucknell University'],\n [PFR_2.author8398, 'Rishav Chakravarti', 'Amazon Web Services'],\n [PFR_2.author8402, 'Nicolas Rodolfo Fauceglia', 'IBM Research AI'],\n [PFR_2.author8413, 'Sola Shirai', 'Rensselaer Polytechnic Institute'],\n [PFR_2.author8439,\n  'Viet-Man Le',\n  'Institute of Software Technology, Graz University of Technology'],\n [PFR_2.author8465,\n  'Patrick Zschech',\n  'Friedrich-Alexander-Universität Erlangen-Nürnberg'],\n [PFR_2.author8469, 'Belinda Z. Li', 'Facebook AI'],\n [PFR_2.author8469, 'Belinda Z. Li', 'MIT'],\n [PFR_2.author8492, 'Muhao Chen', 'USC'],\n [PFR_2.author8494, 'Xiang Lorraine Li', 'UMASS Amherst'],\n [PFR_2.author8520, 'David J. Crandall', 'Indiana University'],\n [PFR_2.author8558,\n  'Raghvendra Mall',\n  \"St. Jude Children's Research Hospital\"],\n [PFR_2.author8588, 'Enis Karaarslan', 'ISOC-TR, BMO'],\n [PFR_2.author8601, 'Dmitry Ivanov', 'Higher School of Economics & Technion'],\n [PFR_2.author8617, 'Wen Wang', 'Zhejiang Lab.'],\n [PFR_2.author8641,\n  'Usha Lokala',\n  'wright state university, national institute of health'],\n [PFR_2.author8659, 'Sahraoui Dhelim', 'University College Dublin'],\n [PFR_2.author8687, 'Vladimir Mikulik', 'DeepMind'],\n [PFR_2.author8714, 'Sainyam Galhotra', 'University of Massachusetts Amherst'],\n [PFR_2.author8716, 'Babak Salimi', 'University of Washington'],\n [PFR_2.author8727, 'Yun Zhao', 'UCSB, Meta'],\n [PFR_2.author8732, 'Linda Petzold', 'University of California Santa Barbara'],\n [PFR_2.author8791, 'Mehdi Rezagholizadeh', \"Huawei Noah's Ark Lab\"],\n [PFR_2.author8804,\n  'Arash Shaban-Nejad',\n  'University of Tennessee Health Science Center'],\n [PFR_2.author8825, 'Sebastian Sardiña', 'RMIT University'],\n [PFR_2.author8835,\n  'Junheng Hao',\n  'Department of Computer Science, University of California, Los Angeles'],\n [PFR_2.author8849, 'Daniel S. Brown', 'University of California, Berkeley'],\n [PFR_2.author8858,\n  'Giovanni Da San Martino',\n  'Qatar Computing Research Institute'],\n [PFR_2.author8868, 'Daniel Damir Harabor', 'Monash University'],\n [PFR_2.author8869, 'Peter James Stuckey', 'Monash University'],\n [PFR_2.author8889, 'Letitia Parcalabescu', 'Heidelberg University'],\n [PFR_2.author8924, 'Christopher Kanan', 'University of Rochester'],\n [PFR_2.author8953, 'Jie Yin', 'The University of Sydney'],\n [PFR_2.author8964,\n  'Kwan Hui Lim',\n  'Singapore University of Technology and Design'],\n [PFR_2.author8986, 'Elena Mocanu', 'University of Twente'],\n [PFR_2.author9015,\n  'Andreas Holzinger',\n  'Human-Centered AI Lab (Holzinger Group), Institute for Medical Informatics/Statistics, Medical University Graz'],\n [PFR_2.author9099,\n  'Yi Du',\n  'Computer Network Information Center, Chinese Academy of Sciences'],\n [PFR_2.author9110, 'Pham Dinh Thanh', 'Tay bac university'],\n [PFR_2.author9173, 'Kun Xu', 'Tencent AI Lab'],\n [PFR_2.author9183, 'Timo Speith', 'Saarland University'],\n [PFR_2.author9210, 'Mengchu Zhou', 'NJIT, MUST, and KAU'],\n [PFR_2.author9268,\n  'Martin Schmitt',\n  'Ludwig-Maximilians-Universität München'],\n [PFR_2.author9342, 'Ronald de Haan', 'University of Amsterdam'],\n [PFR_2.author9346, 'Tom Hanika', 'University of Kassel'],\n [PFR_2.author9374, 'Iuliana Marin', 'University Politehnica of Bucharest'],\n [PFR_2.author9394, 'Ignacio Arganda-Carreras', 'ehu.eus'],\n [PFR_2.author9394, 'Ignacio Arganda-Carreras', 'ehu.es'],\n [PFR_2.author9396,\n  'Eneko Agirre',\n  'University of the Basque Country (UPV/EHU)'],\n [PFR_2.author9399, 'Mehrdad Jalali', 'Karlsruhe Institute of Technology'],\n [PFR_2.author9413,\n  'Jugoslav Stojcheski',\n  'Bosch Center for Artificial Intelligence'],\n [PFR_2.author9429, 'Isabelle Augenstein', 'University of Copenhagen'],\n [PFR_2.author9451, 'Mingde Zhao', 'Mila'],\n [PFR_2.author9451, 'Mingde Zhao', 'McGill Univeristy'],\n [PFR_2.author9453, 'Vihan Jain', 'Google'],\n [PFR_2.author9496, 'Mirco Giacobbe', 'University of Bimingham'],\n [PFR_2.author9503,\n  'Thomas K. F. Chiu',\n  'The Chinese University of Hong Kong'],\n [PFR_2.author9506, 'Irwin King', 'The Chinese University of Hong Kong'],\n [PFR_2.author9521, 'Zijian Zhang', 'L3S Research Center'],\n [PFR_2.author9555, 'Xingjun Ma', 'Deakin University'],\n [PFR_2.author9555, 'Xingjun Ma', 'The University of Melbourne'],\n [PFR_2.author9577, 'Mengdi Zhang', 'meituan'],\n [PFR_2.author9596, 'Alexander Lerchner', 'DeepMind'],\n [PFR_2.author9612, 'Antonio Lieto', 'ICAR-CNR'],\n [PFR_2.author9612, 'Antonio Lieto', 'University of Turin'],\n [PFR_2.author9617, 'Wlodzislaw Duch', 'Nicolaus Copernicus University'],\n [PFR_2.author9620, 'Shane Storks', 'University of Michigan'],\n [PFR_2.author9651,\n  'Weiming Dong',\n  'National Laboratory of Pattern Recognition, Institute of Automation, Chinese Academy of Sciences'],\n [PFR_2.author9688, 'John Tsotsos', 'York University'],\n [PFR_2.author9688, 'John Tsotsos', 'University of Toronto'],\n [PFR_2.author9704,\n  'Warrren B Powell',\n  'Princeton University;Optimal Dynamics'],\n [PFR_2.author9711, 'Joberto S. B. Martins', 'Salvador University - UNIFACS'],\n [PFR_2.author9717, 'Chinnadhurai Sankar', 'MILA, Montreal'],\n [PFR_2.author9717, 'Chinnadhurai Sankar', 'Facebook AI'],\n [PFR_2.author9743, 'Filip Ilievski', 'Information Sciences Institute'],\n [PFR_2.author9743, 'Filip Ilievski', 'Vrije Universiteit Amsterdam'],\n [PFR_2.author9744, 'Pedro A. Szekely', 'University of Southern California'],\n [PFR_2.author9751, 'Andrea Dittadi', 'KTH'],\n [PFR_2.author9753, 'Thomas Bolander', 'Technical University of Denmark'],\n [PFR_2.author9755,\n  'Changjun Fan',\n  'National University of Defense Technology'],\n [PFR_2.author9763, 'John P. Dickerson', 'University of Maryland'],\n [PFR_2.author9765, 'Zhiwei Zhang', 'Rice University'],\n [PFR_2.author9772,\n  'Soumya Chatterjee',\n  'Indian Institute of Technology Bombay'],\n [PFR_2.author9774, 'Xingyu Zhao', 'City, University of London'],\n [PFR_2.author9774, 'Xingyu Zhao', 'Univerisity of Liverpool'],\n [PFR_2.author9774, 'Xingyu Zhao', 'Heriot-Watt University'],\n [PFR_2.author9775, 'Xiaowei Huang', 'University of Liverpool'],\n [PFR_2.author9791, 'Shiqi Wang', 'Columbia University'],\n [PFR_2.author9836, 'AbdelRahim Elmadany', 'University of British Columbia'],\n [PFR_2.author9896, 'Xiang Ling', 'Zhejiang University'],\n [PFR_2.author9904, 'J. He', 'Delft University of Technology'],\n [PFR_2.author9905, 'Xavier Puig', 'MIT CSAIL'],\n [PFR_2.author9906, 'Shuang Li', 'MIT'],\n [PFR_2.author9920, 'Zuxin Liu', 'Carnegie Mellon University'],\n [PFR_2.author9925, 'Ana Marasović', 'Allen Institute for AI'],\n [PFR_2.author9926, 'Kai Wang', 'Dalian University of Technology'],\n [PFR_2.author9926, 'Kai Wang', 'Macquarie University'],\n [PFR_2.author9929,\n  'Quan Z. Sheng',\n  'School of Computing, Macquarie University, North Ryde, NSW, Australia'],\n [PFR_2.author9951, 'Ole Magnus Holter', 'University of Oslo'],\n [PFR_2.author9977, 'Piotr (Peter) Mardziel', 'Truera'],\n [PFR_2.author9988, 'Rupsa Saha', 'University of Agder'],\n [PFR_2.author10000,\n  'Joseph Keshet',\n  'Electrical and Computer Engineering, Technion--Israel Institute of Technology, Israel'],\n [PFR_2.author10008, 'Arseny S Khakhalin', 'Bard College'],\n [PFR_2.author10031, 'Zhufeng Pan', 'UCLA'],\n [PFR_2.author10077, 'Gagan Bansal', 'University of Washington'],\n [PFR_2.author10078, 'Tongshuang Sherry Wu', 'Carnegie Mellon University'],\n [PFR_2.author10079, 'Joyce Zhou', '(formerly) University of Washington'],\n [PFR_2.author10079, 'Joyce Zhou', 'Cornell University'],\n [PFR_2.author10080, 'Raymond Fok', 'University of Washington'],\n [PFR_2.author10082, 'Marco Tulio Ribeiro', 'University of Washington'],\n [PFR_2.author10082, 'Marco Tulio Ribeiro', 'Microsoft Research'],\n [PFR_2.author10083, 'Daniel S. Weld', 'University of Washington'],\n [PFR_2.author10083,\n  'Daniel S. Weld',\n  'Allen Institute of Artificial Intelligence'],\n [PFR_2.author10090, 'Jennifer Lee', 'Carnegie Mellon University'],\n [PFR_2.author10090, 'Jennifer Lee', 'Facebook'],\n [PFR_2.author10107,\n  'Vijay Ganesh',\n  'University of Waterloo, Ontario, Canada'],\n [PFR_2.author10138,\n  'Bhanu Pratap Singh Rawat',\n  'School of Computer Science, University of Massachusetts, Amherst, MA, United States.'],\n [PFR_2.author10154, 'Carlo Baldassi', 'Bocconi University'],\n [PFR_2.author10207, 'Mokanarangan Thayaparan', 'University of Manchester'],\n [PFR_2.author10214, 'Mithun Chakraborty', 'University of Michigan'],\n [PFR_2.author10245, 'Hua Wei', 'NJIT'],\n [PFR_2.author10245, 'Hua Wei', 'Beihang University'],\n [PFR_2.author10245, 'Hua Wei', 'Penn State'],\n [PFR_2.author10258, 'David Filliat', 'ENSTA Paris'],\n [PFR_2.author10273,\n  'Markus Kneer',\n  'Department of Philosophy, University of Zurich'],\n [PFR_2.author10273,\n  'Markus Kneer',\n  'Digital Society Initiative, University of Zurich'],\n [PFR_2.author10277, 'Eric D. Langlois', 'University of Toronto'],\n [PFR_2.author10277, 'Eric D. Langlois', 'Vector Institute'],\n [PFR_2.author10298, 'Jingwen Hu', 'Harbin Institute of Technology'],\n [PFR_2.author10304, 'shuai Yang', 'Hefei University of Technology'],\n [PFR_2.author10330, 'Gal Cohensius', 'Technion'],\n [PFR_2.author10353, 'Alon Cohen', 'google.com'],\n [PFR_2.author10353, 'Alon Cohen', 'tauex.tau.ac.il'],\n [PFR_2.author10360, 'Nesime Tatbul', 'Intel Labs'],\n [PFR_2.author10360, 'Nesime Tatbul', 'MIT'],\n [PFR_2.author10362, 'Saman P. Amarasinghe', 'MIT'],\n [PFR_2.author10376, 'Roxana Rădulescu', 'Vrije Universiteit Brussel'],\n [PFR_2.author10391, 'Chris Xiaoxuan Lu', 'University of Edinburgh'],\n [PFR_2.author10403, 'Maanak Gupta', 'Tennessee Technological University'],\n [PFR_2.author10404, 'Luca Marzari', 'University of Verona'],\n [PFR_2.author10405, 'Davide Corsi', 'University of Verona'],\n [PFR_2.author10406, 'Enrico Marchesini', 'Northeastern University'],\n [PFR_2.author10414, 'Spencer James Peters', 'Cornell University'],\n [PFR_2.author10423, 'Xin Liu', 'Peng Cheng Laboratory'],\n [PFR_2.author10478,\n  'Francesco d’Amore',\n  \"Inria Sophia Antipolis, Université Côte d'Azur\"],\n [PFR_2.author10481, 'Emanuele Natale', 'CNRS'],\n [PFR_2.author10481, 'Emanuele Natale', 'I3S'],\n [PFR_2.author10481, 'Emanuele Natale', 'UCA'],\n [PFR_2.author10481, 'Emanuele Natale', 'INRIA'],\n [PFR_2.author10485, 'Peter Clark', 'Allen Institute for AI'],\n [PFR_2.author10486, 'Keisuke Sakaguchi', 'Tohoku University'],\n [PFR_2.author10498, 'Tegan Maharaj', 'Mila'],\n [PFR_2.author10498, 'Tegan Maharaj', 'Montreal Polytechnique'],\n [PFR_2.author10526, 'Adrian Groza', 'Technical University of Cluj-Napoca'],\n [PFR_2.author10542, 'Nele Russwinkel', 'Technische Universität'],\n [PFR_2.author10550, 'Bruno Veloso', 'University of Porto'],\n [PFR_2.author10557, 'Xinhong Chen', 'City University of Hong Kong'],\n [PFR_2.author10566, 'Steffen Staab', 'Universität Stuttgart, DE'],\n [PFR_2.author10566, 'Steffen Staab', 'University of Southampton, UK'],\n [PFR_2.author10584,\n  'Jonathan Jørgensen',\n  'Institute of Computer Science, NTNU'],\n [PFR_2.author10610, 'Rudolf Kadlec', 'DeepMind'],\n [PFR_2.author10631, 'Qi Shi', 'University of Southampton'],\n [PFR_2.author10637,\n  'Zhenhailong Wang',\n  'University of Illinois at Urbana-Champaign'],\n [PFR_2.author10667, 'Yao-Yi Chiang', 'University of Minnesota'],\n [PFR_2.author10667, 'Yao-Yi Chiang', 'University of Southern California'],\n [PFR_2.author10669,\n  'Basel Shbita',\n  'University of Southern California, Information Sciences Institute'],\n [PFR_2.author10672, 'Craig A. Knoblock', 'Information Sciences Institute'],\n [PFR_2.author10672, 'Craig A. Knoblock', 'University of Southern California'],\n [PFR_2.author10688, 'Joseph E. Gonzalez', 'UC Berkeley'],\n [PFR_2.author10791,\n  'Manmohan Chandraker',\n  'University of California, San Diego'],\n [PFR_2.author10811, 'Hanchen Wang', 'Genentech'],\n [PFR_2.author10811, 'Hanchen Wang', 'Stanford University'],\n [PFR_2.author10854, 'Andrea Cossu', 'University of Pisa'],\n [PFR_2.author10854, 'Andrea Cossu', 'Scuola Normale Superiore'],\n [PFR_2.author10907, 'Marc Toussaint', 'Technical University of Berlin'],\n [PFR_2.author10960, 'Michael Spranger', 'Sony Corporation'],\n [PFR_2.author10960, 'Michael Spranger', 'Sony AI Inc.'],\n [PFR_2.author10960,\n  'Michael Spranger',\n  'Sony Computer Science Laboratories Inc.'],\n [PFR_2.author11005, 'Kenneth Ward Church', 'Northeastern University'],\n [PFR_2.author11007, 'Wen Song', 'Shandong University'],\n [PFR_2.author11079, 'Manolis Pitsikalis', 'University of Liverpool'],\n [PFR_2.author11088, 'Julie Hunter', 'University of Texas at Austin'],\n [PFR_2.author11088,\n  'Julie Hunter',\n  \"Université de Pau et des Pays de L'Adour\"],\n [PFR_2.author11088, 'Julie Hunter', 'IRIT, Université Paul Sabatier'],\n [PFR_2.author11088, 'Julie Hunter', 'LINAGORA'],\n [PFR_2.author11088, 'Julie Hunter', 'Universitat Pompeu Fabra'],\n [PFR_2.author11094, 'Samarth Bhargav', 'University of Amsterdam'],\n [PFR_2.author11117,\n  'Prithwish Jana',\n  'Indian Institute of Technology Kharagpur'],\n [PFR_2.author11140, 'Jay Shenoy', 'UC Berkeley'],\n [PFR_2.author11143, 'Allen Nie', 'Stanford University'],\n [PFR_2.author11152, 'Jordi Coll', 'Aix-Marseille Université'],\n [PFR_2.author11170, 'Dheeraj Rajagopal', 'Carnegie Mellon University'],\n [PFR_2.author11218, 'Michael R Douglas', 'Stony Brook'],\n [PFR_2.author11218, 'Michael R Douglas', 'Harvard University'],\n [PFR_2.author11226, 'Oya Celiktutan', \"King's College London\"],\n [PFR_2.author11232, 'Supratik Chakraborty', 'I.I.T. Bombay'],\n [PFR_2.author11234, 'Tanya Braun', 'University of Münster'],\n [PFR_2.author11248, 'Daniel Harari', 'Weizmann Institute of Science'],\n [PFR_2.author11248, 'Daniel Harari', 'Massachusetts Institute of Technology'],\n [PFR_2.author11258, 'Chitta Baral', 'Arizona State University'],\n [PFR_2.author11259, 'Harsha Kokel', 'The University of Texas at Dallas'],\n [PFR_2.author11294, 'Michel Galley', 'Microsoft Research'],\n [PFR_2.author11299, 'Humphrey Shi', 'University of Oregon'],\n [PFR_2.author11299, 'Humphrey Shi', 'UIUC'],\n [PFR_2.author11300, 'Junzhe Zhang', 'Columbia University'],\n [PFR_2.author11345, 'Seongho Choi', 'Seoul National University'],\n [PFR_2.author11378, 'Wolfgang Stammer', 'Technical University Darmstadt'],\n [PFR_2.author11428, 'Jérémie Guiochet', 'CNRS'],\n [PFR_2.author11447,\n  'Jan Treur',\n  'Vrije Universiteit Amsterdam Social AI Group'],\n [PFR_2.author11463, 'Preslav Nakov', 'University of California at Berkeley'],\n [PFR_2.author11463, 'Preslav Nakov', 'Hamad bin Khalifa University'],\n [PFR_2.author11463, 'Preslav Nakov', 'Sofia University'],\n [PFR_2.author11463, 'Preslav Nakov', 'Bulgarian Academy of Sciences'],\n [PFR_2.author11463, 'Preslav Nakov', 'Qatar Computing Research Institute'],\n [PFR_2.author11463,\n  'Preslav Nakov',\n  'Mohamed bin Zayed University of Artificial Intelligence'],\n [PFR_2.author11467, 'Farhad Shakerin', 'University of Texas at Dallas'],\n [PFR_2.author11469, 'Haifeng Qian', 'IBM Research'],\n [PFR_2.author11503, 'Susobhan Ghosh', 'iiit.ac.in'],\n [PFR_2.author11503, 'Susobhan Ghosh', 'harvard.edu'],\n [PFR_2.author11503, 'Susobhan Ghosh', 'smu.edu.sg'],\n [PFR_2.author11504, 'Pradeep Varakantham', 'Singapore Management University'],\n [PFR_2.author11515, 'Tobias Malte Müller', 'CICESE'],\n [PFR_2.author11526, 'Qianglong Chen', 'Zhejiang University'],\n [PFR_2.author11532, 'Gillis Hermans', 'KU Leuven'],\n [PFR_2.author11561, 'Shijie Chen', 'The Ohio State University'],\n [PFR_2.author11570, 'Mario Alviano', 'University of Calabria'],\n [PFR_2.author11578, 'Antonis Bikakis', 'University College London'],\n [PFR_2.author11586, 'A. K. Qin', 'Swinburne University of Technology'],\n [PFR_2.author11593, 'Ivan Letteri', \"University of L'Aquila\"],\n [PFR_2.author11632, 'Qi Shi', 'Harbin Institute of Technology'],\n [PFR_2.author11644, 'Sky CH-Wang', 'Columbia University'],\n [PFR_2.author11654, 'Meiqi Chen', 'Peking University'],\n [PFR_2.author11723, 'Supriti Vijay', 'Manipal Institute Of Technology'],\n [PFR_2.author11774,\n  'Charless C. Fowlkes',\n  'University of California, Irvine'],\n [PFR_2.author11775, 'Sameer Singh', 'Allen Institute for AI'],\n [PFR_2.author11775, 'Sameer Singh', 'University of California, Irvine'],\n [PFR_2.author11776, 'Ashwinkumar Ganesan', 'Alexa AI, PhD @ UMBC'],\n [PFR_2.author11779, 'Edward Raff', 'Laboratory for Physical Sciences'],\n [PFR_2.author11779, 'Edward Raff', 'Booz Allen Hamilton'],\n [PFR_2.author11779,\n  'Edward Raff',\n  'University of Maryland, Baltimore County'],\n [PFR_2.author11804, 'Arjun Reddy Akula', 'IIIT Hyderabad'],\n [PFR_2.author11804, 'Arjun Reddy Akula', 'UCLA'],\n [PFR_2.author11804, 'Arjun Reddy Akula', 'IBM Research'],\n [PFR_2.author11837,\n  'Nicholas Asher',\n  'Centre Nationale de Recherche Scientifique, Institut de Recherche en Informatique de Toulouse'],\n [PFR_2.author11843, 'Diego Calvanese', 'Free University of Bozen-Bolzano'],\n [PFR_2.author11843, 'Diego Calvanese', 'Umeå University'],\n [PFR_2.author11858, 'Hongru Wang', 'Chinese University of Hong Kong'],\n [PFR_2.author11908, 'Bhavya Ghai', 'Stony Brook University'],\n [PFR_2.author11910,\n  'Farzan Shenavarmasouleh',\n  'PhD Student at University of Georgia'],\n [PFR_2.author11922, 'Nicola Pezzotti', 'Eindhoven University of Technoloy'],\n [PFR_2.author11922, 'Nicola Pezzotti', 'Philips Research'],\n [PFR_2.author11924, 'Anshul Jindal', 'Technical University of Munich'],\n [PFR_2.author11966, 'Pradip Pramanick', 'TCS Research'],\n [PFR_2.author11967,\n  'Chayan Sarkar',\n  'Robotics & Autonomous Systems, TCS Research'],\n [PFR_2.author12005, 'Christian Kroer', 'Columbia University'],\n [PFR_2.author12010,\n  'Neil Dexter',\n  'University of Maryland, College Park, College Park, MD, USA'],\n [PFR_2.author12019, 'Changchuan Yin', 'University of Illinois at Chicago'],\n [PFR_2.author12040, 'Yara Rizk', 'IBM Research AI'],\n [PFR_2.author12045, 'George Baryannis', 'University of Huddersfield'],\n [PFR_2.author12196, 'Amir Zadeh', 'Carnegie Mellon University'],\n [PFR_2.author12223, 'Cameron R. Wolfe', 'Rice University'],\n [PFR_2.author12270,\n  'Lingwei Wei',\n  'Institute of Information Engineering, Chinese Academy of Sciences'],\n [PFR_2.author12270,\n  'Lingwei Wei',\n  'School of Cyber Security, University of Chinese Academy of Sciences'],\n [PFR_2.author12271, 'Dou Hu', 'University of Chinese Academy of Sciences'],\n [PFR_2.author12318, 'Kurt Shuster', 'Facebook AI Research'],\n [PFR_2.author12321,\n  'Ishan Tarunesh',\n  'Department of Computer Science and Engineering, IIT Bombay'],\n [PFR_2.author12344, 'Wenqi Fan', 'The Hong Kong Polytechnic University'],\n [PFR_2.author12369, 'Patrizio Dazzi', 'University of Pisa'],\n [PFR_2.author12391,\n  'Dorien Herremans',\n  'Singapore University of Technology and Design'],\n [PFR_2.author12433, 'Stefan Bischof', 'Siemens AG Oesterreich'],\n [PFR_2.author12463, 'Juan David Correa', 'Universidad Autónoma de Manizales'],\n [PFR_2.author12487, 'Jochen De Weerdt', 'KU Leuven'],\n [PFR_2.author12495, 'Konrad K. Dabrowski', 'Durham university'],\n [PFR_2.author12498, 'George Osipov', 'Linköping University'],\n [PFR_2.author12500, 'Tao Lin', 'Harvard University'],\n [PFR_2.author12500, 'Tao Lin', 'Peking University'],\n [PFR_2.author12501, 'Daniel Halpern', 'Harvard University'],\n [PFR_2.author12514, 'Andrew Craig Eberhard', 'RMIT University'],\n [PFR_2.author12521, 'Baotian Hu', 'Harbin Institute of Technology, Shenzhen'],\n [PFR_2.author12529, 'Qiwei Zhong', 'Alibaba Group'],\n [PFR_2.author12549, 'Irfansha Shaik', 'Aarhus unversity'],\n [PFR_2.author12562,\n  'Carolina Magalhães Lopes',\n  'Universidade NOVA de Lisboa'],\n [PFR_2.author12572, 'Ning Ding', 'Tsinghua University'],\n [PFR_2.author12574, 'Xiao Liu', 'Tsinghua University'],\n [PFR_2.author12581, 'Zhiyuan Liu', 'Tsinghua University'],\n [PFR_2.author12586,\n  'Johannes Treutlein',\n  'University of Toronto, Vector Institute'],\n [PFR_2.author12587, 'Michael Dennis', 'UC Berkeley'],\n [PFR_2.author12594, 'Gauthier Picard', 'IRIT'],\n [PFR_2.author12594, 'Gauthier Picard', 'EMSE : Mines Saint-Etienne'],\n [PFR_2.author12594, 'Gauthier Picard', 'ONERA'],\n [PFR_2.author12596, 'Xiaoteng Ma', 'Tsinghua University'],\n [PFR_2.author12608, 'Bo Liu', 'Peking University'],\n [PFR_2.author12610, 'Zhen Liu', 'Megvii Technology'],\n [PFR_2.author12613, 'Ningyu Zhang', 'Zhejiang University'],\n [PFR_2.author12615,\n  'Xiang Chen',\n  'ZheJiang University, College of Computer Science and Technology, ZJUKLAB'],\n [PFR_2.author12618, 'Gang Huang', 'Zhejiang Lab'],\n [PFR_2.author12622, 'Nguyen Hong Son', 'Cinnamon AI Labs'],\n [PFR_2.author12653, 'Grzegorz Chrupała', 'Tilburg University'],\n [PFR_2.author12683, 'Wenhai Wang', 'Shanghai AI Laboratory'],\n [PFR_2.author12685, 'Zhiqi Li', 'Nanjing University'],\n [PFR_2.author12708,\n  'Xiaosen Wang',\n  'School of Computer Science and Technology, Huazhong University of Science and Technology, China'],\n [PFR_2.author12711,\n  'Ye Yuan',\n  'Carnegie Mellon University, Robotics Institute'],\n [PFR_2.author12712, 'Xinshuo Weng', 'Carnegie Mellon University'],\n [PFR_2.author12714, 'Kris Kitani', 'Carnegie Mellon University'],\n [PFR_2.author12890, 'QUAN LIU', 'Vanderbilt University'],\n [PFR_2.author12897, 'Razvan Pascanu', 'DeepMind'],\n [PFR_2.author12929, 'Bishwamittra Ghosh', 'National University of Singapore'],\n [PFR_2.author12989, 'Baihan Lin', 'Columbia University'],\n [PFR_2.author13009, 'Gerard de Melo', 'Hasso Plattner Institute'],\n [PFR_2.author13009, 'Gerard de Melo', 'University of Potsdam'],\n [PFR_2.author13097, 'Abdallah Saffidine', 'University of New South Wales'],\n [PFR_2.author13128, 'Chenwei Zhang', 'University of Illinois at Chicago'],\n [PFR_2.author13128, 'Chenwei Zhang', 'Amazon'],\n [PFR_2.author13143, 'Animesh Garg', 'University of Toronto'],\n [PFR_2.author13143, 'Animesh Garg', 'Vector Institute'],\n [PFR_2.author13143, 'Animesh Garg', 'Nvidia'],\n [PFR_2.author13169, 'Lonneke van der Plas', 'Idiap research institute'],\n [PFR_2.author13192, 'Rachel Freedman', 'University of California, Berkeley'],\n [PFR_2.author13203, 'Michael K Cohen', 'University of Oxford'],\n [PFR_2.author13248, 'Arthur Choi', 'Kennesaw State University'],\n [PFR_2.author13260, 'Fu Zhang', 'Northeastern University'],\n [PFR_2.author13291, 'James Alfred Walker', 'University of York'],\n [PFR_2.author13293, 'Xu He', 'Nanyang Technologicial University'],\n [PFR_2.author13294, 'Haipeng Chen', 'Harvard University'],\n [PFR_2.author13310, 'Luiz Jonatã Pires de Araújo', 'Innopolis University'],\n [PFR_2.author13320, 'Magdalena Ortiz', 'TU Wien'],\n [PFR_2.author13352, 'Chanhee Lee', 'Korea University'],\n [PFR_2.author13378,\n  'Nils Wenninghoff',\n  'OFFIS Institute for Information Technology'],\n [PFR_2.author13455, 'Stefan Schulte', 'Hamburg University of Technology'],\n [PFR_2.author13457, 'Raluca D. Gaina', 'Queen Mary University of London'],\n [PFR_2.author13459,\n  'M. A. Hakim Newton',\n  'The University of Newcastle, Australia'],\n [PFR_2.author13461, 'Anastasia Dimou', 'KU Leuven'],\n [PFR_2.author13462, 'Nicolas Bredèche', 'Sorbonne Université'],\n [PFR_2.author13473,\n  'Hongming Zhang',\n  'The Hong Kong University of Science and Technology'],\n [PFR_2.author13496, 'Hexiang Hu', 'University of Southern California'],\n [PFR_2.author13497, 'Jiacheng Chen', 'University of Southern California'],\n [PFR_2.author13552,\n  'Osmar R Zaiane',\n  'Alberta Machine Intelligence Institute'],\n [PFR_2.author13552, 'Osmar R Zaiane', 'University of Alberta'],\n [PFR_2.author13566, 'Daniel Khashabi', 'Johns Hopkins University'],\n [PFR_2.author13572, 'Federico Bianchi', 'Bocconi University'],\n [PFR_2.author13581, 'Xuanjing Huang', 'Fudan University'],\n [PFR_2.author13590, 'Zequn Sun', 'Nanjing University'],\n [PFR_2.author13607, 'Cristobal Eyzaguirre', 'IALab'],\n [PFR_2.author13620, 'Yixin Zhu', 'Peking University'],\n [PFR_2.author13621, 'Di Zhuang', 'University of South Florida'],\n [PFR_2.author13627, 'Domenico Fabio Savo', 'Univeristy of Bergamo'],\n [PFR_2.author13681,\n  'Dilip Singh Sisodia',\n  'National Institute of Technology Raipur'],\n [PFR_2.author13692, 'Hyunjae Kim', 'Korea University'],\n [PFR_2.author13695, 'Jaewoo Kang', 'Korea University'],\n [PFR_2.author13699,\n  'Bruno José Torres Fernandes',\n  'Universidade de Pernambuco'],\n [PFR_2.author13701,\n  'Bruno C. da Silva',\n  'University of Massachusetts Amherst'],\n [PFR_2.author13723, 'Ioannis D. Apostolopoulos', 'University of Patras'],\n [PFR_2.author13732, 'Michael Cook', 'Queen Mary University of London'],\n [PFR_2.author13752, 'Mohammed J. Zaki', 'Rensselaer Polytechnic Institute'],\n [PFR_2.author13755, 'Samuel Albanie', 'University of Cambridge'],\n [PFR_2.author13813,\n  'Roberta Calegari',\n  'Alma Mater Studiorum---Università di Bologna'],\n [PFR_2.author13815, 'Xinyi Zheng', 'Carnegie Mellon University'],\n [PFR_2.author13816,\n  'Jilles Vreeken',\n  'Helmholtz Center for Information Security'],\n [PFR_2.author13852, 'Joydeep Biswas', 'The University of Texas at Austin'],\n [PFR_2.author13864, 'Xiaohui Yu', 'Shandong University'],\n [PFR_2.author13864, 'Xiaohui Yu', 'York University'],\n [PFR_2.author13877,\n  'Thomas Bäck',\n  'Leiden Institute of Advanced Computer Science'],\n [PFR_2.author13877, 'Thomas Bäck', 'Leiden University'],\n [PFR_2.author13879,\n  'Jennifer Renoux',\n  'Center for Applied Autonomous Sensor Systems, Örebro University'],\n [PFR_2.author13880,\n  'Uwe Köckemann',\n  'Centre for Applied Autonomous Sensor Systems'],\n [PFR_2.author13894, 'Stella Rose Biderman', 'EleutherAI'],\n [PFR_2.author13894, 'Stella Rose Biderman', 'Booz Allen Hamilton'],\n [PFR_2.author13899,\n  'Jonathan M Francis',\n  'Bosch Center for Artificial Intelligence'],\n [PFR_2.author13899, 'Jonathan M Francis', 'Carnegie Mellon University'],\n [PFR_2.author13901, 'Gabriel Stanovsky', 'University of Washington'],\n [PFR_2.author13901,\n  'Gabriel Stanovsky',\n  'Allen Institute for Artificial Intelligence'],\n [PFR_2.author13905, 'Nick Hawes', 'University of Oxford'],\n [PFR_2.author13914,\n  'Xianpei Han',\n  'Institute of Software, Chinese Academy of Sciences'],\n [PFR_2.author13953, 'Andrea Morichetta', 'TU Wien'],\n [PFR_2.author13974, 'Ingrid Zukerman', 'Monash University'],\n [PFR_2.author13994, 'Ringo Baumann', 'Leipzig University'],\n [PFR_2.author13999,\n  'Aixin Sun',\n  'Nanyang Technological University, Singapore'],\n [PFR_2.author14012, 'Giedrius Burachas', 'SRI International'],\n [PFR_2.author14043, 'Md. Mosaddek Khan', 'University of Dhaka'],\n [PFR_2.author14065, 'Dinesh Kumar Saini', 'Software consultant freelancer'],\n [PFR_2.author14092, 'Niloy Ganguly', 'IIT Kharagpur, India'],\n [PFR_2.author14112, 'Andrés Páez', 'Universidad de los Andes'],\n [PFR_2.author14127, 'Zifan Wang', 'Carnegie Mellon University'],\n [PFR_2.author14128, 'Anupam Datta', 'Carnegie Mellon University'],\n [PFR_2.author14145,\n  'Dimitrije Radojević',\n  'Elektrotehni&#x010D;ki fakultet Univerziteta u Beogradu, Bul. kralja Aleksandra 73, 11120 Belgrade, Serbia'],\n [PFR_2.author14190, 'Khalid M. Saqr', 'Tohoku University, JAPAN'],\n [PFR_2.author14190, 'Khalid M. Saqr', 'AASTMT, EGYPT'],\n [PFR_2.author14215, 'Henry A. Kautz', 'University of Rochester'],\n [PFR_2.author14225, 'Alejandro Molina', 'TU Darmstadt'],\n [PFR_2.author14240, 'Vikram Goyal', 'IIIT Delhi'],\n [PFR_2.author14252,\n  'Barbara Maria Di Eugenio',\n  'University of Illinois at Chicago'],\n [PFR_2.author14291, 'Heng Zhang', 'Tianjin University'],\n [PFR_2.author14297, 'Krzysztof Z Gajos', 'Harvard University'],\n [PFR_2.author14298,\n  'Elena L. Glassman',\n  'Harvard University, Radcliffe Institute for Advanced Study'],\n [PFR_2.author14308,\n  'Kun He',\n  'Huazhong University of Science and Technology'],\n [PFR_2.author14322, 'Rebecca Sharp', 'University of Arizona'],\n [PFR_2.author14331, 'Yuri Lavinas', 'University of Tsukuba'],\n [PFR_2.author14350, 'Juan-Manuel Torres-Moreno', 'Polytechnique Montréal'],\n [PFR_2.author14350, 'Juan-Manuel Torres-Moreno', \"Université d'Avignon\"],\n [PFR_2.author14369, 'Jacob Schrum', 'Southwestern University'],\n [PFR_2.author14388, 'Kristina Yordanova', 'University of Rostock'],\n [PFR_2.author14418, 'Antti Oulasvirta', 'Aalto University'],\n [PFR_2.author14450, 'Dallas Card', 'University of Michigan'],\n [PFR_2.author14452,\n  'Nadav Oved',\n  'Technion - Israel Institute of Technology'],\n [PFR_2.author14480, 'Siddhant Bhambri', 'Arizona State University'],\n [PFR_2.author14486, 'Jia Tao', 'Lafayette College'],\n [PFR_2.author14493, 'KongFatt Wong-Lin', 'Ulster University'],\n [PFR_2.author14512,\n  'Wei Qiu',\n  'School of Computer Science and Engineering, Nanyang Technological University, Singapore'],\n [PFR_2.author14513, 'Zinovi Rabinovich', 'Nanyang Technological University'],\n [PFR_2.author14531, 'Jing Liu', 'Baidu Inc.'],\n [PFR_2.author14535,\n  'Mehwish Alam',\n  'FIZ Karlsruhe - Leibniz Institute for Information Infrastructure'],\n [PFR_2.author14536, 'Chunnan Wang', 'Harbin Institute of Technology'],\n [PFR_2.author14564, 'Zhiqing Sun', 'Carnegie Mellon University'],\n [PFR_2.author14581, 'Martin Ritzert', 'RWTH Aachen University'],\n [PFR_2.author14593, 'Zhongyang Li', 'Harbin Institute of Technology'],\n ...]"
     },
     "execution_count": 8,
     "metadata": {},
     "output_type": "execute_result"
    }
   ],
   "source": [
    "list(default_world.sparql(\"\"\"\n",
    "       SELECT  ?aut ?name  ?label\n",
    "           {\n",
    "             ?aut <https://cp.org/ProjetFilRouge.owl#fullName> ?name.\n",
    "             ?aff  <https://cp.org/ProjetFilRouge.owl#member> ?aut.\n",
    "             ?aff <https://cp.org/ProjetFilRouge.owl#preLabel> ?label\n",
    "             }\n",
    "            order by  ?aut\n",
    "\n",
    "    \"\"\")) # GROUP BY ?aut    HAVING (?c >1)"
   ],
   "metadata": {
    "collapsed": false
   }
  },
  {
   "cell_type": "code",
   "execution_count": 9,
   "outputs": [
    {
     "data": {
      "text/plain": "[[PFR_2.author86, 2],\n [PFR_2.author356, 2],\n [PFR_2.author367, 2],\n [PFR_2.author438, 4],\n [PFR_2.author464, 2],\n [PFR_2.author475, 2],\n [PFR_2.author497, 2],\n [PFR_2.author520, 2],\n [PFR_2.author549, 2],\n [PFR_2.author726, 2],\n [PFR_2.author941, 4],\n [PFR_2.author1098, 3],\n [PFR_2.author1116, 2],\n [PFR_2.author1249, 2],\n [PFR_2.author1257, 2],\n [PFR_2.author1312, 2],\n [PFR_2.author1725, 2],\n [PFR_2.author1736, 2],\n [PFR_2.author1794, 2],\n [PFR_2.author1798, 2],\n [PFR_2.author1896, 2],\n [PFR_2.author1912, 2],\n [PFR_2.author1921, 3],\n [PFR_2.author2028, 2],\n [PFR_2.author2086, 3],\n [PFR_2.author2325, 2],\n [PFR_2.author2454, 2],\n [PFR_2.author2548, 2],\n [PFR_2.author2563, 2],\n [PFR_2.author2598, 2],\n [PFR_2.author2624, 3],\n [PFR_2.author2669, 2],\n [PFR_2.author2877, 2],\n [PFR_2.author2928, 2],\n [PFR_2.author3048, 5],\n [PFR_2.author3121, 4],\n [PFR_2.author3316, 2],\n [PFR_2.author3362, 4],\n [PFR_2.author3453, 2],\n [PFR_2.author3705, 2],\n [PFR_2.author3944, 2],\n [PFR_2.author4104, 2],\n [PFR_2.author4519, 2],\n [PFR_2.author4525, 2],\n [PFR_2.author4527, 3],\n [PFR_2.author4533, 2],\n [PFR_2.author4699, 2],\n [PFR_2.author4798, 3],\n [PFR_2.author4835, 2],\n [PFR_2.author4951, 2],\n [PFR_2.author4973, 2],\n [PFR_2.author5098, 2],\n [PFR_2.author5397, 2],\n [PFR_2.author5722, 2],\n [PFR_2.author5759, 2],\n [PFR_2.author5775, 2],\n [PFR_2.author5836, 2],\n [PFR_2.author5967, 3],\n [PFR_2.author6151, 2],\n [PFR_2.author6217, 2],\n [PFR_2.author6227, 3],\n [PFR_2.author6527, 4],\n [PFR_2.author6555, 2],\n [PFR_2.author6845, 2],\n [PFR_2.author7042, 2],\n [PFR_2.author7120, 4],\n [PFR_2.author7175, 2],\n [PFR_2.author7188, 2],\n [PFR_2.author7440, 2],\n [PFR_2.author7472, 2],\n [PFR_2.author7632, 5],\n [PFR_2.author8198, 5],\n [PFR_2.author8219, 2],\n [PFR_2.author8250, 2],\n [PFR_2.author8398, 3],\n [PFR_2.author8469, 2],\n [PFR_2.author9394, 2],\n [PFR_2.author9451, 2],\n [PFR_2.author9555, 2],\n [PFR_2.author9612, 2],\n [PFR_2.author9688, 2],\n [PFR_2.author9717, 2],\n [PFR_2.author9743, 2],\n [PFR_2.author9774, 3],\n [PFR_2.author9926, 2],\n [PFR_2.author10079, 2],\n [PFR_2.author10082, 2],\n [PFR_2.author10083, 2],\n [PFR_2.author10090, 2],\n [PFR_2.author10245, 3],\n [PFR_2.author10273, 2],\n [PFR_2.author10277, 2],\n [PFR_2.author10353, 2],\n [PFR_2.author10360, 2],\n [PFR_2.author10481, 4],\n [PFR_2.author10498, 2],\n [PFR_2.author10566, 2],\n [PFR_2.author10667, 2],\n [PFR_2.author10672, 2],\n [PFR_2.author10811, 2],\n [PFR_2.author10854, 2],\n [PFR_2.author10960, 3],\n [PFR_2.author11088, 5],\n [PFR_2.author11218, 2],\n [PFR_2.author11248, 2],\n [PFR_2.author11299, 2],\n [PFR_2.author11463, 6],\n [PFR_2.author11503, 3],\n [PFR_2.author11775, 2],\n [PFR_2.author11779, 3],\n [PFR_2.author11804, 3],\n [PFR_2.author11843, 2],\n [PFR_2.author11922, 2],\n [PFR_2.author12270, 2],\n [PFR_2.author12500, 2],\n [PFR_2.author12594, 3],\n [PFR_2.author13009, 2],\n [PFR_2.author13128, 2],\n [PFR_2.author13143, 3],\n [PFR_2.author13552, 2],\n [PFR_2.author13864, 2],\n [PFR_2.author13877, 2],\n [PFR_2.author13894, 2],\n [PFR_2.author13899, 2],\n [PFR_2.author13901, 2],\n [PFR_2.author14190, 2],\n [PFR_2.author14350, 2],\n [PFR_2.author14822, 2],\n [PFR_2.author14926, 3],\n [PFR_2.author15056, 4],\n [PFR_2.author15126, 3],\n [PFR_2.author15338, 3],\n [PFR_2.author15505, 2],\n [PFR_2.author15705, 2],\n [PFR_2.author15869, 2],\n [PFR_2.author15969, 3],\n [PFR_2.author16337, 5],\n [PFR_2.author16343, 2],\n [PFR_2.author16370, 2],\n [PFR_2.author16607, 2],\n [PFR_2.author16731, 2],\n [PFR_2.author16767, 4],\n [PFR_2.author16852, 2],\n [PFR_2.author16921, 2],\n [PFR_2.author17049, 2],\n [PFR_2.author17093, 2],\n [PFR_2.author17115, 2],\n [PFR_2.author17330, 5],\n [PFR_2.author17365, 2],\n [PFR_2.author17396, 2],\n [PFR_2.author17520, 2],\n [PFR_2.author17599, 3],\n [PFR_2.author17601, 2],\n [PFR_2.author17703, 2],\n [PFR_2.author17781, 2],\n [PFR_2.author18020, 2],\n [PFR_2.author18129, 6],\n [PFR_2.author18266, 2],\n [PFR_2.author18347, 4],\n [PFR_2.author18729, 2],\n [PFR_2.author18772, 2],\n [PFR_2.author19157, 2],\n [PFR_2.author19289, 2],\n [PFR_2.author19632, 2],\n [PFR_2.author19635, 2],\n [PFR_2.author19672, 3],\n [PFR_2.author19935, 4],\n [PFR_2.author20112, 2],\n [PFR_2.author20127, 2],\n [PFR_2.author20370, 2],\n [PFR_2.author20467, 2],\n [PFR_2.author20727, 2],\n [PFR_2.author20851, 2],\n [PFR_2.author21227, 2],\n [PFR_2.author21263, 2],\n [PFR_2.author21298, 3],\n [PFR_2.author21390, 2],\n [PFR_2.author21572, 2],\n [PFR_2.author21833, 2],\n [PFR_2.author22103, 3],\n [PFR_2.author22127, 2],\n [PFR_2.author22409, 2],\n [PFR_2.author22577, 2],\n [PFR_2.author22698, 2],\n [PFR_2.author22730, 2],\n [PFR_2.author23350, 2],\n [PFR_2.author23422, 2],\n [PFR_2.author23678, 2],\n [PFR_2.author24226, 2],\n [PFR_2.author24238, 5],\n [PFR_2.author24248, 2],\n [PFR_2.author24441, 2],\n [PFR_2.author24839, 3],\n [PFR_2.author25209, 5],\n [PFR_2.author25362, 3],\n [PFR_2.author25406, 2],\n [PFR_2.author25411, 2],\n [PFR_2.author25801, 2],\n [PFR_2.author25829, 2],\n [PFR_2.author25936, 3],\n [PFR_2.author26105, 2],\n [PFR_2.author26156, 2],\n [PFR_2.author26303, 3],\n [PFR_2.author26903, 4],\n [PFR_2.author27168, 2],\n [PFR_2.author27247, 2],\n [PFR_2.author27305, 2],\n [PFR_2.author27368, 2],\n [PFR_2.author27571, 2],\n [PFR_2.author28231, 5],\n [PFR_2.author28658, 2],\n [PFR_2.author28910, 3]]"
     },
     "execution_count": 9,
     "metadata": {},
     "output_type": "execute_result"
    }
   ],
   "source": [
    "# recherchons les auteurs ayant plus d'une affiliation\n",
    "list(default_world.sparql(\"\"\"\n",
    "        SELECT ?auteur (COUNT(DISTINCT ?affiliation) AS ?nb_affiliations)\n",
    "        {\n",
    "        ?affiliation  <https://cp.org/ProjetFilRouge.owl#member> ?auteur.\n",
    "        }\n",
    "        GROUP BY ?auteur\n",
    "        HAVING (?nb_affiliations >1)\n",
    "        \"\"\"))"
   ],
   "metadata": {
    "collapsed": false
   }
  },
  {
   "cell_type": "code",
   "execution_count": 10,
   "outputs": [
    {
     "ename": "OperationalError",
     "evalue": "no such column: any5.o",
     "output_type": "error",
     "traceback": [
      "\u001B[1;31m---------------------------------------------------------------------------\u001B[0m",
      "\u001B[1;31mOperationalError\u001B[0m                          Traceback (most recent call last)",
      "Cell \u001B[1;32mIn[10], line 1\u001B[0m\n\u001B[1;32m----> 1\u001B[0m \u001B[38;5;28;43mlist\u001B[39;49m\u001B[43m(\u001B[49m\u001B[43mdefault_world\u001B[49m\u001B[38;5;241;43m.\u001B[39;49m\u001B[43msparql\u001B[49m\u001B[43m(\u001B[49m\u001B[38;5;124;43m\"\"\"\u001B[39;49m\n\u001B[0;32m      2\u001B[0m \u001B[38;5;124;43m       SELECT  ?aut ?name  ?label\u001B[39;49m\n\u001B[0;32m      3\u001B[0m \u001B[38;5;124;43m           \u001B[39;49m\u001B[38;5;124;43m{\u001B[39;49m\n\u001B[0;32m      4\u001B[0m \u001B[38;5;124;43m           ?aut <https://cp.org/ProjetFilRouge.owl#fullName> ?name.\u001B[39;49m\n\u001B[0;32m      5\u001B[0m \u001B[38;5;124;43m           ?aff  <https://cp.org/ProjetFilRouge.owl#member> ?aut.\u001B[39;49m\n\u001B[0;32m      6\u001B[0m \u001B[38;5;124;43m           ?aff <https://cp.org/ProjetFilRouge.owl#preLabel> ?label\u001B[39;49m\n\u001B[0;32m      7\u001B[0m \u001B[38;5;124;43m           }\u001B[39;49m\n\u001B[0;32m      8\u001B[0m \u001B[38;5;124;43m           GROUP BY ?auteur\u001B[39;49m\n\u001B[0;32m      9\u001B[0m \u001B[38;5;124;43m           HAVING (?nb_affiliations >1)\u001B[39;49m\n\u001B[0;32m     10\u001B[0m \u001B[38;5;124;43m        \u001B[39;49m\u001B[38;5;124;43m\"\"\"\u001B[39;49m\u001B[43m)\u001B[49m\u001B[43m)\u001B[49m\n",
      "File \u001B[1;32mD:\\PycharmProjects\\arxiv_m1\\venv\\Lib\\site-packages\\owlready2\\sparql\\main.py:336\u001B[0m, in \u001B[0;36mPreparedSelectQuery.execute\u001B[1;34m(self, params)\u001B[0m\n\u001B[0;32m    335\u001B[0m \u001B[38;5;28;01mdef\u001B[39;00m \u001B[38;5;21mexecute\u001B[39m(\u001B[38;5;28mself\u001B[39m, params \u001B[38;5;241m=\u001B[39m ()):\n\u001B[1;32m--> 336\u001B[0m   \u001B[38;5;28;01mfor\u001B[39;00m l \u001B[38;5;129;01min\u001B[39;00m \u001B[43mPreparedQuery\u001B[49m\u001B[38;5;241;43m.\u001B[39;49m\u001B[43mexecute\u001B[49m\u001B[43m(\u001B[49m\u001B[38;5;28;43mself\u001B[39;49m\u001B[43m,\u001B[49m\u001B[43m \u001B[49m\u001B[43mparams\u001B[49m\u001B[43m)\u001B[49m:\n\u001B[0;32m    337\u001B[0m     l2 \u001B[38;5;241m=\u001B[39m []\n\u001B[0;32m    338\u001B[0m     i \u001B[38;5;241m=\u001B[39m \u001B[38;5;241m0\u001B[39m\n",
      "File \u001B[1;32mD:\\PycharmProjects\\arxiv_m1\\venv\\Lib\\site-packages\\owlready2\\sparql\\main.py:332\u001B[0m, in \u001B[0;36mPreparedQuery.execute\u001B[1;34m(self, params)\u001B[0m\n\u001B[0;32m    330\u001B[0m sql_params \u001B[38;5;241m=\u001B[39m [\u001B[38;5;28mself\u001B[39m\u001B[38;5;241m.\u001B[39mworld\u001B[38;5;241m.\u001B[39m_to_rdf(param)[\u001B[38;5;241m0\u001B[39m] \u001B[38;5;28;01mfor\u001B[39;00m param \u001B[38;5;129;01min\u001B[39;00m params]\n\u001B[0;32m    331\u001B[0m \u001B[38;5;28;01mfor\u001B[39;00m i \u001B[38;5;129;01min\u001B[39;00m \u001B[38;5;28mself\u001B[39m\u001B[38;5;241m.\u001B[39mparameter_datatypes: sql_params\u001B[38;5;241m.\u001B[39mappend(\u001B[38;5;28mself\u001B[39m\u001B[38;5;241m.\u001B[39mworld\u001B[38;5;241m.\u001B[39m_to_rdf(params[i])[\u001B[38;5;241m1\u001B[39m])\n\u001B[1;32m--> 332\u001B[0m \u001B[38;5;28;01mreturn\u001B[39;00m \u001B[38;5;28;43mself\u001B[39;49m\u001B[38;5;241;43m.\u001B[39;49m\u001B[43mworld\u001B[49m\u001B[38;5;241;43m.\u001B[39;49m\u001B[43mgraph\u001B[49m\u001B[38;5;241;43m.\u001B[39;49m\u001B[43mexecute\u001B[49m\u001B[43m(\u001B[49m\u001B[38;5;28;43mself\u001B[39;49m\u001B[38;5;241;43m.\u001B[39;49m\u001B[43msql\u001B[49m\u001B[43m,\u001B[49m\u001B[43m \u001B[49m\u001B[43msql_params\u001B[49m\u001B[43m)\u001B[49m\n",
      "\u001B[1;31mOperationalError\u001B[0m: no such column: any5.o"
     ]
    }
   ],
   "source": [
    "list(default_world.sparql(\"\"\"\n",
    "       SELECT  ?aut ?name  ?label\n",
    "           {\n",
    "           ?aut <https://cp.org/ProjetFilRouge.owl#fullName> ?name.\n",
    "           ?aff  <https://cp.org/ProjetFilRouge.owl#member> ?aut.\n",
    "           ?aff <https://cp.org/ProjetFilRouge.owl#preLabel> ?label\n",
    "           }\n",
    "           GROUP BY ?auteur\n",
    "           HAVING (?nb_affiliations >1)\n",
    "        \"\"\"))"
   ],
   "metadata": {
    "collapsed": false
   }
  },
  {
   "cell_type": "code",
   "execution_count": null,
   "outputs": [],
   "source": [],
   "metadata": {
    "collapsed": false
   }
  },
  {
   "cell_type": "code",
   "execution_count": null,
   "outputs": [],
   "source": [],
   "metadata": {
    "collapsed": false
   }
  },
  {
   "cell_type": "code",
   "execution_count": null,
   "outputs": [],
   "source": [
    "for row in results:\n",
    "    print((row))\n",
    "    #print(row.auteur, \"a\", row.nb_affiliations, \"affiliations\")"
   ],
   "metadata": {
    "collapsed": false
   }
  },
  {
   "cell_type": "code",
   "execution_count": null,
   "outputs": [],
   "source": [
    "results = list(default_world.sparql(query))"
   ],
   "metadata": {
    "collapsed": false
   }
  },
  {
   "cell_type": "code",
   "execution_count": null,
   "outputs": [],
   "source": [
    "print(results)"
   ],
   "metadata": {
    "collapsed": false
   }
  },
  {
   "cell_type": "code",
   "execution_count": null,
   "outputs": [],
   "source": [
    "list(default_world.sparql(query))\n"
   ],
   "metadata": {
    "collapsed": false
   }
  },
  {
   "cell_type": "code",
   "execution_count": 11,
   "outputs": [],
   "source": [
    "rule = \"PREFIX : <https://cp.org/ProjetFilRouge.owl#> \" \\\n",
    "       \"SELECT ?auteur (COUNT(DISTINCT ?affiliation) AS ?nb_affiliations) \" \\\n",
    "       \"WHERE { \" \\\n",
    "       \"  ?affiliation  <https://cp.org/ProjetFilRouge.owl#member> ?auteur. \" \\\n",
    "       \"} \" \\\n",
    "       \"GROUP BY ?auteur\""
   ],
   "metadata": {
    "collapsed": false
   }
  },
  {
   "cell_type": "code",
   "execution_count": 12,
   "outputs": [],
   "source": [
    "rule2 = \"PREFIX : <https://cp.org/ProjetFilRouge.owl#> \" \\\n",
    "       \"SELECT (COUNT(?affiliation) AS ?nb_affiliations) \" \\\n",
    "       \"WHERE { \" \\\n",
    "       \"  ?auteur a PFR_2:Author . \" \\\n",
    "       \"}\""
   ],
   "metadata": {
    "collapsed": false
   }
  },
  {
   "cell_type": "code",
   "execution_count": null,
   "outputs": [],
   "source": [],
   "metadata": {
    "collapsed": false
   }
  },
  {
   "cell_type": "code",
   "execution_count": null,
   "outputs": [],
   "source": [],
   "metadata": {
    "collapsed": false
   }
  },
  {
   "cell_type": "code",
   "execution_count": null,
   "outputs": [],
   "source": [],
   "metadata": {
    "collapsed": false
   }
  },
  {
   "cell_type": "code",
   "execution_count": null,
   "outputs": [],
   "source": [],
   "metadata": {
    "collapsed": false
   }
  },
  {
   "cell_type": "code",
   "execution_count": null,
   "outputs": [],
   "source": [
    "{ SELECT ?x ( count(?order) as ?q ) { ?x :order ?order } GROUP BY ?x }"
   ],
   "metadata": {
    "collapsed": false
   }
  },
  {
   "cell_type": "code",
   "execution_count": null,
   "outputs": [],
   "source": [
    "l= list(default_world.sparql(\"\"\"\n",
    "           SELECT  ?aut ?name (COUNT(?aff) as ?c) ?label\n",
    "           {\n",
    "\n",
    "             ?aut <https://cp.org/ProjetFilRouge.owl#fullName> ?name.\n",
    "             ?aff  <https://cp.org/ProjetFilRouge.owl#member> ?aut.\n",
    "             ?aff <https://cp.org/ProjetFilRouge.owl#preLabel> ?label\n",
    "             }\n",
    "\n",
    "\n",
    "    \"\"\")) # GROUP BY ?aut    HAVING (?c >1)"
   ],
   "metadata": {
    "collapsed": false
   }
  },
  {
   "cell_type": "code",
   "execution_count": null,
   "outputs": [],
   "source": [
    "# Get the number of OWL Class in GO\n",
    "list(default_world.sparql(\"\"\"\n",
    "           SELECT (COUNT(?x) AS ?nb)\n",
    "           { ?x a owl:Class . FILTER(ISIRI(?x)) }\n",
    "    \"\"\"))"
   ],
   "metadata": {
    "collapsed": false
   }
  },
  {
   "cell_type": "code",
   "execution_count": null,
   "outputs": [],
   "source": [
    "for i in l:\n",
    "    print (i)"
   ],
   "metadata": {
    "collapsed": false
   }
  },
  {
   "cell_type": "code",
   "execution_count": null,
   "outputs": [],
   "source": [
    "for i in onto.properties():  #All classes\n",
    "    print (i.iri)"
   ],
   "metadata": {
    "collapsed": false
   }
  },
  {
   "cell_type": "code",
   "execution_count": null,
   "outputs": [],
   "source": [],
   "metadata": {
    "collapsed": false
   }
  }
 ],
 "metadata": {
  "kernelspec": {
   "display_name": "Python 3",
   "language": "python",
   "name": "python3"
  },
  "language_info": {
   "codemirror_mode": {
    "name": "ipython",
    "version": 2
   },
   "file_extension": ".py",
   "mimetype": "text/x-python",
   "name": "python",
   "nbconvert_exporter": "python",
   "pygments_lexer": "ipython2",
   "version": "2.7.6"
  }
 },
 "nbformat": 4,
 "nbformat_minor": 0
}
